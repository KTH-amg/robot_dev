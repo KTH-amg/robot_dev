{
 "cells": [
  {
   "cell_type": "code",
   "execution_count": 1,
   "id": "b2e192e5-6392-483c-a0ff-8f413c900bb5",
   "metadata": {},
   "outputs": [
    {
     "name": "stdout",
     "output_type": "stream",
     "text": [
      "Hello World\n"
     ]
    }
   ],
   "source": [
    "print(\"Hello World\")"
   ]
  },
  {
   "cell_type": "markdown",
   "id": "55c43537",
   "metadata": {},
   "source": [
    "### for문 예시\n",
    "---\n",
    "* 다음과 같이 for문으로 리스트 내의 모든 원소들을 순차적으로 출력할 수 있다."
   ]
  },
  {
   "cell_type": "code",
   "execution_count": 21,
   "id": "c1e1e5bb",
   "metadata": {},
   "outputs": [
    {
     "name": "stdout",
     "output_type": "stream",
     "text": [
      "Fernando\n",
      "Lance\n",
      "Esteban\n",
      "Andrea Kimi\n",
      "Pierre\n",
      "Yuki\n"
     ]
    }
   ],
   "source": [
    "items = [\"Fernando\", \"Lance\", \"Esteban\", \"Andrea Kimi\", \"Pierre\", \"Yuki\"]\n",
    "\n",
    "for item in items:\n",
    "    print(item)"
   ]
  },
  {
   "cell_type": "markdown",
   "id": "9bad1cfc",
   "metadata": {},
   "source": [
    "## 수식\n",
    "\\begin{align}\n",
    "\\dot{x} & = \\sigma(y-x) \\\\\n",
    "\\dot{y} & = \\rho x - y - xz \\\\\n",
    "\\dot{z} & = -\\beta z + xy\n",
    "\\end{align}\n",
    "\n",
    "* $\\sqrt{3x-1}+(1+x)^2$"
   ]
  }
 ],
 "metadata": {
  "kernelspec": {
   "display_name": "eda_venv",
   "language": "python",
   "name": "python3"
  },
  "language_info": {
   "codemirror_mode": {
    "name": "ipython",
    "version": 3
   },
   "file_extension": ".py",
   "mimetype": "text/x-python",
   "name": "python",
   "nbconvert_exporter": "python",
   "pygments_lexer": "ipython3",
   "version": "3.10.12"
  }
 },
 "nbformat": 4,
 "nbformat_minor": 5
}
