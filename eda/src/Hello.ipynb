{
 "cells": [
  {
   "cell_type": "code",
   "execution_count": 1,
   "id": "b2e192e5-6392-483c-a0ff-8f413c900bb5",
   "metadata": {},
   "outputs": [
    {
     "name": "stdout",
     "output_type": "stream",
     "text": [
      "Hello World\n"
     ]
    }
   ],
   "source": [
    "print(\"Hello World\")"
   ]
  },
  {
   "cell_type": "markdown",
   "id": "55c43537",
   "metadata": {},
   "source": [
    "### for문 예시\n",
    "---\n",
    "* 다음과 같이 for문으로 리스트 내의 모든 원소들을 순차적으로 출력할 수 있다."
   ]
  },
  {
   "cell_type": "code",
   "execution_count": 21,
   "id": "c1e1e5bb",
   "metadata": {},
   "outputs": [
    {
     "name": "stdout",
     "output_type": "stream",
     "text": [
      "Fernando\n",
      "Lance\n",
      "Esteban\n",
      "Andrea Kimi\n",
      "Pierre\n",
      "Yuki\n"
     ]
    }
   ],
   "source": [
    "items = [\"Fernando\", \"Lance\", \"Esteban\", \"Andrea Kimi\", \"Pierre\", \"Yuki\"]\n",
    "\n",
    "for item in items:\n",
    "    print(item)"
   ]
  },
  {
   "cell_type": "markdown",
   "id": "9bad1cfc",
   "metadata": {},
   "source": [
    "## 수식\n",
    "\\begin{align}\n",
    "\\dot{x} & = \\sigma(y-x) \\\\\n",
    "\\dot{y} & = \\rho x - y - xz \\\\\n",
    "\\dot{z} & = -\\beta z + xy\n",
    "\\end{align}\n",
    "\n",
    "* $\\sqrt{3x-1}+(1+x)^2$"
   ]
  },
  {
   "cell_type": "markdown",
   "id": "2f15a6b5",
   "metadata": {},
   "source": [
    "## 연습장"
   ]
  },
  {
   "cell_type": "code",
   "execution_count": 8,
   "id": "d2d855c4",
   "metadata": {},
   "outputs": [],
   "source": [
    "from selenium import webdriver\n",
    "from selenium.webdriver.chrome.service import Service\n",
    "\n",
    "driver = webdriver.Chrome(service=Service(\"../driver/chromedriver\"))\n",
    "driver.get(\"https://www.formula1.com/\")"
   ]
  },
  {
   "cell_type": "code",
   "execution_count": 9,
   "id": "88972360",
   "metadata": {},
   "outputs": [
    {
     "name": "stdout",
     "output_type": "stream",
     "text": [
      "[ 0 ] ================================\n",
      "<span class=\"grid grid-flow-col grid-cols-[auto_max-content] laptop:grid-cols-max gap-[6px] w-full laptop:pb-xs laptop:pt-[4px] laptop:relative laptop:top-[6px] laptop:border-r laptop:border-b laptop:rounded-br-xs laptop:px-[4px] laptop:border-transparent\"><span class=\"leading-none h-[16px] text-14 laptop:text-12 desktop:text-14\">Latest</span><span aria-hidden=\"true\" class=\"font-icomoon font-light m-auto leading-none text-16 text-undefined icon-chevron-right laptop:hidden mr-[12px]\"></span><span aria-hidden=\"true\" class=\"font-icomoon font-light m-auto leading-none text-16 text-undefined icon-chevron-down hidden laptop:grid relative -top-[2px]\"></span></span>\n",
      "[ 1 ] ================================\n",
      "<span class=\"grid grid-flow-col grid-cols-[auto_max-content] laptop:grid-cols-max gap-[6px] w-full laptop:pb-xs laptop:pt-[4px] laptop:relative laptop:top-[6px] laptop:border-r laptop:border-b laptop:rounded-br-xs laptop:px-[4px] laptop:border-transparent grid w-full !gap-0 laptop:pb-xs laptop:pt-[4px]\"><span class=\"leading-none h-[16px] text-14 laptop:text-12 desktop:text-14\">Video</span><span aria-hidden=\"true\" class=\"font-icomoon font-light m-auto leading-none text-16 text-undefined icon-chevron-right laptop:hidden mr-[12px]\"></span></span>\n",
      "[ 2 ] ================================\n",
      "<span class=\"grid grid-flow-col grid-cols-[auto_max-content] laptop:grid-cols-max gap-[6px] w-full laptop:pb-xs laptop:pt-[4px] laptop:relative laptop:top-[6px] laptop:border-r laptop:border-b laptop:rounded-br-xs laptop:px-[4px] laptop:border-transparent grid w-full !gap-0 laptop:pb-xs laptop:pt-[4px]\"><span class=\"leading-none h-[16px] text-14 laptop:text-12 desktop:text-14\">F1 Unlocked</span><span aria-hidden=\"true\" class=\"font-icomoon font-light m-auto leading-none text-16 text-undefined icon-chevron-right laptop:hidden mr-[12px]\"></span></span>\n",
      "[ 3 ] ================================\n",
      "<span class=\"grid grid-flow-col grid-cols-[auto_max-content] laptop:grid-cols-max gap-[6px] w-full laptop:pb-xs laptop:pt-[4px] laptop:relative laptop:top-[6px] laptop:border-r laptop:border-b laptop:rounded-br-xs laptop:px-[4px] laptop:border-transparent\"><span class=\"leading-none h-[16px] text-14 laptop:text-12 desktop:text-14\">Schedule</span><span aria-hidden=\"true\" class=\"font-icomoon font-light m-auto leading-none text-16 text-undefined icon-chevron-right laptop:hidden mr-[12px]\"></span><span aria-hidden=\"true\" class=\"font-icomoon font-light m-auto leading-none text-16 text-undefined icon-chevron-down hidden laptop:grid relative -top-[2px]\"></span></span>\n",
      "[ 4 ] ================================\n",
      "<span class=\"grid grid-flow-col grid-cols-[auto_max-content] laptop:grid-cols-max gap-[6px] w-full laptop:pb-xs laptop:pt-[4px] laptop:relative laptop:top-[6px] laptop:border-r laptop:border-b laptop:rounded-br-xs laptop:px-[4px] laptop:border-transparent\"><span class=\"leading-none h-[16px] text-14 laptop:text-12 desktop:text-14\">Results</span><span aria-hidden=\"true\" class=\"font-icomoon font-light m-auto leading-none text-16 text-undefined icon-chevron-right laptop:hidden mr-[12px]\"></span><span aria-hidden=\"true\" class=\"font-icomoon font-light m-auto leading-none text-16 text-undefined icon-chevron-down hidden laptop:grid relative -top-[2px]\"></span></span>\n",
      "[ 5 ] ================================\n",
      "<span class=\"grid grid-flow-col grid-cols-[auto_max-content] laptop:grid-cols-max gap-[6px] w-full laptop:pb-xs laptop:pt-[4px] laptop:relative laptop:top-[6px] laptop:border-r laptop:border-b laptop:rounded-br-xs laptop:px-[4px] laptop:border-transparent\"><span class=\"leading-none h-[16px] text-14 laptop:text-12 desktop:text-14\">Drivers</span><span aria-hidden=\"true\" class=\"font-icomoon font-light m-auto leading-none text-16 text-undefined icon-chevron-right laptop:hidden mr-[12px]\"></span><span aria-hidden=\"true\" class=\"font-icomoon font-light m-auto leading-none text-16 text-undefined icon-chevron-down hidden laptop:grid relative -top-[2px]\"></span></span>\n",
      "[ 6 ] ================================\n",
      "<span class=\"grid grid-flow-col grid-cols-[auto_max-content] laptop:grid-cols-max gap-[6px] w-full laptop:pb-xs laptop:pt-[4px] laptop:relative laptop:top-[6px] laptop:border-r laptop:border-b laptop:rounded-br-xs laptop:px-[4px] laptop:border-transparent\"><span class=\"leading-none h-[16px] text-14 laptop:text-12 desktop:text-14\">Teams</span><span aria-hidden=\"true\" class=\"font-icomoon font-light m-auto leading-none text-16 text-undefined icon-chevron-right laptop:hidden mr-[12px]\"></span><span aria-hidden=\"true\" class=\"font-icomoon font-light m-auto leading-none text-16 text-undefined icon-chevron-down hidden laptop:grid relative -top-[2px]\"></span></span>\n",
      "[ 7 ] ================================\n",
      "<span class=\"grid grid-flow-col grid-cols-[auto_max-content] laptop:grid-cols-max gap-[6px] w-full laptop:pb-xs laptop:pt-[4px] laptop:relative laptop:top-[6px] laptop:border-r laptop:border-b laptop:rounded-br-xs laptop:px-[4px] laptop:border-transparent\"><span class=\"leading-none h-[16px] text-14 laptop:text-12 desktop:text-14\">Gaming</span><span aria-hidden=\"true\" class=\"font-icomoon font-light m-auto leading-none text-16 text-undefined icon-chevron-right laptop:hidden mr-[12px]\"></span><span aria-hidden=\"true\" class=\"font-icomoon font-light m-auto leading-none text-16 text-undefined icon-chevron-down hidden laptop:grid relative -top-[2px]\"></span></span>\n",
      "[ 8 ] ================================\n",
      "<span class=\"grid grid-flow-col grid-cols-[auto_max-content] laptop:grid-cols-max gap-[6px] w-full laptop:pb-xs laptop:pt-[4px] laptop:relative laptop:top-[6px] laptop:border-r laptop:border-b laptop:rounded-br-xs laptop:px-[4px] laptop:border-transparent grid w-full !gap-0 laptop:pb-xs laptop:pt-[4px]\"><span class=\"leading-none h-[16px] text-14 laptop:text-12 desktop:text-14\">Live Timing</span><span aria-hidden=\"true\" class=\"font-icomoon font-light m-auto leading-none text-16 text-undefined icon-chevron-right laptop:hidden mr-[12px]\"></span></span>\n"
     ]
    }
   ],
   "source": [
    "from selenium.webdriver.common.by import By\n",
    "from selenium.webdriver.common.keys import Keys\n",
    "\n",
    "menu = driver.find_element(By.XPATH, \"//*[@id=\\\"siteHeader\\\"]/section[3]/nav/ul\")\n",
    "li_list = menu.find_elements(By.TAG_NAME, \"a\")\n",
    "for idx, li in enumerate(li_list):\n",
    "    print(\"[ \" + str(idx) + \" ] ================================\")\n",
    "    print(li.get_attribute('innerHTML'))"
   ]
  },
  {
   "cell_type": "code",
   "execution_count": 10,
   "id": "9284603e",
   "metadata": {},
   "outputs": [],
   "source": [
    "schedule = li_list[3]\n",
    "schedule.click()"
   ]
  },
  {
   "cell_type": "code",
   "execution_count": 11,
   "id": "4164817b",
   "metadata": {},
   "outputs": [
    {
     "name": "stdout",
     "output_type": "stream",
     "text": [
      "2025 FIA FORMULA ONE WORLD CHAMPIONSHIP™ RACE CALENDAR\n",
      "TESTING\n",
      "26-28\n",
      "Sakhir\n",
      "FORMULA 1 ARAMCO PRE-SEASON TESTING 2025\n",
      "F1 Experiences\n",
      "F1 Tickets\n",
      "F1 TV\n",
      "ROUND 1 - UP NEXT\n",
      "14-16\n",
      "Australia\n",
      "FORMULA 1 LOUIS VUITTON AUSTRALIAN GRAND PRIX 2025\n",
      "PRACTICE 1\n",
      "FRI\n",
      "12:30 - 13:30\n",
      "PRACTICE 2\n",
      "FRI\n",
      "16:00 - 17:00\n",
      "PRACTICE 3\n",
      "SAT\n",
      "12:30 - 13:30\n",
      "QUALIFYING\n",
      "SAT\n",
      "16:00 - 17:00\n",
      "RACE\n",
      "SUN\n",
      "15:00\n",
      "Times displayed are track times\n",
      "ROUND 2\n",
      "21-23\n",
      "China\n",
      "FORMULA 1 HEINEKEN CHINESE GRAND PRIX 2025\n",
      "ROUND 3\n",
      "04-06\n",
      "Japan\n",
      "FORMULA 1 LENOVO JAPANESE GRAND PRIX 2025\n",
      "ROUND 4\n",
      "11-13\n",
      "Bahrain\n",
      "FORMULA 1 GULF AIR BAHRAIN GRAND PRIX 2025\n",
      "ROUND 5\n",
      "18-20\n",
      "Saudi Arabia\n",
      "FORMULA 1 STC SAUDI ARABIAN GRAND PRIX 2025\n",
      "ROUND 6\n",
      "02-04\n",
      "Miami\n",
      "FORMULA 1 CRYPTO.COM MIAMI GRAND PRIX 2025\n",
      "ROUND 7\n",
      "16-18\n",
      "Emilia-Romagna\n",
      "FORMULA 1 AWS GRAN PREMIO DEL MADE IN ITALY E DELL'EMILIA-ROMAGNA 2025\n",
      "ROUND 8\n",
      "23-25\n",
      "Monaco\n",
      "FORMULA 1 TAG HEUER GRAND PRIX DE MONACO 2025\n",
      "ROUND 9\n",
      "30-01\n",
      "Spain\n",
      "FORMULA 1 ARAMCO GRAN PREMIO DE ESPAÑA 2025\n",
      "ROUND 10\n",
      "13-15\n",
      "Canada\n",
      "FORMULA 1 PIRELLI GRAND PRIX DU CANADA 2025\n",
      "ROUND 11\n",
      "27-29\n",
      "Austria\n",
      "FORMULA 1 MSC CRUISES AUSTRIAN GRAND PRIX 2025\n",
      "ROUND 12\n",
      "04-06\n",
      "Great Britain\n",
      "FORMULA 1 QATAR AIRWAYS BRITISH GRAND PRIX 2025\n",
      "ROUND 13\n",
      "25-27\n",
      "Belgium\n",
      "FORMULA 1 MOËT & CHANDON BELGIAN GRAND PRIX 2025\n",
      "ROUND 14\n",
      "01-03\n",
      "Hungary\n",
      "FORMULA 1 LENOVO HUNGARIAN GRAND PRIX 2025\n",
      "ROUND 15\n",
      "29-31\n",
      "Netherlands\n",
      "FORMULA 1 HEINEKEN DUTCH GRAND PRIX 2025\n",
      "ROUND 16\n",
      "05-07\n",
      "Italy\n",
      "FORMULA 1 PIRELLI GRAN PREMIO D’ITALIA 2025\n",
      "ROUND 17\n",
      "19-21\n",
      "Azerbaijan\n",
      "FORMULA 1 QATAR AIRWAYS AZERBAIJAN GRAND PRIX 2025\n",
      "ROUND 18\n",
      "03-05\n",
      "Singapore\n",
      "FORMULA 1 SINGAPORE AIRLINES SINGAPORE GRAND PRIX 2025\n",
      "ROUND 19\n",
      "17-19\n",
      "United States\n",
      "FORMULA 1 MSC CRUISES UNITED STATES GRAND PRIX 2025\n",
      "ROUND 20\n",
      "24-26\n",
      "Mexico\n",
      "FORMULA 1 GRAN PREMIO DE LA CIUDAD DE MÉXICO 2025\n",
      "ROUND 21\n",
      "07-09\n",
      "Brazil\n",
      "FORMULA 1 MSC CRUISES GRANDE PRÊMIO DE SÃO PAULO 2025\n",
      "ROUND 22\n",
      "20-22\n",
      "Las Vegas\n",
      "FORMULA 1 HEINEKEN LAS VEGAS GRAND PRIX 2025\n",
      "ROUND 23\n",
      "28-30\n",
      "Qatar\n",
      "FORMULA 1 QATAR AIRWAYS QATAR GRAND PRIX 2025\n",
      "ROUND 24\n",
      "05-07\n",
      "Abu Dhabi\n",
      "FORMULA 1 ETIHAD AIRWAYS ABU DHABI GRAND PRIX 2025\n",
      "SEASON\n",
      "2024\n",
      "Formula 2\n",
      "Check out the F2 season calendar\n",
      "Formula 3\n",
      "Check out the F3 season calendar\n",
      "© 2003-2025 Formula One World Championship Limited\n"
     ]
    }
   ],
   "source": [
    "schedule_list = driver.find_elements(By.TAG_NAME, \"p\")\n",
    "for game in schedule_list:\n",
    "    print(game.text)"
   ]
  },
  {
   "cell_type": "code",
   "execution_count": 6,
   "id": "39c4fddc",
   "metadata": {},
   "outputs": [],
   "source": [
    "jp = li_list[2]\n",
    "jp.click()"
   ]
  },
  {
   "cell_type": "code",
   "execution_count": 12,
   "id": "37555d01",
   "metadata": {},
   "outputs": [],
   "source": [
    "driver.quit()"
   ]
  },
  {
   "cell_type": "code",
   "execution_count": null,
   "id": "37f3b9d6",
   "metadata": {},
   "outputs": [],
   "source": []
  }
 ],
 "metadata": {
  "kernelspec": {
   "display_name": "eda_venv",
   "language": "python",
   "name": "python3"
  },
  "language_info": {
   "codemirror_mode": {
    "name": "ipython",
    "version": 3
   },
   "file_extension": ".py",
   "mimetype": "text/x-python",
   "name": "python",
   "nbconvert_exporter": "python",
   "pygments_lexer": "ipython3",
   "version": "3.12.7"
  }
 },
 "nbformat": 4,
 "nbformat_minor": 5
}
