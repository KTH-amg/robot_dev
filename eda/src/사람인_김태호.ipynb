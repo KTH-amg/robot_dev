{
 "cells": [
  {
   "cell_type": "markdown",
   "metadata": {},
   "source": [
    "## 사람인 사이트 접속 및 검색"
   ]
  },
  {
   "cell_type": "code",
   "execution_count": 5,
   "metadata": {},
   "outputs": [],
   "source": [
    "from selenium import webdriver\n",
    "from selenium.webdriver.chrome.service import Service\n",
    "from selenium.webdriver.common.by import By\n",
    "from selenium.webdriver.common.keys import Keys\n",
    "\n",
    "url = \"https://www.saramin.co.kr/\"\n",
    "driver = webdriver.Chrome(service=Service(\"../driver/chromedriver\"))\n",
    "\n",
    "driver.get(url)"
   ]
  },
  {
   "cell_type": "code",
   "execution_count": 6,
   "metadata": {},
   "outputs": [],
   "source": [
    "search_btn = driver.find_element(By.CLASS_NAME, \"btn_search\")\n",
    "search_btn.click()"
   ]
  },
  {
   "cell_type": "code",
   "execution_count": 7,
   "metadata": {},
   "outputs": [],
   "source": [
    "search_holder = driver.find_element(By.TAG_NAME, \"input\")\n",
    "search_holder.send_keys(\"로봇 SW 개발\")\n",
    "search_holder.send_keys(Keys.ENTER)"
   ]
  },
  {
   "cell_type": "code",
   "execution_count": 8,
   "metadata": {},
   "outputs": [],
   "source": [
    "search_tab = driver.find_element(By.CLASS_NAME, \"tab_search_result.on\")\n",
    "tab_list = search_tab.find_elements(By.TAG_NAME, \"a\")\n",
    "\n",
    "info = tab_list[2]\n",
    "info.click()"
   ]
  },
  {
   "cell_type": "markdown",
   "metadata": {},
   "source": [
    "## 정보 확인(첫번째만)"
   ]
  },
  {
   "cell_type": "code",
   "execution_count": 9,
   "metadata": {},
   "outputs": [
    {
     "name": "stdout",
     "output_type": "stream",
     "text": [
      "(주)로보티즈\n"
     ]
    },
    {
     "data": {
      "text/plain": [
       "'\\ncorp_name = corp_boxes[0].find_element(By.CLASS_NAME, \"corp_name\")\\ncorp_infos = corp_boxes[0].find_elements(By.TAG_NAME, \"dd\")\\n\\nprint(corp_name.text)\\nfor info in corp_infos:\\n    print(info.text)\\n'"
      ]
     },
     "execution_count": 9,
     "metadata": {},
     "output_type": "execute_result"
    }
   ],
   "source": [
    "from selenium.webdriver.common.action_chains import ActionChains\n",
    "\n",
    "corp_popup = driver.find_elements(By.CLASS_NAME, \"company_popup\")\n",
    "'''\n",
    "for corp_box in corp_boxes:\n",
    "    corp_name = corp_boxes.find_element(By.CLASS_NAME, \"corp_name\")\n",
    "    corp_infos = corp_boxes.find_elements(By.TAG_NAME, \"dd\")\n",
    "'''\n",
    "print(corp_popup[0].text)\n",
    "ActionChains(driver).move_to_element(corp_popup[0]).perform()\n",
    "corp_popup[0].send_keys(Keys.ENTER)\n",
    "'''\n",
    "corp_name = corp_boxes[0].find_element(By.CLASS_NAME, \"corp_name\")\n",
    "corp_infos = corp_boxes[0].find_elements(By.TAG_NAME, \"dd\")\n",
    "\n",
    "print(corp_name.text)\n",
    "for info in corp_infos:\n",
    "    print(info.text)\n",
    "'''"
   ]
  },
  {
   "cell_type": "code",
   "execution_count": 18,
   "metadata": {},
   "outputs": [
    {
     "name": "stdout",
     "output_type": "stream",
     "text": [
      "그 외 기타 특수목적용 기계 제조업\n"
     ]
    }
   ],
   "source": [
    "from selenium.webdriver.support.wait import WebDriverWait\n",
    "from selenium.webdriver.support import expected_conditions as EC\n",
    "import time\n",
    "\n",
    "driver.switch_to.window(driver.window_handles[-1]) \n",
    "driver.refresh()\n",
    "\n",
    "title = WebDriverWait(driver, 3).until(\n",
    "    EC.presence_of_element_located((By.CLASS_NAME, \"company_details\")))\n",
    "\n",
    "a = title.find_elements(By.TAG_NAME, \"dd\")\n",
    "print(a[0].text)"
   ]
  },
  {
   "cell_type": "code",
   "execution_count": 28,
   "metadata": {},
   "outputs": [],
   "source": [
    "driver.back()"
   ]
  },
  {
   "cell_type": "code",
   "execution_count": 4,
   "metadata": {},
   "outputs": [],
   "source": [
    "driver.quit()"
   ]
  },
  {
   "cell_type": "code",
   "execution_count": null,
   "metadata": {},
   "outputs": [],
   "source": []
  }
 ],
 "metadata": {
  "kernelspec": {
   "display_name": "eda_venv",
   "language": "python",
   "name": "python3"
  },
  "language_info": {
   "codemirror_mode": {
    "name": "ipython",
    "version": 3
   },
   "file_extension": ".py",
   "mimetype": "text/x-python",
   "name": "python",
   "nbconvert_exporter": "python",
   "pygments_lexer": "ipython3",
   "version": "3.12.8"
  }
 },
 "nbformat": 4,
 "nbformat_minor": 2
}
