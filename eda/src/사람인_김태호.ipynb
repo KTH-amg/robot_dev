{
 "cells": [
  {
   "cell_type": "markdown",
   "metadata": {},
   "source": [
    "## 사람인 사이트 접속 및 검색"
   ]
  },
  {
   "cell_type": "code",
   "execution_count": 1,
   "metadata": {},
   "outputs": [],
   "source": [
    "from selenium import webdriver\n",
    "from selenium.webdriver.chrome.service import Service\n",
    "from selenium.webdriver.common.by import By\n",
    "from selenium.webdriver.common.keys import Keys\n",
    "\n",
    "url = \"https://www.saramin.co.kr/\"\n",
    "driver = webdriver.Chrome(service=Service(\"../driver/chromedriver\"))\n",
    "\n",
    "driver.get(url)"
   ]
  },
  {
   "cell_type": "code",
   "execution_count": 2,
   "metadata": {},
   "outputs": [],
   "source": [
    "search_btn = driver.find_element(By.CLASS_NAME, \"btn_search\")\n",
    "search_btn.click()"
   ]
  },
  {
   "cell_type": "code",
   "execution_count": 3,
   "metadata": {},
   "outputs": [],
   "source": [
    "search_holder = driver.find_element(By.TAG_NAME, \"input\")\n",
    "search_holder.send_keys(\"로봇 SW 개발\")\n",
    "search_holder.send_keys(Keys.ENTER)"
   ]
  },
  {
   "cell_type": "code",
   "execution_count": 4,
   "metadata": {},
   "outputs": [],
   "source": [
    "search_tab = driver.find_element(By.CLASS_NAME, \"tab_search_result.on\")\n",
    "tab_list = search_tab.find_elements(By.TAG_NAME, \"a\")\n",
    "\n",
    "info = tab_list[2]\n",
    "info.click()"
   ]
  },
  {
   "cell_type": "markdown",
   "metadata": {},
   "source": [
    "## 정보 확인(첫번째만)"
   ]
  },
  {
   "cell_type": "code",
   "execution_count": 5,
   "metadata": {},
   "outputs": [
    {
     "name": "stdout",
     "output_type": "stream",
     "text": [
      "(주)로보티즈\n"
     ]
    }
   ],
   "source": [
    "from selenium.webdriver.common.action_chains import ActionChains\n",
    "\n",
    "corp_popup = driver.find_elements(By.CLASS_NAME, \"company_popup\")\n",
    "\n",
    "print(corp_popup[0].text)\n",
    "ActionChains(driver).move_to_element(corp_popup[0]).perform()\n",
    "corp_popup[0].send_keys(Keys.ENTER)"
   ]
  },
  {
   "cell_type": "code",
   "execution_count": 15,
   "metadata": {},
   "outputs": [
    {
     "name": "stdout",
     "output_type": "stream",
     "text": [
      "(주)로보티즈\n",
      "그 외 기타 특수목적용 기계 제조업\n",
      "김병수\n",
      "http://www.robotis.com\n",
      "로봇솔루션(로봇에츄에이터모듈,구동소프트웨어),로봇,로봇부품,실내외자율주행로봇 제조,도소매,연구개발/무역\n",
      "서울 강서구 마곡중앙5로1길 37\n",
      "업력 27년차\n",
      "6\n",
      "158 명\n",
      "5,406\n"
     ]
    }
   ],
   "source": [
    "from selenium.webdriver.support.wait import WebDriverWait\n",
    "from selenium.webdriver.support import expected_conditions as EC\n",
    "import time\n",
    "\n",
    "driver.switch_to.window(driver.window_handles[-1]) \n",
    "driver.refresh()\n",
    "\n",
    "title = driver.find_element(By.CLASS_NAME, \"tit_company\")\n",
    "name = title.get_attribute(\"title\")\n",
    "details = WebDriverWait(driver, 3).until(\n",
    "    EC.presence_of_element_located((By.CLASS_NAME, \"company_details\")))\n",
    "\n",
    "cont = details.find_elements(By.TAG_NAME, \"dd\")\n",
    "\n",
    "industry = cont[0].text\n",
    "ceo = cont[1].text\n",
    "site = cont[2].text\n",
    "com_service = cont[3].text\n",
    "addr = cont[4].find_element(By.TAG_NAME, 'p').text\n",
    "\n",
    "time = driver.find_elements(By.CLASS_NAME, \"company_summary_tit\")[0].text\n",
    "com_type = driver.find_elements(By.CLASS_NAME, \"company_summary_tit\")[1].text\n",
    "work_num = driver.find_elements(By.CLASS_NAME, \"company_summary_tit\")[2].text\n",
    "\n",
    "avg_working_year = driver.find_element(By.CLASS_NAME, \"chart_bar_area_title\").find_element(By.TAG_NAME, \"strong\").text\n",
    "avg_salary = driver.find_elements(By.CLASS_NAME, \"num\")[4].text\n",
    "\n",
    "print(name)\n",
    "print(industry)\n",
    "print(ceo)\n",
    "print(site)\n",
    "print(com_service)\n",
    "print(addr)\n",
    "print(time)\n",
    "print(avg_working_year)\n",
    "print(work_num)\n",
    "print(avg_salary)"
   ]
  },
  {
   "cell_type": "code",
   "execution_count": 17,
   "metadata": {},
   "outputs": [],
   "source": [
    "driver.close()"
   ]
  },
  {
   "cell_type": "code",
   "execution_count": null,
   "metadata": {},
   "outputs": [],
   "source": [
    "corp_popup = driver.find_elements(By.CLASS_NAME, \"company_popup\")\n",
    "\n",
    "for corp in corp_popup:\n",
    "    ActionChains(driver).move_to_element(corp_popup[0]).perform()\n",
    "    corp_popup[0].send_keys(Keys.ENTER)\n",
    "\n",
    "    driver.switch_to.window(driver.window_handles[-1]) \n",
    "    driver.refresh()\n",
    "\n",
    "    title = driver.find_element(By.CLASS_NAME, \"tit_company\")\n",
    "    name = title.get_attribute(\"title\")\n",
    "    details = WebDriverWait(driver, 3).until(\n",
    "        EC.presence_of_element_located((By.CLASS_NAME, \"company_details\")))\n",
    "\n",
    "    cont = details.find_elements(By.TAG_NAME, \"dd\")\n",
    "\n",
    "    industry = cont[0].text\n",
    "    ceo = cont[1].text\n",
    "    site = cont[2].text\n",
    "    com_service = cont[3].text\n",
    "    addr = cont[4].find_element(By.TAG_NAME, 'p').text\n",
    "\n",
    "    time = driver.find_elements(By.CLASS_NAME, \"company_summary_tit\")[0].text\n",
    "    com_type = driver.find_elements(By.CLASS_NAME, \"company_summary_tit\")[1].text\n",
    "    work_num = driver.find_elements(By.CLASS_NAME, \"company_summary_tit\")[2].text\n",
    "\n",
    "    avg_working_year = driver.find_element(By.CLASS_NAME, \"chart_bar_area_title\").find_element(By.TAG_NAME, \"strong\").text\n",
    "    avg_salary = driver.find_elements(By.CLASS_NAME, \"num\")[4].text"
   ]
  },
  {
   "cell_type": "code",
   "execution_count": 2,
   "metadata": {},
   "outputs": [],
   "source": [
    "driver.quit()"
   ]
  },
  {
   "cell_type": "code",
   "execution_count": null,
   "metadata": {},
   "outputs": [],
   "source": []
  }
 ],
 "metadata": {
  "kernelspec": {
   "display_name": "eda_venv",
   "language": "python",
   "name": "python3"
  },
  "language_info": {
   "codemirror_mode": {
    "name": "ipython",
    "version": 3
   },
   "file_extension": ".py",
   "mimetype": "text/x-python",
   "name": "python",
   "nbconvert_exporter": "python",
   "pygments_lexer": "ipython3",
   "version": "3.12.8"
  }
 },
 "nbformat": 4,
 "nbformat_minor": 2
}
