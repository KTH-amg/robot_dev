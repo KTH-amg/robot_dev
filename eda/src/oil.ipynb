{
 "cells": [
  {
   "cell_type": "markdown",
   "metadata": {},
   "source": [
    "## 구별 주유소 데이터 다운로드"
   ]
  },
  {
   "cell_type": "code",
   "execution_count": 53,
   "metadata": {},
   "outputs": [],
   "source": [
    "from selenium import webdriver\n",
    "from selenium.webdriver.chrome.service import Service\n",
    "from selenium.webdriver.chrome.options import Options\n",
    "\n",
    "options = webdriver.ChromeOptions()\n",
    "\n",
    "prefs = {'download.default_directory':'/home/kth/dev_ws/eda/data',\n",
    "         'download.prompt_for_download':False}\n",
    "options.add_experimental_option('prefs', prefs)\n",
    "\n",
    "url = \"https://www.opinet.co.kr/searRgSelect.do\"\n",
    "driver = webdriver.Chrome(service=Service(\"../driver/chromedriver\"),\n",
    "                          options=options)\n",
    "\n",
    "driver.get(url)"
   ]
  },
  {
   "cell_type": "code",
   "execution_count": 54,
   "metadata": {},
   "outputs": [
    {
     "name": "stdout",
     "output_type": "stream",
     "text": [
      "0. \n",
      "1. 서울특별시\n",
      "2. 부산광역시\n",
      "3. 대구광역시\n",
      "4. 인천광역시\n",
      "5. 광주광역시\n",
      "6. 대전광역시\n",
      "7. 울산광역시\n",
      "8. 세종특별자치시\n",
      "9. 경기도\n",
      "10. 강원특별자치도\n",
      "11. 충청북도\n",
      "12. 충청남도\n",
      "13. 전북특별자치도\n",
      "14. 전라남도\n",
      "15. 경상북도\n",
      "16. 경상남도\n",
      "17. 제주특별자치도\n"
     ]
    }
   ],
   "source": [
    "from selenium.webdriver.common.by import By\n",
    "\n",
    "sido = driver.find_element(By.ID, \"SIDO_NM0\")\n",
    "sido_list = sido.find_elements(By.TAG_NAME, \"option\")\n",
    "for idx, sido_name in enumerate(sido_list):\n",
    "    print(str(idx) + \". \" + sido_name.get_attribute(\"value\"))"
   ]
  },
  {
   "cell_type": "code",
   "execution_count": 55,
   "metadata": {},
   "outputs": [
    {
     "data": {
      "text/plain": [
       "['',\n",
       " '서울특별시',\n",
       " '부산광역시',\n",
       " '대구광역시',\n",
       " '인천광역시',\n",
       " '광주광역시',\n",
       " '대전광역시',\n",
       " '울산광역시',\n",
       " '세종특별자치시',\n",
       " '경기도',\n",
       " '강원특별자치도',\n",
       " '충청북도',\n",
       " '충청남도',\n",
       " '전북특별자치도',\n",
       " '전라남도',\n",
       " '경상북도',\n",
       " '경상남도',\n",
       " '제주특별자치도']"
      ]
     },
     "execution_count": 55,
     "metadata": {},
     "output_type": "execute_result"
    }
   ],
   "source": [
    "sido_names = [sido_name.get_attribute(\"value\") for sido_name in sido_list]\n",
    "sido_names"
   ]
  },
  {
   "cell_type": "code",
   "execution_count": 56,
   "metadata": {},
   "outputs": [
    {
     "data": {
      "text/plain": [
       "['서울특별시',\n",
       " '부산광역시',\n",
       " '대구광역시',\n",
       " '인천광역시',\n",
       " '광주광역시',\n",
       " '대전광역시',\n",
       " '울산광역시',\n",
       " '세종특별자치시',\n",
       " '경기도',\n",
       " '강원특별자치도',\n",
       " '충청북도',\n",
       " '충청남도',\n",
       " '전북특별자치도',\n",
       " '전라남도',\n",
       " '경상북도',\n",
       " '경상남도',\n",
       " '제주특별자치도']"
      ]
     },
     "execution_count": 56,
     "metadata": {},
     "output_type": "execute_result"
    }
   ],
   "source": [
    "sido_names = sido_names[1:]\n",
    "sido_names"
   ]
  },
  {
   "cell_type": "code",
   "execution_count": 57,
   "metadata": {},
   "outputs": [
    {
     "name": "stdout",
     "output_type": "stream",
     "text": [
      "서울특별시\n"
     ]
    }
   ],
   "source": [
    "print(sido_names[0])\n",
    "sido.send_keys(sido_names[0])"
   ]
  },
  {
   "cell_type": "code",
   "execution_count": 58,
   "metadata": {},
   "outputs": [
    {
     "name": "stdout",
     "output_type": "stream",
     "text": [
      "26 ['', '강남구', '강동구', '강북구', '강서구', '관악구', '광진구', '구로구', '금천구', '노원구', '도봉구', '동대문구', '동작구', '마포구', '서대문구', '서초구', '성동구', '성북구', '송파구', '양천구', '영등포구', '용산구', '은평구', '종로구', '중구', '중랑구']\n"
     ]
    }
   ],
   "source": [
    "gu = driver.find_element(By.ID, \"SIGUNGU_NM0\")\n",
    "gu_list = gu.find_elements(By.TAG_NAME, \"option\")\n",
    "\n",
    "gu_names = [gu_name.get_attribute(\"value\") for gu_name in gu_list]\n",
    "print(len(gu_names), gu_names)"
   ]
  },
  {
   "cell_type": "code",
   "execution_count": 59,
   "metadata": {},
   "outputs": [
    {
     "name": "stdout",
     "output_type": "stream",
     "text": [
      "25 ['강남구', '강동구', '강북구', '강서구', '관악구', '광진구', '구로구', '금천구', '노원구', '도봉구', '동대문구', '동작구', '마포구', '서대문구', '서초구', '성동구', '성북구', '송파구', '양천구', '영등포구', '용산구', '은평구', '종로구', '중구', '중랑구']\n"
     ]
    }
   ],
   "source": [
    "gu_names.remove('')\n",
    "print(len(gu_names), gu_names)"
   ]
  },
  {
   "cell_type": "code",
   "execution_count": 60,
   "metadata": {},
   "outputs": [],
   "source": [
    "gu.send_keys(gu_names[15])"
   ]
  },
  {
   "cell_type": "code",
   "execution_count": 93,
   "metadata": {},
   "outputs": [
    {
     "data": {
      "text/plain": [
       "0"
      ]
     },
     "execution_count": 93,
     "metadata": {},
     "output_type": "execute_result"
    }
   ],
   "source": [
    "import os\n",
    "from glob import glob\n",
    "\n",
    "for file in glob(\"../data/지역_*\"):\n",
    "    os.remove(file)\n",
    "\n",
    "len(glob(\"../data/지역_*\"))"
   ]
  },
  {
   "cell_type": "code",
   "execution_count": 94,
   "metadata": {},
   "outputs": [
    {
     "data": {
      "application/vnd.jupyter.widget-view+json": {
       "model_id": "41f82eadab1c4beeb9e2a1644f39d855",
       "version_major": 2,
       "version_minor": 0
      },
      "text/plain": [
       "  0%|          | 0/25 [00:00<?, ?it/s]"
      ]
     },
     "metadata": {},
     "output_type": "display_data"
    },
    {
     "data": {
      "text/plain": [
       "25"
      ]
     },
     "execution_count": 94,
     "metadata": {},
     "output_type": "execute_result"
    }
   ],
   "source": [
    "import time\n",
    "from glob import glob\n",
    "from tqdm.notebook import tqdm\n",
    "from selenium.webdriver.common.keys import Keys\n",
    "from selenium.webdriver.support.wait import WebDriverWait\n",
    "from selenium.webdriver.support import expected_conditions as EC\n",
    "from selenium.webdriver.common.action_chains import ActionChains\n",
    "\n",
    "for idx, gu_name in tqdm(enumerate(gu_names), total=len(gu_names)):\n",
    "    gu = driver.find_element(By.ID, \"SIGUNGU_NM0\")\n",
    "    gu.send_keys(gu_name)\n",
    "    #driver.implicitly_wait(3)\n",
    "    time.sleep(3)\n",
    "    driver.refresh()\n",
    "\n",
    "    save = WebDriverWait(driver, 10).until(\n",
    "        EC.element_to_be_clickable((By.CLASS_NAME, \"btn_type6_ex_save\")))\n",
    "        \n",
    "    #ActionChains(driver).move_to_element(save).perform()\n",
    "    #driver.execute_script(\"arguments[0].click();\", save)\n",
    "    save.click()\n",
    "    #save.send_keys(Keys.ENTER)\n",
    "\n",
    "    while len(glob(\"../data/지역_*\")) < (idx + 1):\n",
    "        time.sleep(1)\n",
    "\n",
    "len(glob(\"../data/지역_*\"))"
   ]
  },
  {
   "cell_type": "markdown",
   "metadata": {},
   "source": [
    "## 구별 주유소 정보 합체"
   ]
  },
  {
   "cell_type": "code",
   "execution_count": 95,
   "metadata": {},
   "outputs": [
    {
     "name": "stdout",
     "output_type": "stream",
     "text": [
      "25\n"
     ]
    },
    {
     "data": {
      "text/plain": [
       "['../data/지역_위치별(주유소) (20).xls',\n",
       " '../data/지역_위치별(주유소) (8).xls',\n",
       " '../data/지역_위치별(주유소) (2).xls',\n",
       " '../data/지역_위치별(주유소) (22).xls',\n",
       " '../data/지역_위치별(주유소) (23).xls',\n",
       " '../data/지역_위치별(주유소) (10).xls',\n",
       " '../data/지역_위치별(주유소) (21).xls',\n",
       " '../data/지역_위치별(주유소) (9).xls',\n",
       " '../data/지역_위치별(주유소) (4).xls',\n",
       " '../data/지역_위치별(주유소) (13).xls',\n",
       " '../data/지역_위치별(주유소) (5).xls',\n",
       " '../data/지역_위치별(주유소) (24).xls',\n",
       " '../data/지역_위치별(주유소) (19).xls',\n",
       " '../data/지역_위치별(주유소) (1).xls',\n",
       " '../data/지역_위치별(주유소) (15).xls',\n",
       " '../data/지역_위치별(주유소) (14).xls',\n",
       " '../data/지역_위치별(주유소) (7).xls',\n",
       " '../data/지역_위치별(주유소) (3).xls',\n",
       " '../data/지역_위치별(주유소) (17).xls',\n",
       " '../data/지역_위치별(주유소) (12).xls',\n",
       " '../data/지역_위치별(주유소) (6).xls',\n",
       " '../data/지역_위치별(주유소) (16).xls',\n",
       " '../data/지역_위치별(주유소).xls',\n",
       " '../data/지역_위치별(주유소) (18).xls',\n",
       " '../data/지역_위치별(주유소) (11).xls']"
      ]
     },
     "execution_count": 95,
     "metadata": {},
     "output_type": "execute_result"
    }
   ],
   "source": [
    "from glob import glob\n",
    "\n",
    "file_list = glob(\"../data/지역_*\")\n",
    "print(len(file_list))\n",
    "file_list"
   ]
  },
  {
   "cell_type": "code",
   "execution_count": 103,
   "metadata": {},
   "outputs": [],
   "source": [
    "driver.close()"
   ]
  },
  {
   "cell_type": "code",
   "execution_count": 96,
   "metadata": {},
   "outputs": [
    {
     "data": {
      "text/html": [
       "<div>\n",
       "<style scoped>\n",
       "    .dataframe tbody tr th:only-of-type {\n",
       "        vertical-align: middle;\n",
       "    }\n",
       "\n",
       "    .dataframe tbody tr th {\n",
       "        vertical-align: top;\n",
       "    }\n",
       "\n",
       "    .dataframe thead th {\n",
       "        text-align: right;\n",
       "    }\n",
       "</style>\n",
       "<table border=\"1\" class=\"dataframe\">\n",
       "  <thead>\n",
       "    <tr style=\"text-align: right;\">\n",
       "      <th></th>\n",
       "      <th>지역</th>\n",
       "      <th>상호</th>\n",
       "      <th>주소</th>\n",
       "      <th>상표</th>\n",
       "      <th>전화번호</th>\n",
       "      <th>셀프여부</th>\n",
       "      <th>고급휘발유</th>\n",
       "      <th>휘발유</th>\n",
       "      <th>경유</th>\n",
       "      <th>실내등유</th>\n",
       "    </tr>\n",
       "  </thead>\n",
       "  <tbody>\n",
       "    <tr>\n",
       "      <th>10</th>\n",
       "      <td>서울특별시</td>\n",
       "      <td>한석주유소</td>\n",
       "      <td>서울 용산구 이촌로 164</td>\n",
       "      <td>SK에너지</td>\n",
       "      <td>02-790-1020</td>\n",
       "      <td>N</td>\n",
       "      <td>2502</td>\n",
       "      <td>2310</td>\n",
       "      <td>2192</td>\n",
       "      <td>-</td>\n",
       "    </tr>\n",
       "    <tr>\n",
       "      <th>11</th>\n",
       "      <td>서울특별시</td>\n",
       "      <td>서계주유소</td>\n",
       "      <td>서울 용산구  청파로 367 (청파동)</td>\n",
       "      <td>GS칼텍스</td>\n",
       "      <td>02-706-6485</td>\n",
       "      <td>N</td>\n",
       "      <td>3301</td>\n",
       "      <td>2971</td>\n",
       "      <td>2940</td>\n",
       "      <td>2470</td>\n",
       "    </tr>\n",
       "  </tbody>\n",
       "</table>\n",
       "</div>"
      ],
      "text/plain": [
       "       지역     상호                     주소     상표         전화번호 셀프여부  고급휘발유   휘발유  \\\n",
       "10  서울특별시  한석주유소         서울 용산구 이촌로 164  SK에너지  02-790-1020    N   2502  2310   \n",
       "11  서울특별시  서계주유소  서울 용산구  청파로 367 (청파동)  GS칼텍스  02-706-6485    N   3301  2971   \n",
       "\n",
       "      경유  실내등유  \n",
       "10  2192     -  \n",
       "11  2940  2470  "
      ]
     },
     "execution_count": 96,
     "metadata": {},
     "output_type": "execute_result"
    }
   ],
   "source": [
    "import pandas as pd\n",
    "\n",
    "data = pd.read_excel(file_list[0], header=2)\n",
    "data.tail(2)"
   ]
  },
  {
   "cell_type": "code",
   "execution_count": 97,
   "metadata": {},
   "outputs": [
    {
     "data": {
      "text/plain": [
       "422"
      ]
     },
     "execution_count": 97,
     "metadata": {},
     "output_type": "execute_result"
    }
   ],
   "source": [
    "data_list = []\n",
    "\n",
    "for file in file_list:\n",
    "    data = pd.read_excel(file, header=2)\n",
    "    data_list.append(data)\n",
    "\n",
    "oil_data = pd.concat(data_list)\n",
    "len(oil_data)"
   ]
  },
  {
   "cell_type": "code",
   "execution_count": 98,
   "metadata": {},
   "outputs": [
    {
     "name": "stdout",
     "output_type": "stream",
     "text": [
      "<class 'pandas.core.frame.DataFrame'>\n",
      "Index: 422 entries, 0 to 8\n",
      "Data columns (total 10 columns):\n",
      " #   Column  Non-Null Count  Dtype \n",
      "---  ------  --------------  ----- \n",
      " 0   지역      422 non-null    object\n",
      " 1   상호      422 non-null    object\n",
      " 2   주소      422 non-null    object\n",
      " 3   상표      422 non-null    object\n",
      " 4   전화번호    422 non-null    object\n",
      " 5   셀프여부    422 non-null    object\n",
      " 6   고급휘발유   422 non-null    object\n",
      " 7   휘발유     422 non-null    int64 \n",
      " 8   경유      422 non-null    int64 \n",
      " 9   실내등유    422 non-null    object\n",
      "dtypes: int64(2), object(8)\n",
      "memory usage: 36.3+ KB\n"
     ]
    }
   ],
   "source": [
    "oil_data.info()"
   ]
  },
  {
   "cell_type": "code",
   "execution_count": 99,
   "metadata": {},
   "outputs": [
    {
     "data": {
      "text/html": [
       "<div>\n",
       "<style scoped>\n",
       "    .dataframe tbody tr th:only-of-type {\n",
       "        vertical-align: middle;\n",
       "    }\n",
       "\n",
       "    .dataframe tbody tr th {\n",
       "        vertical-align: top;\n",
       "    }\n",
       "\n",
       "    .dataframe thead th {\n",
       "        text-align: right;\n",
       "    }\n",
       "</style>\n",
       "<table border=\"1\" class=\"dataframe\">\n",
       "  <thead>\n",
       "    <tr style=\"text-align: right;\">\n",
       "      <th></th>\n",
       "      <th>상호</th>\n",
       "      <th>주소</th>\n",
       "      <th>가격</th>\n",
       "      <th>셀프</th>\n",
       "      <th>상표</th>\n",
       "    </tr>\n",
       "  </thead>\n",
       "  <tbody>\n",
       "    <tr>\n",
       "      <th>4</th>\n",
       "      <td>지에스칼텍스㈜직영 남성주유소</td>\n",
       "      <td>서울 동작구 동작대로 135</td>\n",
       "      <td>1735</td>\n",
       "      <td>Y</td>\n",
       "      <td>GS칼텍스</td>\n",
       "    </tr>\n",
       "    <tr>\n",
       "      <th>5</th>\n",
       "      <td>HD현대오일뱅크㈜직영 동작주유소</td>\n",
       "      <td>서울 동작구 상도로 403 (상도동)</td>\n",
       "      <td>1754</td>\n",
       "      <td>N</td>\n",
       "      <td>HD현대오일뱅크</td>\n",
       "    </tr>\n",
       "    <tr>\n",
       "      <th>6</th>\n",
       "      <td>HD현대오일뱅크㈜직영 흑석동셀프주유소</td>\n",
       "      <td>서울 동작구 현충로 101 (흑석동)</td>\n",
       "      <td>1764</td>\n",
       "      <td>Y</td>\n",
       "      <td>HD현대오일뱅크</td>\n",
       "    </tr>\n",
       "    <tr>\n",
       "      <th>7</th>\n",
       "      <td>매일주유소</td>\n",
       "      <td>서울 동작구 상도로 139 (상도동)</td>\n",
       "      <td>1799</td>\n",
       "      <td>Y</td>\n",
       "      <td>S-OIL</td>\n",
       "    </tr>\n",
       "    <tr>\n",
       "      <th>8</th>\n",
       "      <td>살피재주유소</td>\n",
       "      <td>서울 동작구 상도로 334</td>\n",
       "      <td>1895</td>\n",
       "      <td>N</td>\n",
       "      <td>SK에너지</td>\n",
       "    </tr>\n",
       "  </tbody>\n",
       "</table>\n",
       "</div>"
      ],
      "text/plain": [
       "                     상호                    주소    가격 셀프        상표\n",
       "4       지에스칼텍스㈜직영 남성주유소       서울 동작구 동작대로 135  1735  Y     GS칼텍스\n",
       "5     HD현대오일뱅크㈜직영 동작주유소  서울 동작구 상도로 403 (상도동)  1754  N  HD현대오일뱅크\n",
       "6  HD현대오일뱅크㈜직영 흑석동셀프주유소  서울 동작구 현충로 101 (흑석동)  1764  Y  HD현대오일뱅크\n",
       "7                 매일주유소  서울 동작구 상도로 139 (상도동)  1799  Y     S-OIL\n",
       "8                살피재주유소        서울 동작구 상도로 334  1895  N     SK에너지"
      ]
     },
     "execution_count": 99,
     "metadata": {},
     "output_type": "execute_result"
    }
   ],
   "source": [
    "oil_data = pd.DataFrame({\"상호\": oil_data[\"상호\"],\n",
    "                         \"주소\": oil_data[\"주소\"],\n",
    "                         \"가격\": oil_data[\"휘발유\"],\n",
    "                         \"셀프\": oil_data[\"셀프여부\"],\n",
    "                         \"상표\": oil_data[\"상표\"],})\n",
    "\n",
    "oil_data.tail()"
   ]
  },
  {
   "cell_type": "code",
   "execution_count": 100,
   "metadata": {},
   "outputs": [
    {
     "data": {
      "text/html": [
       "<div>\n",
       "<style scoped>\n",
       "    .dataframe tbody tr th:only-of-type {\n",
       "        vertical-align: middle;\n",
       "    }\n",
       "\n",
       "    .dataframe tbody tr th {\n",
       "        vertical-align: top;\n",
       "    }\n",
       "\n",
       "    .dataframe thead th {\n",
       "        text-align: right;\n",
       "    }\n",
       "</style>\n",
       "<table border=\"1\" class=\"dataframe\">\n",
       "  <thead>\n",
       "    <tr style=\"text-align: right;\">\n",
       "      <th></th>\n",
       "      <th>상호</th>\n",
       "      <th>주소</th>\n",
       "      <th>가격</th>\n",
       "      <th>셀프</th>\n",
       "      <th>상표</th>\n",
       "    </tr>\n",
       "  </thead>\n",
       "  <tbody>\n",
       "    <tr>\n",
       "      <th>417</th>\n",
       "      <td>지에스칼텍스㈜직영 남성주유소</td>\n",
       "      <td>서울 동작구 동작대로 135</td>\n",
       "      <td>1735</td>\n",
       "      <td>Y</td>\n",
       "      <td>GS칼텍스</td>\n",
       "    </tr>\n",
       "    <tr>\n",
       "      <th>418</th>\n",
       "      <td>HD현대오일뱅크㈜직영 동작주유소</td>\n",
       "      <td>서울 동작구 상도로 403 (상도동)</td>\n",
       "      <td>1754</td>\n",
       "      <td>N</td>\n",
       "      <td>HD현대오일뱅크</td>\n",
       "    </tr>\n",
       "    <tr>\n",
       "      <th>419</th>\n",
       "      <td>HD현대오일뱅크㈜직영 흑석동셀프주유소</td>\n",
       "      <td>서울 동작구 현충로 101 (흑석동)</td>\n",
       "      <td>1764</td>\n",
       "      <td>Y</td>\n",
       "      <td>HD현대오일뱅크</td>\n",
       "    </tr>\n",
       "    <tr>\n",
       "      <th>420</th>\n",
       "      <td>매일주유소</td>\n",
       "      <td>서울 동작구 상도로 139 (상도동)</td>\n",
       "      <td>1799</td>\n",
       "      <td>Y</td>\n",
       "      <td>S-OIL</td>\n",
       "    </tr>\n",
       "    <tr>\n",
       "      <th>421</th>\n",
       "      <td>살피재주유소</td>\n",
       "      <td>서울 동작구 상도로 334</td>\n",
       "      <td>1895</td>\n",
       "      <td>N</td>\n",
       "      <td>SK에너지</td>\n",
       "    </tr>\n",
       "  </tbody>\n",
       "</table>\n",
       "</div>"
      ],
      "text/plain": [
       "                       상호                    주소    가격 셀프        상표\n",
       "417       지에스칼텍스㈜직영 남성주유소       서울 동작구 동작대로 135  1735  Y     GS칼텍스\n",
       "418     HD현대오일뱅크㈜직영 동작주유소  서울 동작구 상도로 403 (상도동)  1754  N  HD현대오일뱅크\n",
       "419  HD현대오일뱅크㈜직영 흑석동셀프주유소  서울 동작구 현충로 101 (흑석동)  1764  Y  HD현대오일뱅크\n",
       "420                 매일주유소  서울 동작구 상도로 139 (상도동)  1799  Y     S-OIL\n",
       "421                살피재주유소        서울 동작구 상도로 334  1895  N     SK에너지"
      ]
     },
     "execution_count": 100,
     "metadata": {},
     "output_type": "execute_result"
    }
   ],
   "source": [
    "oil_data.reset_index(drop=True, inplace=True)\n",
    "oil_data.tail()"
   ]
  },
  {
   "cell_type": "code",
   "execution_count": 101,
   "metadata": {},
   "outputs": [
    {
     "data": {
      "text/html": [
       "<div>\n",
       "<style scoped>\n",
       "    .dataframe tbody tr th:only-of-type {\n",
       "        vertical-align: middle;\n",
       "    }\n",
       "\n",
       "    .dataframe tbody tr th {\n",
       "        vertical-align: top;\n",
       "    }\n",
       "\n",
       "    .dataframe thead th {\n",
       "        text-align: right;\n",
       "    }\n",
       "</style>\n",
       "<table border=\"1\" class=\"dataframe\">\n",
       "  <thead>\n",
       "    <tr style=\"text-align: right;\">\n",
       "      <th></th>\n",
       "      <th>상호</th>\n",
       "      <th>주소</th>\n",
       "      <th>가격</th>\n",
       "      <th>셀프</th>\n",
       "      <th>상표</th>\n",
       "      <th>구</th>\n",
       "    </tr>\n",
       "  </thead>\n",
       "  <tbody>\n",
       "    <tr>\n",
       "      <th>0</th>\n",
       "      <td>HD현대오일뱅크㈜직영 한남동주유소</td>\n",
       "      <td>서울 용산구 한남대로 204 (한남동)</td>\n",
       "      <td>1961</td>\n",
       "      <td>N</td>\n",
       "      <td>HD현대오일뱅크</td>\n",
       "      <td>용산구</td>\n",
       "    </tr>\n",
       "    <tr>\n",
       "      <th>1</th>\n",
       "      <td>HD현대오일뱅크㈜직영 강변현대주유소</td>\n",
       "      <td>서울 용산구 원효로 9 (청암동)</td>\n",
       "      <td>2079</td>\n",
       "      <td>N</td>\n",
       "      <td>HD현대오일뱅크</td>\n",
       "      <td>용산구</td>\n",
       "    </tr>\n",
       "    <tr>\n",
       "      <th>2</th>\n",
       "      <td>(주)영원 풍기주유소</td>\n",
       "      <td>서울 용산구 원효로 178 (원효로2가)</td>\n",
       "      <td>2099</td>\n",
       "      <td>N</td>\n",
       "      <td>GS칼텍스</td>\n",
       "      <td>용산구</td>\n",
       "    </tr>\n",
       "    <tr>\n",
       "      <th>3</th>\n",
       "      <td>(주)남경주유소</td>\n",
       "      <td>서울 용산구 녹사평대로11길 24</td>\n",
       "      <td>2186</td>\n",
       "      <td>N</td>\n",
       "      <td>SK에너지</td>\n",
       "      <td>용산구</td>\n",
       "    </tr>\n",
       "    <tr>\n",
       "      <th>4</th>\n",
       "      <td>(주)신태성주유소</td>\n",
       "      <td>서울 용산구 원효로 147 (원효로3가)</td>\n",
       "      <td>2189</td>\n",
       "      <td>N</td>\n",
       "      <td>SK에너지</td>\n",
       "      <td>용산구</td>\n",
       "    </tr>\n",
       "  </tbody>\n",
       "</table>\n",
       "</div>"
      ],
      "text/plain": [
       "                    상호                      주소    가격 셀프        상표    구\n",
       "0   HD현대오일뱅크㈜직영 한남동주유소   서울 용산구 한남대로 204 (한남동)  1961  N  HD현대오일뱅크  용산구\n",
       "1  HD현대오일뱅크㈜직영 강변현대주유소      서울 용산구 원효로 9 (청암동)  2079  N  HD현대오일뱅크  용산구\n",
       "2          (주)영원 풍기주유소  서울 용산구 원효로 178 (원효로2가)  2099  N     GS칼텍스  용산구\n",
       "3             (주)남경주유소      서울 용산구 녹사평대로11길 24  2186  N     SK에너지  용산구\n",
       "4            (주)신태성주유소  서울 용산구 원효로 147 (원효로3가)  2189  N     SK에너지  용산구"
      ]
     },
     "execution_count": 101,
     "metadata": {},
     "output_type": "execute_result"
    }
   ],
   "source": [
    "oil_data[\"구\"] = [address.split()[1] for address in oil_data[\"주소\"]]\n",
    "oil_data.head()"
   ]
  },
  {
   "cell_type": "code",
   "execution_count": 102,
   "metadata": {},
   "outputs": [
    {
     "data": {
      "text/plain": [
       "(array(['용산구', '노원구', '강북구', '종로구', '중구', '동대문구', '은평구', '도봉구', '관악구',\n",
       "        '서대문구', '광진구', '중랑구', '영등포구', '강동구', '성동구', '서초구', '금천구', '강서구',\n",
       "        '송파구', '마포구', '구로구', '성북구', '강남구', '양천구', '동작구'], dtype=object),\n",
       " 25)"
      ]
     },
     "execution_count": 102,
     "metadata": {},
     "output_type": "execute_result"
    }
   ],
   "source": [
    "oil_data[\"구\"].unique(), len(oil_data[\"구\"].unique())"
   ]
  },
  {
   "cell_type": "code",
   "execution_count": 104,
   "metadata": {},
   "outputs": [],
   "source": [
    "oil_data[\"가격\"] = oil_data[\"가격\"].astype(\"float\")"
   ]
  },
  {
   "cell_type": "code",
   "execution_count": 105,
   "metadata": {},
   "outputs": [
    {
     "name": "stdout",
     "output_type": "stream",
     "text": [
      "<class 'pandas.core.frame.DataFrame'>\n",
      "RangeIndex: 422 entries, 0 to 421\n",
      "Data columns (total 6 columns):\n",
      " #   Column  Non-Null Count  Dtype  \n",
      "---  ------  --------------  -----  \n",
      " 0   상호      422 non-null    object \n",
      " 1   주소      422 non-null    object \n",
      " 2   가격      422 non-null    float64\n",
      " 3   셀프      422 non-null    object \n",
      " 4   상표      422 non-null    object \n",
      " 5   구       422 non-null    object \n",
      "dtypes: float64(1), object(5)\n",
      "memory usage: 19.9+ KB\n"
     ]
    }
   ],
   "source": [
    "oil_data.info()"
   ]
  },
  {
   "cell_type": "code",
   "execution_count": 106,
   "metadata": {},
   "outputs": [
    {
     "data": {
      "text/html": [
       "<div>\n",
       "<style scoped>\n",
       "    .dataframe tbody tr th:only-of-type {\n",
       "        vertical-align: middle;\n",
       "    }\n",
       "\n",
       "    .dataframe tbody tr th {\n",
       "        vertical-align: top;\n",
       "    }\n",
       "\n",
       "    .dataframe thead th {\n",
       "        text-align: right;\n",
       "    }\n",
       "</style>\n",
       "<table border=\"1\" class=\"dataframe\">\n",
       "  <thead>\n",
       "    <tr style=\"text-align: right;\">\n",
       "      <th></th>\n",
       "      <th>상호</th>\n",
       "      <th>주소</th>\n",
       "      <th>가격</th>\n",
       "      <th>셀프</th>\n",
       "      <th>상표</th>\n",
       "      <th>구</th>\n",
       "    </tr>\n",
       "  </thead>\n",
       "  <tbody>\n",
       "    <tr>\n",
       "      <th>0</th>\n",
       "      <td>HD현대오일뱅크㈜직영 한남동주유소</td>\n",
       "      <td>서울 용산구 한남대로 204 (한남동)</td>\n",
       "      <td>1961.0</td>\n",
       "      <td>N</td>\n",
       "      <td>HD현대오일뱅크</td>\n",
       "      <td>용산구</td>\n",
       "    </tr>\n",
       "    <tr>\n",
       "      <th>1</th>\n",
       "      <td>HD현대오일뱅크㈜직영 강변현대주유소</td>\n",
       "      <td>서울 용산구 원효로 9 (청암동)</td>\n",
       "      <td>2079.0</td>\n",
       "      <td>N</td>\n",
       "      <td>HD현대오일뱅크</td>\n",
       "      <td>용산구</td>\n",
       "    </tr>\n",
       "    <tr>\n",
       "      <th>2</th>\n",
       "      <td>(주)영원 풍기주유소</td>\n",
       "      <td>서울 용산구 원효로 178 (원효로2가)</td>\n",
       "      <td>2099.0</td>\n",
       "      <td>N</td>\n",
       "      <td>GS칼텍스</td>\n",
       "      <td>용산구</td>\n",
       "    </tr>\n",
       "    <tr>\n",
       "      <th>3</th>\n",
       "      <td>(주)남경주유소</td>\n",
       "      <td>서울 용산구 녹사평대로11길 24</td>\n",
       "      <td>2186.0</td>\n",
       "      <td>N</td>\n",
       "      <td>SK에너지</td>\n",
       "      <td>용산구</td>\n",
       "    </tr>\n",
       "    <tr>\n",
       "      <th>4</th>\n",
       "      <td>(주)신태성주유소</td>\n",
       "      <td>서울 용산구 원효로 147 (원효로3가)</td>\n",
       "      <td>2189.0</td>\n",
       "      <td>N</td>\n",
       "      <td>SK에너지</td>\n",
       "      <td>용산구</td>\n",
       "    </tr>\n",
       "    <tr>\n",
       "      <th>...</th>\n",
       "      <td>...</td>\n",
       "      <td>...</td>\n",
       "      <td>...</td>\n",
       "      <td>...</td>\n",
       "      <td>...</td>\n",
       "      <td>...</td>\n",
       "    </tr>\n",
       "    <tr>\n",
       "      <th>417</th>\n",
       "      <td>지에스칼텍스㈜직영 남성주유소</td>\n",
       "      <td>서울 동작구 동작대로 135</td>\n",
       "      <td>1735.0</td>\n",
       "      <td>Y</td>\n",
       "      <td>GS칼텍스</td>\n",
       "      <td>동작구</td>\n",
       "    </tr>\n",
       "    <tr>\n",
       "      <th>418</th>\n",
       "      <td>HD현대오일뱅크㈜직영 동작주유소</td>\n",
       "      <td>서울 동작구 상도로 403 (상도동)</td>\n",
       "      <td>1754.0</td>\n",
       "      <td>N</td>\n",
       "      <td>HD현대오일뱅크</td>\n",
       "      <td>동작구</td>\n",
       "    </tr>\n",
       "    <tr>\n",
       "      <th>419</th>\n",
       "      <td>HD현대오일뱅크㈜직영 흑석동셀프주유소</td>\n",
       "      <td>서울 동작구 현충로 101 (흑석동)</td>\n",
       "      <td>1764.0</td>\n",
       "      <td>Y</td>\n",
       "      <td>HD현대오일뱅크</td>\n",
       "      <td>동작구</td>\n",
       "    </tr>\n",
       "    <tr>\n",
       "      <th>420</th>\n",
       "      <td>매일주유소</td>\n",
       "      <td>서울 동작구 상도로 139 (상도동)</td>\n",
       "      <td>1799.0</td>\n",
       "      <td>Y</td>\n",
       "      <td>S-OIL</td>\n",
       "      <td>동작구</td>\n",
       "    </tr>\n",
       "    <tr>\n",
       "      <th>421</th>\n",
       "      <td>살피재주유소</td>\n",
       "      <td>서울 동작구 상도로 334</td>\n",
       "      <td>1895.0</td>\n",
       "      <td>N</td>\n",
       "      <td>SK에너지</td>\n",
       "      <td>동작구</td>\n",
       "    </tr>\n",
       "  </tbody>\n",
       "</table>\n",
       "<p>422 rows × 6 columns</p>\n",
       "</div>"
      ],
      "text/plain": [
       "                       상호                      주소      가격 셀프        상표    구\n",
       "0      HD현대오일뱅크㈜직영 한남동주유소   서울 용산구 한남대로 204 (한남동)  1961.0  N  HD현대오일뱅크  용산구\n",
       "1     HD현대오일뱅크㈜직영 강변현대주유소      서울 용산구 원효로 9 (청암동)  2079.0  N  HD현대오일뱅크  용산구\n",
       "2             (주)영원 풍기주유소  서울 용산구 원효로 178 (원효로2가)  2099.0  N     GS칼텍스  용산구\n",
       "3                (주)남경주유소      서울 용산구 녹사평대로11길 24  2186.0  N     SK에너지  용산구\n",
       "4               (주)신태성주유소  서울 용산구 원효로 147 (원효로3가)  2189.0  N     SK에너지  용산구\n",
       "..                    ...                     ...     ... ..       ...  ...\n",
       "417       지에스칼텍스㈜직영 남성주유소         서울 동작구 동작대로 135  1735.0  Y     GS칼텍스  동작구\n",
       "418     HD현대오일뱅크㈜직영 동작주유소    서울 동작구 상도로 403 (상도동)  1754.0  N  HD현대오일뱅크  동작구\n",
       "419  HD현대오일뱅크㈜직영 흑석동셀프주유소    서울 동작구 현충로 101 (흑석동)  1764.0  Y  HD현대오일뱅크  동작구\n",
       "420                 매일주유소    서울 동작구 상도로 139 (상도동)  1799.0  Y     S-OIL  동작구\n",
       "421                살피재주유소          서울 동작구 상도로 334  1895.0  N     SK에너지  동작구\n",
       "\n",
       "[422 rows x 6 columns]"
      ]
     },
     "execution_count": 106,
     "metadata": {},
     "output_type": "execute_result"
    }
   ],
   "source": [
    "oil_data"
   ]
  },
  {
   "cell_type": "code",
   "execution_count": 107,
   "metadata": {},
   "outputs": [
    {
     "data": {
      "text/html": [
       "<div>\n",
       "<style scoped>\n",
       "    .dataframe tbody tr th:only-of-type {\n",
       "        vertical-align: middle;\n",
       "    }\n",
       "\n",
       "    .dataframe tbody tr th {\n",
       "        vertical-align: top;\n",
       "    }\n",
       "\n",
       "    .dataframe thead th {\n",
       "        text-align: right;\n",
       "    }\n",
       "</style>\n",
       "<table border=\"1\" class=\"dataframe\">\n",
       "  <thead>\n",
       "    <tr style=\"text-align: right;\">\n",
       "      <th></th>\n",
       "      <th>상호</th>\n",
       "      <th>주소</th>\n",
       "      <th>가격</th>\n",
       "      <th>셀프</th>\n",
       "      <th>상표</th>\n",
       "      <th>구</th>\n",
       "    </tr>\n",
       "  </thead>\n",
       "  <tbody>\n",
       "    <tr>\n",
       "      <th>0</th>\n",
       "      <td>HD현대오일뱅크㈜직영 한남동주유소</td>\n",
       "      <td>서울 용산구 한남대로 204 (한남동)</td>\n",
       "      <td>1961.0</td>\n",
       "      <td>N</td>\n",
       "      <td>HD현대오일뱅크</td>\n",
       "      <td>용산구</td>\n",
       "    </tr>\n",
       "    <tr>\n",
       "      <th>1</th>\n",
       "      <td>HD현대오일뱅크㈜직영 강변현대주유소</td>\n",
       "      <td>서울 용산구 원효로 9 (청암동)</td>\n",
       "      <td>2079.0</td>\n",
       "      <td>N</td>\n",
       "      <td>HD현대오일뱅크</td>\n",
       "      <td>용산구</td>\n",
       "    </tr>\n",
       "    <tr>\n",
       "      <th>2</th>\n",
       "      <td>(주)영원 풍기주유소</td>\n",
       "      <td>서울 용산구 원효로 178 (원효로2가)</td>\n",
       "      <td>2099.0</td>\n",
       "      <td>N</td>\n",
       "      <td>GS칼텍스</td>\n",
       "      <td>용산구</td>\n",
       "    </tr>\n",
       "    <tr>\n",
       "      <th>3</th>\n",
       "      <td>(주)남경주유소</td>\n",
       "      <td>서울 용산구 녹사평대로11길 24</td>\n",
       "      <td>2186.0</td>\n",
       "      <td>N</td>\n",
       "      <td>SK에너지</td>\n",
       "      <td>용산구</td>\n",
       "    </tr>\n",
       "    <tr>\n",
       "      <th>4</th>\n",
       "      <td>(주)신태성주유소</td>\n",
       "      <td>서울 용산구 원효로 147 (원효로3가)</td>\n",
       "      <td>2189.0</td>\n",
       "      <td>N</td>\n",
       "      <td>SK에너지</td>\n",
       "      <td>용산구</td>\n",
       "    </tr>\n",
       "  </tbody>\n",
       "</table>\n",
       "</div>"
      ],
      "text/plain": [
       "                    상호                      주소      가격 셀프        상표    구\n",
       "0   HD현대오일뱅크㈜직영 한남동주유소   서울 용산구 한남대로 204 (한남동)  1961.0  N  HD현대오일뱅크  용산구\n",
       "1  HD현대오일뱅크㈜직영 강변현대주유소      서울 용산구 원효로 9 (청암동)  2079.0  N  HD현대오일뱅크  용산구\n",
       "2          (주)영원 풍기주유소  서울 용산구 원효로 178 (원효로2가)  2099.0  N     GS칼텍스  용산구\n",
       "3             (주)남경주유소      서울 용산구 녹사평대로11길 24  2186.0  N     SK에너지  용산구\n",
       "4            (주)신태성주유소  서울 용산구 원효로 147 (원효로3가)  2189.0  N     SK에너지  용산구"
      ]
     },
     "execution_count": 107,
     "metadata": {},
     "output_type": "execute_result"
    }
   ],
   "source": [
    "oil_data.reset_index(drop=True, inplace=True)\n",
    "oil_data.head()"
   ]
  },
  {
   "cell_type": "markdown",
   "metadata": {},
   "source": [
    "## 데이터 시각화"
   ]
  },
  {
   "cell_type": "code",
   "execution_count": 108,
   "metadata": {},
   "outputs": [
    {
     "data": {
      "text/plain": [
       "<Axes: title={'center': '가격'}, xlabel='셀프'>"
      ]
     },
     "execution_count": 108,
     "metadata": {},
     "output_type": "execute_result"
    },
    {
     "data": {
      "image/png": "[encoded data removed]",
      "text/plain": [
       "<Figure size 1200x800 with 1 Axes>"
      ]
     },
     "metadata": {},
     "output_type": "display_data"
    }
   ],
   "source": [
    "import matplotlib.pyplot as plt\n",
    "import seaborn as sns\n",
    "import koreanize_matplotlib\n",
    "\n",
    "oil_data.boxplot(column=\"가격\", by=\"셀프\", figsize=(12,8))"
   ]
  },
  {
   "cell_type": "code",
   "execution_count": 111,
   "metadata": {},
   "outputs": [
    {
     "data": {
      "image/png": "[encoded data removed]",
      "text/plain": [
       "<Figure size 1200x800 with 1 Axes>"
      ]
     },
     "metadata": {},
     "output_type": "display_data"
    }
   ],
   "source": [
    "plt.figure(figsize=(12,8))\n",
    "sns.boxplot(hue=\"셀프\", y=\"가격\", data=oil_data, palette=\"Set1\")\n",
    "plt.grid(True)\n",
    "plt.show()"
   ]
  },
  {
   "cell_type": "code",
   "execution_count": 115,
   "metadata": {},
   "outputs": [
    {
     "data": {
      "image/png": "[encoded data removed]",
      "text/plain": [
       "<Figure size 1200x800 with 1 Axes>"
      ]
     },
     "metadata": {},
     "output_type": "display_data"
    }
   ],
   "source": [
    "plt.figure(figsize=(12,8))\n",
    "sns.boxplot(x=\"상표\", y=\"가격\", hue=\"셀프\", data=oil_data, palette=\"Set3\")\n",
    "plt.grid(True)\n",
    "plt.savefig(\"../data/seoul_oil_merch_graph.png\")\n",
    "plt.show()"
   ]
  },
  {
   "cell_type": "markdown",
   "metadata": {},
   "source": [
    "## 지도 시각화"
   ]
  },
  {
   "cell_type": "code",
   "execution_count": 114,
   "metadata": {},
   "outputs": [],
   "source": [
    "import json\n",
    "import folium\n",
    "import warnings\n",
    "warnings.simplefilter(action=\"ignore\", category=FutureWarning)"
   ]
  },
  {
   "cell_type": "code",
   "execution_count": 116,
   "metadata": {},
   "outputs": [
    {
     "data": {
      "text/html": [
       "<div>\n",
       "<style scoped>\n",
       "    .dataframe tbody tr th:only-of-type {\n",
       "        vertical-align: middle;\n",
       "    }\n",
       "\n",
       "    .dataframe tbody tr th {\n",
       "        vertical-align: top;\n",
       "    }\n",
       "\n",
       "    .dataframe thead th {\n",
       "        text-align: right;\n",
       "    }\n",
       "</style>\n",
       "<table border=\"1\" class=\"dataframe\">\n",
       "  <thead>\n",
       "    <tr style=\"text-align: right;\">\n",
       "      <th></th>\n",
       "      <th>상호</th>\n",
       "      <th>주소</th>\n",
       "      <th>가격</th>\n",
       "      <th>셀프</th>\n",
       "      <th>상표</th>\n",
       "      <th>구</th>\n",
       "    </tr>\n",
       "  </thead>\n",
       "  <tbody>\n",
       "    <tr>\n",
       "      <th>11</th>\n",
       "      <td>서계주유소</td>\n",
       "      <td>서울 용산구  청파로 367 (청파동)</td>\n",
       "      <td>2971.0</td>\n",
       "      <td>N</td>\n",
       "      <td>GS칼텍스</td>\n",
       "      <td>용산구</td>\n",
       "    </tr>\n",
       "    <tr>\n",
       "      <th>52</th>\n",
       "      <td>서남주유소</td>\n",
       "      <td>서울 중구 통일로 30</td>\n",
       "      <td>2756.0</td>\n",
       "      <td>N</td>\n",
       "      <td>SK에너지</td>\n",
       "      <td>중구</td>\n",
       "    </tr>\n",
       "    <tr>\n",
       "      <th>388</th>\n",
       "      <td>(주)만정에너지 삼보주유소</td>\n",
       "      <td>서울 강남구 봉은사로 433 (삼성동)</td>\n",
       "      <td>2620.0</td>\n",
       "      <td>N</td>\n",
       "      <td>GS칼텍스</td>\n",
       "      <td>강남구</td>\n",
       "    </tr>\n",
       "    <tr>\n",
       "      <th>387</th>\n",
       "      <td>(주)제이제이네트웍스 제이제이주유소</td>\n",
       "      <td>서울 강남구 언주로 716</td>\n",
       "      <td>2548.0</td>\n",
       "      <td>N</td>\n",
       "      <td>HD현대오일뱅크</td>\n",
       "      <td>강남구</td>\n",
       "    </tr>\n",
       "    <tr>\n",
       "      <th>51</th>\n",
       "      <td>필동주유소</td>\n",
       "      <td>서울 중구 퇴계로 196</td>\n",
       "      <td>2539.0</td>\n",
       "      <td>N</td>\n",
       "      <td>GS칼텍스</td>\n",
       "      <td>중구</td>\n",
       "    </tr>\n",
       "    <tr>\n",
       "      <th>386</th>\n",
       "      <td>SK논현주유소</td>\n",
       "      <td>서울 강남구 논현로 747 (논현동)</td>\n",
       "      <td>2435.0</td>\n",
       "      <td>N</td>\n",
       "      <td>SK에너지</td>\n",
       "      <td>강남구</td>\n",
       "    </tr>\n",
       "    <tr>\n",
       "      <th>385</th>\n",
       "      <td>(주)소모 쎈트럴주유소</td>\n",
       "      <td>서울 강남구 삼성로 335</td>\n",
       "      <td>2388.0</td>\n",
       "      <td>N</td>\n",
       "      <td>GS칼텍스</td>\n",
       "      <td>강남구</td>\n",
       "    </tr>\n",
       "    <tr>\n",
       "      <th>43</th>\n",
       "      <td>(주)대양씨앤씨 사직주유소</td>\n",
       "      <td>서울 종로구 사직로 65</td>\n",
       "      <td>2375.0</td>\n",
       "      <td>N</td>\n",
       "      <td>GS칼텍스</td>\n",
       "      <td>종로구</td>\n",
       "    </tr>\n",
       "    <tr>\n",
       "      <th>10</th>\n",
       "      <td>한석주유소</td>\n",
       "      <td>서울 용산구 이촌로 164</td>\n",
       "      <td>2310.0</td>\n",
       "      <td>N</td>\n",
       "      <td>SK에너지</td>\n",
       "      <td>용산구</td>\n",
       "    </tr>\n",
       "    <tr>\n",
       "      <th>202</th>\n",
       "      <td>(주)옥수하이웨이스테이션</td>\n",
       "      <td>서울 성동구 독서당로 168 (옥수동)</td>\n",
       "      <td>2298.0</td>\n",
       "      <td>N</td>\n",
       "      <td>GS칼텍스</td>\n",
       "      <td>성동구</td>\n",
       "    </tr>\n",
       "  </tbody>\n",
       "</table>\n",
       "</div>"
      ],
      "text/plain": [
       "                      상호                     주소      가격 셀프        상표    구\n",
       "11                 서계주유소  서울 용산구  청파로 367 (청파동)  2971.0  N     GS칼텍스  용산구\n",
       "52                 서남주유소           서울 중구 통일로 30  2756.0  N     SK에너지   중구\n",
       "388       (주)만정에너지 삼보주유소  서울 강남구 봉은사로 433 (삼성동)  2620.0  N     GS칼텍스  강남구\n",
       "387  (주)제이제이네트웍스 제이제이주유소         서울 강남구 언주로 716  2548.0  N  HD현대오일뱅크  강남구\n",
       "51                 필동주유소          서울 중구 퇴계로 196  2539.0  N     GS칼텍스   중구\n",
       "386              SK논현주유소   서울 강남구 논현로 747 (논현동)  2435.0  N     SK에너지  강남구\n",
       "385         (주)소모 쎈트럴주유소         서울 강남구 삼성로 335  2388.0  N     GS칼텍스  강남구\n",
       "43        (주)대양씨앤씨 사직주유소          서울 종로구 사직로 65  2375.0  N     GS칼텍스  종로구\n",
       "10                 한석주유소         서울 용산구 이촌로 164  2310.0  N     SK에너지  용산구\n",
       "202        (주)옥수하이웨이스테이션  서울 성동구 독서당로 168 (옥수동)  2298.0  N     GS칼텍스  성동구"
      ]
     },
     "execution_count": 116,
     "metadata": {},
     "output_type": "execute_result"
    }
   ],
   "source": [
    "oil_data.sort_values(by=\"가격\", ascending=False).head(10)"
   ]
  },
  {
   "cell_type": "code",
   "execution_count": 117,
   "metadata": {},
   "outputs": [
    {
     "data": {
      "text/html": [
       "<div>\n",
       "<style scoped>\n",
       "    .dataframe tbody tr th:only-of-type {\n",
       "        vertical-align: middle;\n",
       "    }\n",
       "\n",
       "    .dataframe tbody tr th {\n",
       "        vertical-align: top;\n",
       "    }\n",
       "\n",
       "    .dataframe thead th {\n",
       "        text-align: right;\n",
       "    }\n",
       "</style>\n",
       "<table border=\"1\" class=\"dataframe\">\n",
       "  <thead>\n",
       "    <tr style=\"text-align: right;\">\n",
       "      <th></th>\n",
       "      <th>상호</th>\n",
       "      <th>주소</th>\n",
       "      <th>가격</th>\n",
       "      <th>셀프</th>\n",
       "      <th>상표</th>\n",
       "      <th>구</th>\n",
       "    </tr>\n",
       "  </thead>\n",
       "  <tbody>\n",
       "    <tr>\n",
       "      <th>188</th>\n",
       "      <td>㈜성동에너지</td>\n",
       "      <td>서울 성동구 천호대로 392</td>\n",
       "      <td>1605.0</td>\n",
       "      <td>Y</td>\n",
       "      <td>HD현대오일뱅크</td>\n",
       "      <td>성동구</td>\n",
       "    </tr>\n",
       "    <tr>\n",
       "      <th>187</th>\n",
       "      <td>(주)서울에너지 직영</td>\n",
       "      <td>서울 성동구 천호대로 324 (용답동)</td>\n",
       "      <td>1605.0</td>\n",
       "      <td>Y</td>\n",
       "      <td>S-OIL</td>\n",
       "      <td>성동구</td>\n",
       "    </tr>\n",
       "    <tr>\n",
       "      <th>53</th>\n",
       "      <td>(주)자연에너지 국민주유소</td>\n",
       "      <td>서울 동대문구 답십리로 223 (답십리동)</td>\n",
       "      <td>1635.0</td>\n",
       "      <td>Y</td>\n",
       "      <td>HD현대오일뱅크</td>\n",
       "      <td>동대문구</td>\n",
       "    </tr>\n",
       "    <tr>\n",
       "      <th>246</th>\n",
       "      <td>이케이에너지(주) 강서주유소</td>\n",
       "      <td>서울 강서구 화곡로 273 (화곡동)</td>\n",
       "      <td>1638.0</td>\n",
       "      <td>Y</td>\n",
       "      <td>HD현대오일뱅크</td>\n",
       "      <td>강서구</td>\n",
       "    </tr>\n",
       "    <tr>\n",
       "      <th>245</th>\n",
       "      <td>화곡역주유소</td>\n",
       "      <td>서울 강서구 강서로 154 (화곡동)</td>\n",
       "      <td>1638.0</td>\n",
       "      <td>Y</td>\n",
       "      <td>알뜰주유소</td>\n",
       "      <td>강서구</td>\n",
       "    </tr>\n",
       "    <tr>\n",
       "      <th>136</th>\n",
       "      <td>우림주유소</td>\n",
       "      <td>서울 중랑구 용마산로 487 (망우제3동)</td>\n",
       "      <td>1643.0</td>\n",
       "      <td>Y</td>\n",
       "      <td>GS칼텍스</td>\n",
       "      <td>중랑구</td>\n",
       "    </tr>\n",
       "    <tr>\n",
       "      <th>336</th>\n",
       "      <td>㈜원천주유소</td>\n",
       "      <td>서울 성북구 돌곶이로 142</td>\n",
       "      <td>1643.0</td>\n",
       "      <td>Y</td>\n",
       "      <td>GS칼텍스</td>\n",
       "      <td>성북구</td>\n",
       "    </tr>\n",
       "    <tr>\n",
       "      <th>340</th>\n",
       "      <td>이케이에너지㈜ 강산주유소</td>\n",
       "      <td>서울 성북구 보문로 27 (보문동7가)</td>\n",
       "      <td>1645.0</td>\n",
       "      <td>Y</td>\n",
       "      <td>GS칼텍스</td>\n",
       "      <td>성북구</td>\n",
       "    </tr>\n",
       "    <tr>\n",
       "      <th>337</th>\n",
       "      <td>신방주유소</td>\n",
       "      <td>서울 성북구 안암로 111 (안암동5가)</td>\n",
       "      <td>1645.0</td>\n",
       "      <td>N</td>\n",
       "      <td>S-OIL</td>\n",
       "      <td>성북구</td>\n",
       "    </tr>\n",
       "    <tr>\n",
       "      <th>137</th>\n",
       "      <td>(주)자연에너지 대창주유소</td>\n",
       "      <td>서울 중랑구 동일로 636 (면목동)</td>\n",
       "      <td>1645.0</td>\n",
       "      <td>Y</td>\n",
       "      <td>HD현대오일뱅크</td>\n",
       "      <td>중랑구</td>\n",
       "    </tr>\n",
       "  </tbody>\n",
       "</table>\n",
       "</div>"
      ],
      "text/plain": [
       "                  상호                       주소      가격 셀프        상표     구\n",
       "188           ㈜성동에너지          서울 성동구 천호대로 392  1605.0  Y  HD현대오일뱅크   성동구\n",
       "187      (주)서울에너지 직영    서울 성동구 천호대로 324 (용답동)  1605.0  Y     S-OIL   성동구\n",
       "53    (주)자연에너지 국민주유소  서울 동대문구 답십리로 223 (답십리동)  1635.0  Y  HD현대오일뱅크  동대문구\n",
       "246  이케이에너지(주) 강서주유소     서울 강서구 화곡로 273 (화곡동)  1638.0  Y  HD현대오일뱅크   강서구\n",
       "245           화곡역주유소     서울 강서구 강서로 154 (화곡동)  1638.0  Y     알뜰주유소   강서구\n",
       "136            우림주유소  서울 중랑구 용마산로 487 (망우제3동)  1643.0  Y     GS칼텍스   중랑구\n",
       "336           ㈜원천주유소          서울 성북구 돌곶이로 142  1643.0  Y     GS칼텍스   성북구\n",
       "340    이케이에너지㈜ 강산주유소    서울 성북구 보문로 27 (보문동7가)  1645.0  Y     GS칼텍스   성북구\n",
       "337            신방주유소   서울 성북구 안암로 111 (안암동5가)  1645.0  N     S-OIL   성북구\n",
       "137   (주)자연에너지 대창주유소     서울 중랑구 동일로 636 (면목동)  1645.0  Y  HD현대오일뱅크   중랑구"
      ]
     },
     "execution_count": 117,
     "metadata": {},
     "output_type": "execute_result"
    }
   ],
   "source": [
    "oil_data.sort_values(by=\"가격\", ascending=True).head(10)"
   ]
  },
  {
   "cell_type": "code",
   "execution_count": 118,
   "metadata": {},
   "outputs": [
    {
     "data": {
      "text/html": [
       "<div>\n",
       "<style scoped>\n",
       "    .dataframe tbody tr th:only-of-type {\n",
       "        vertical-align: middle;\n",
       "    }\n",
       "\n",
       "    .dataframe tbody tr th {\n",
       "        vertical-align: top;\n",
       "    }\n",
       "\n",
       "    .dataframe thead th {\n",
       "        text-align: right;\n",
       "    }\n",
       "</style>\n",
       "<table border=\"1\" class=\"dataframe\">\n",
       "  <thead>\n",
       "    <tr style=\"text-align: right;\">\n",
       "      <th></th>\n",
       "      <th>가격</th>\n",
       "    </tr>\n",
       "    <tr>\n",
       "      <th>구</th>\n",
       "      <th></th>\n",
       "    </tr>\n",
       "  </thead>\n",
       "  <tbody>\n",
       "    <tr>\n",
       "      <th>강남구</th>\n",
       "      <td>1959.000000</td>\n",
       "    </tr>\n",
       "    <tr>\n",
       "      <th>강동구</th>\n",
       "      <td>1797.461538</td>\n",
       "    </tr>\n",
       "    <tr>\n",
       "      <th>강북구</th>\n",
       "      <td>1675.300000</td>\n",
       "    </tr>\n",
       "    <tr>\n",
       "      <th>강서구</th>\n",
       "      <td>1717.878788</td>\n",
       "    </tr>\n",
       "    <tr>\n",
       "      <th>관악구</th>\n",
       "      <td>1770.142857</td>\n",
       "    </tr>\n",
       "  </tbody>\n",
       "</table>\n",
       "</div>"
      ],
      "text/plain": [
       "              가격\n",
       "구               \n",
       "강남구  1959.000000\n",
       "강동구  1797.461538\n",
       "강북구  1675.300000\n",
       "강서구  1717.878788\n",
       "관악구  1770.142857"
      ]
     },
     "execution_count": 118,
     "metadata": {},
     "output_type": "execute_result"
    }
   ],
   "source": [
    "import numpy as np\n",
    "\n",
    "gu_data = pd.pivot_table(data=oil_data, index=\"구\", values=\"가격\", aggfunc=np.mean)\n",
    "gu_data.head()"
   ]
  },
  {
   "cell_type": "code",
   "execution_count": 122,
   "metadata": {},
   "outputs": [
    {
     "data": {
      "text/html": [
       "<div style=\"width:100%;\"><div style=\"position:relative;width:100%;height:0;padding-bottom:60%;\"><span style=\"color:#565656\">Make this Notebook Trusted to load map: File -> Trust Notebook</span><iframe srcdoc=\"&lt;!DOCTYPE html&gt;\n",
       "&lt;html&gt;\n",
       "&lt;head&gt;\n",
       "    \n",
       "    &lt;meta http-equiv=&quot;content-type&quot; content=&quot;text/html; charset=UTF-8&quot; /&gt;\n",
       "    \n",
       "        &lt;script&gt;\n",
       "            L_NO_TOUCH = false;\n",
       "            L_DISABLE_3D = false;\n",
       "        &lt;/script&gt;\n",
       "    \n",
       "    &lt;style&gt;html, body {width: 100%;height: 100%;margin: 0;padding: 0;}&lt;/style&gt;\n",
       "    &lt;style&gt;#map {position:absolute;top:0;bottom:0;right:0;left:0;}&lt;/style&gt;\n",
       "    &lt;script src=&quot;https://cdn.jsdelivr.net/npm/leaflet@1.9.3/dist/leaflet.js&quot;&gt;&lt;/script&gt;\n",
       "    &lt;script src=&quot;https://code.jquery.com/jquery-3.7.1.min.js&quot;&gt;&lt;/script&gt;\n",
       "    &lt;script src=&quot;https://cdn.jsdelivr.net/npm/bootstrap@5.2.2/dist/js/bootstrap.bundle.min.js&quot;&gt;&lt;/script&gt;\n",
       "    &lt;script src=&quot;https://cdnjs.cloudflare.com/ajax/libs/Leaflet.awesome-markers/2.0.2/leaflet.awesome-markers.js&quot;&gt;&lt;/script&gt;\n",
       "    &lt;link rel=&quot;stylesheet&quot; href=&quot;https://cdn.jsdelivr.net/npm/leaflet@1.9.3/dist/leaflet.css&quot;/&gt;\n",
       "    &lt;link rel=&quot;stylesheet&quot; href=&quot;https://cdn.jsdelivr.net/npm/bootstrap@5.2.2/dist/css/bootstrap.min.css&quot;/&gt;\n",
       "    &lt;link rel=&quot;stylesheet&quot; href=&quot;https://netdna.bootstrapcdn.com/bootstrap/3.0.0/css/bootstrap-glyphicons.css&quot;/&gt;\n",
       "    &lt;link rel=&quot;stylesheet&quot; href=&quot;https://cdn.jsdelivr.net/npm/@fortawesome/fontawesome-free@6.2.0/css/all.min.css&quot;/&gt;\n",
       "    &lt;link rel=&quot;stylesheet&quot; href=&quot;https://cdnjs.cloudflare.com/ajax/libs/Leaflet.awesome-markers/2.0.2/leaflet.awesome-markers.css&quot;/&gt;\n",
       "    &lt;link rel=&quot;stylesheet&quot; href=&quot;https://cdn.jsdelivr.net/gh/python-visualization/folium/folium/templates/leaflet.awesome.rotate.min.css&quot;/&gt;\n",
       "    \n",
       "            &lt;meta name=&quot;viewport&quot; content=&quot;width=device-width,\n",
       "                initial-scale=1.0, maximum-scale=1.0, user-scalable=no&quot; /&gt;\n",
       "            &lt;style&gt;\n",
       "                #map_4728dc7bea418cec4b10ea5e9894f19f {\n",
       "                    position: relative;\n",
       "                    width: 100.0%;\n",
       "                    height: 100.0%;\n",
       "                    left: 0.0%;\n",
       "                    top: 0.0%;\n",
       "                }\n",
       "                .leaflet-container { font-size: 1rem; }\n",
       "            &lt;/style&gt;\n",
       "        \n",
       "    &lt;script src=&quot;https://cdnjs.cloudflare.com/ajax/libs/d3/3.5.5/d3.min.js&quot;&gt;&lt;/script&gt;\n",
       "&lt;/head&gt;\n",
       "&lt;body&gt;\n",
       "    \n",
       "    \n",
       "            &lt;div class=&quot;folium-map&quot; id=&quot;map_4728dc7bea418cec4b10ea5e9894f19f&quot; &gt;&lt;/div&gt;\n",
       "        \n",
       "&lt;/body&gt;\n",
       "&lt;script&gt;\n",
       "    \n",
       "    \n",
       "            var map_4728dc7bea418cec4b10ea5e9894f19f = L.map(\n",
       "                &quot;map_4728dc7bea418cec4b10ea5e9894f19f&quot;,\n",
       "                {\n",
       "                    center: [37.5502, 126.982],\n",
       "                    crs: L.CRS.EPSG3857,\n",
       "                    ...{\n",
       "  &quot;zoom&quot;: 10.5,\n",
       "  &quot;zoomControl&quot;: true,\n",
       "  &quot;preferCanvas&quot;: false,\n",
       "}\n",
       "\n",
       "                }\n",
       "            );\n",
       "\n",
       "            \n",
       "\n",
       "        \n",
       "    \n",
       "            var tile_layer_ed3c5512f2308ad7bf12cfe91796e1f2 = L.tileLayer(\n",
       "                &quot;https://tile.openstreetmap.org/{z}/{x}/{y}.png&quot;,\n",
       "                {\n",
       "  &quot;minZoom&quot;: 0,\n",
       "  &quot;maxZoom&quot;: 19,\n",
       "  &quot;maxNativeZoom&quot;: 19,\n",
       "  &quot;noWrap&quot;: false,\n",
       "  &quot;attribution&quot;: &quot;\\u0026copy; \\u003ca href=\\&quot;https://www.openstreetmap.org/copyright\\&quot;\\u003eOpenStreetMap\\u003c/a\\u003e contributors&quot;,\n",
       "  &quot;subdomains&quot;: &quot;abc&quot;,\n",
       "  &quot;detectRetina&quot;: false,\n",
       "  &quot;tms&quot;: false,\n",
       "  &quot;opacity&quot;: 1,\n",
       "}\n",
       "\n",
       "            );\n",
       "        \n",
       "    \n",
       "            tile_layer_ed3c5512f2308ad7bf12cfe91796e1f2.addTo(map_4728dc7bea418cec4b10ea5e9894f19f);\n",
       "        \n",
       "    \n",
       "            var choropleth_8af7bff7446cbcc6ecd9886ae0bdd0b0 = L.featureGroup(\n",
       "                {\n",
       "}\n",
       "            );\n",
       "        \n",
       "    \n",
       "        function geo_json_e715aabaf7b82ad899c98fc14add0750_styler(feature) {\n",
       "            switch(feature.id) {\n",
       "                case &quot;\\uac15\\ub3d9\\uad6c&quot;: case &quot;\\uc131\\ub3d9\\uad6c&quot;: case &quot;\\uc885\\ub85c\\uad6c&quot;: \n",
       "                    return {&quot;color&quot;: &quot;black&quot;, &quot;fillColor&quot;: &quot;#d4b9da&quot;, &quot;fillOpacity&quot;: 0.6, &quot;opacity&quot;: 1, &quot;weight&quot;: 1};\n",
       "                case &quot;\\uc1a1\\ud30c\\uad6c&quot;: case &quot;\\uc11c\\ucd08\\uad6c&quot;: case &quot;\\uad00\\uc545\\uad6c&quot;: case &quot;\\ub3d9\\uc791\\uad6c&quot;: case &quot;\\uc601\\ub4f1\\ud3ec\\uad6c&quot;: case &quot;\\uae08\\ucc9c\\uad6c&quot;: case &quot;\\uad6c\\ub85c\\uad6c&quot;: case &quot;\\uac15\\uc11c\\uad6c&quot;: case &quot;\\uc591\\ucc9c\\uad6c&quot;: case &quot;\\ub9c8\\ud3ec\\uad6c&quot;: case &quot;\\uc11c\\ub300\\ubb38\\uad6c&quot;: case &quot;\\uc740\\ud3c9\\uad6c&quot;: case &quot;\\ub178\\uc6d0\\uad6c&quot;: case &quot;\\ub3c4\\ubd09\\uad6c&quot;: case &quot;\\uac15\\ubd81\\uad6c&quot;: case &quot;\\uc131\\ubd81\\uad6c&quot;: case &quot;\\uc911\\ub791\\uad6c&quot;: case &quot;\\ub3d9\\ub300\\ubb38\\uad6c&quot;: case &quot;\\uad11\\uc9c4\\uad6c&quot;: \n",
       "                    return {&quot;color&quot;: &quot;black&quot;, &quot;fillColor&quot;: &quot;#f1eef6&quot;, &quot;fillOpacity&quot;: 0.6, &quot;opacity&quot;: 1, &quot;weight&quot;: 1};\n",
       "                case &quot;\\uac15\\ub0a8\\uad6c&quot;: \n",
       "                    return {&quot;color&quot;: &quot;black&quot;, &quot;fillColor&quot;: &quot;#c994c7&quot;, &quot;fillOpacity&quot;: 0.6, &quot;opacity&quot;: 1, &quot;weight&quot;: 1};\n",
       "                case &quot;\\uc6a9\\uc0b0\\uad6c&quot;: \n",
       "                    return {&quot;color&quot;: &quot;black&quot;, &quot;fillColor&quot;: &quot;#980043&quot;, &quot;fillOpacity&quot;: 0.6, &quot;opacity&quot;: 1, &quot;weight&quot;: 1};\n",
       "                default:\n",
       "                    return {&quot;color&quot;: &quot;black&quot;, &quot;fillColor&quot;: &quot;#dd1c77&quot;, &quot;fillOpacity&quot;: 0.6, &quot;opacity&quot;: 1, &quot;weight&quot;: 1};\n",
       "            }\n",
       "        }\n",
       "\n",
       "        function geo_json_e715aabaf7b82ad899c98fc14add0750_onEachFeature(feature, layer) {\n",
       "            layer.on({\n",
       "            });\n",
       "        };\n",
       "        var geo_json_e715aabaf7b82ad899c98fc14add0750 = L.geoJson(null, {\n",
       "                onEachFeature: geo_json_e715aabaf7b82ad899c98fc14add0750_onEachFeature,\n",
       "            \n",
       "                style: geo_json_e715aabaf7b82ad899c98fc14add0750_styler,\n",
       "            ...{\n",
       "}\n",
       "        });\n",
       "\n",
       "        function geo_json_e715aabaf7b82ad899c98fc14add0750_add (data) {\n",
       "            geo_json_e715aabaf7b82ad899c98fc14add0750\n",
       "                .addData(data);\n",
       "        }\n",
       "            geo_json_e715aabaf7b82ad899c98fc14add0750_add({&quot;features&quot;: [{&quot;geometry&quot;: {&quot;coordinates&quot;: [[[127.11519584981606, 37.557533180704915], [127.16683184366129, 37.57672487388627], [127.18408792330152, 37.55814280369575], [127.16530984307447, 37.54221851258693], [127.14672806823502, 37.51415680680291], [127.12123165719615, 37.52528270089], [127.1116764203608, 37.540669955324965], [127.11519584981606, 37.557533180704915]]], &quot;type&quot;: &quot;Polygon&quot;}, &quot;id&quot;: &quot;\\uac15\\ub3d9\\uad6c&quot;, &quot;properties&quot;: {&quot;base_year&quot;: &quot;2013&quot;, &quot;code&quot;: &quot;11250&quot;, &quot;name&quot;: &quot;\\uac15\\ub3d9\\uad6c&quot;, &quot;name_eng&quot;: &quot;Gangdong-gu&quot;}, &quot;type&quot;: &quot;Feature&quot;}, {&quot;geometry&quot;: {&quot;coordinates&quot;: [[[127.0690698130372, 37.522279423505026], [127.10087519791962, 37.524841220167055], [127.1116764203608, 37.540669955324965], [127.12123165719615, 37.52528270089], [127.14672806823502, 37.51415680680291], [127.1634944215765, 37.497445406097484], [127.14206058413274, 37.47089819098501], [127.12440571080893, 37.46240445587048], [127.11117085201238, 37.485708381512445], [127.0719146000724, 37.50224013587669], [127.0690698130372, 37.522279423505026]]], &quot;type&quot;: &quot;Polygon&quot;}, &quot;id&quot;: &quot;\\uc1a1\\ud30c\\uad6c&quot;, &quot;properties&quot;: {&quot;base_year&quot;: &quot;2013&quot;, &quot;code&quot;: &quot;11240&quot;, &quot;name&quot;: &quot;\\uc1a1\\ud30c\\uad6c&quot;, &quot;name_eng&quot;: &quot;Songpa-gu&quot;}, &quot;type&quot;: &quot;Feature&quot;}, {&quot;geometry&quot;: {&quot;coordinates&quot;: [[[127.05867359288398, 37.52629974922568], [127.0690698130372, 37.522279423505026], [127.0719146000724, 37.50224013587669], [127.11117085201238, 37.485708381512445], [127.12440571080893, 37.46240445587048], [127.09842759318751, 37.45862253857461], [127.08640440578156, 37.472697935184655], [127.0559170481904, 37.4659228914077], [127.03621915098798, 37.48175802427603], [127.01397119667513, 37.52503988289669], [127.02302831890559, 37.53231899582663], [127.05867359288398, 37.52629974922568]]], &quot;type&quot;: &quot;Polygon&quot;}, &quot;id&quot;: &quot;\\uac15\\ub0a8\\uad6c&quot;, &quot;properties&quot;: {&quot;base_year&quot;: &quot;2013&quot;, &quot;code&quot;: &quot;11230&quot;, &quot;name&quot;: &quot;\\uac15\\ub0a8\\uad6c&quot;, &quot;name_eng&quot;: &quot;Gangnam-gu&quot;}, &quot;type&quot;: &quot;Feature&quot;}, {&quot;geometry&quot;: {&quot;coordinates&quot;: [[[127.01397119667513, 37.52503988289669], [127.03621915098798, 37.48175802427603], [127.0559170481904, 37.4659228914077], [127.08640440578156, 37.472697935184655], [127.09842759318751, 37.45862253857461], [127.09046928565951, 37.44296826114185], [127.06778107605433, 37.426197424057314], [127.04957232987142, 37.42805836845694], [127.03881782597922, 37.45382039851715], [126.99072073195462, 37.455326143310025], [126.98367668291802, 37.473856492692086], [126.98223807916081, 37.509314966770326], [127.01397119667513, 37.52503988289669]]], &quot;type&quot;: &quot;Polygon&quot;}, &quot;id&quot;: &quot;\\uc11c\\ucd08\\uad6c&quot;, &quot;properties&quot;: {&quot;base_year&quot;: &quot;2013&quot;, &quot;code&quot;: &quot;11220&quot;, &quot;name&quot;: &quot;\\uc11c\\ucd08\\uad6c&quot;, &quot;name_eng&quot;: &quot;Seocho-gu&quot;}, &quot;type&quot;: &quot;Feature&quot;}, {&quot;geometry&quot;: {&quot;coordinates&quot;: [[[126.98367668291802, 37.473856492692086], [126.99072073195462, 37.455326143310025], [126.96520439085143, 37.438249784006246], [126.95000001010182, 37.43613451165719], [126.93084408056525, 37.447382928333994], [126.9167728146601, 37.45490566423789], [126.90156094129895, 37.47753842789901], [126.90531975801812, 37.48218087575429], [126.94922661389508, 37.49125437495649], [126.9725891850662, 37.472561363278125], [126.98367668291802, 37.473856492692086]]], &quot;type&quot;: &quot;Polygon&quot;}, &quot;id&quot;: &quot;\\uad00\\uc545\\uad6c&quot;, &quot;properties&quot;: {&quot;base_year&quot;: &quot;2013&quot;, &quot;code&quot;: &quot;11210&quot;, &quot;name&quot;: &quot;\\uad00\\uc545\\uad6c&quot;, &quot;name_eng&quot;: &quot;Gwanak-gu&quot;}, &quot;type&quot;: &quot;Feature&quot;}, {&quot;geometry&quot;: {&quot;coordinates&quot;: [[[126.98223807916081, 37.509314966770326], [126.98367668291802, 37.473856492692086], [126.9725891850662, 37.472561363278125], [126.94922661389508, 37.49125437495649], [126.90531975801812, 37.48218087575429], [126.92177893174825, 37.494889877415176], [126.92810628828279, 37.51329595732015], [126.95249990298159, 37.51722500741813], [126.98223807916081, 37.509314966770326]]], &quot;type&quot;: &quot;Polygon&quot;}, &quot;id&quot;: &quot;\\ub3d9\\uc791\\uad6c&quot;, &quot;properties&quot;: {&quot;base_year&quot;: &quot;2013&quot;, &quot;code&quot;: &quot;11200&quot;, &quot;name&quot;: &quot;\\ub3d9\\uc791\\uad6c&quot;, &quot;name_eng&quot;: &quot;Dongjak-gu&quot;}, &quot;type&quot;: &quot;Feature&quot;}, {&quot;geometry&quot;: {&quot;coordinates&quot;: [[[126.89184663862764, 37.547373974997114], [126.94566733083212, 37.526617542453366], [126.95249990298159, 37.51722500741813], [126.92810628828279, 37.51329595732015], [126.92177893174825, 37.494889877415176], [126.90531975801812, 37.48218087575429], [126.89594776782485, 37.504675281309176], [126.88156402353862, 37.513970034765684], [126.88825757860099, 37.54079733630232], [126.89184663862764, 37.547373974997114]]], &quot;type&quot;: &quot;Polygon&quot;}, &quot;id&quot;: &quot;\\uc601\\ub4f1\\ud3ec\\uad6c&quot;, &quot;properties&quot;: {&quot;base_year&quot;: &quot;2013&quot;, &quot;code&quot;: &quot;11190&quot;, &quot;name&quot;: &quot;\\uc601\\ub4f1\\ud3ec\\uad6c&quot;, &quot;name_eng&quot;: &quot;Yeongdeungpo-gu&quot;}, &quot;type&quot;: &quot;Feature&quot;}, {&quot;geometry&quot;: {&quot;coordinates&quot;: [[[126.90156094129895, 37.47753842789901], [126.9167728146601, 37.45490566423789], [126.93084408056525, 37.447382928333994], [126.9025831711697, 37.434549366349124], [126.87683271502428, 37.482576591607305], [126.90156094129895, 37.47753842789901]]], &quot;type&quot;: &quot;Polygon&quot;}, &quot;id&quot;: &quot;\\uae08\\ucc9c\\uad6c&quot;, &quot;properties&quot;: {&quot;base_year&quot;: &quot;2013&quot;, &quot;code&quot;: &quot;11180&quot;, &quot;name&quot;: &quot;\\uae08\\ucc9c\\uad6c&quot;, &quot;name_eng&quot;: &quot;Geumcheon-gu&quot;}, &quot;type&quot;: &quot;Feature&quot;}, {&quot;geometry&quot;: {&quot;coordinates&quot;: [[[126.82688081517314, 37.50548972232896], [126.88156402353862, 37.513970034765684], [126.89594776782485, 37.504675281309176], [126.90531975801812, 37.48218087575429], [126.90156094129895, 37.47753842789901], [126.87683271502428, 37.482576591607305], [126.84762676054953, 37.47146723936323], [126.83549485076196, 37.474098236975095], [126.82264796791348, 37.4878476492147], [126.82504736331406, 37.50302612640443], [126.82688081517314, 37.50548972232896]]], &quot;type&quot;: &quot;Polygon&quot;}, &quot;id&quot;: &quot;\\uad6c\\ub85c\\uad6c&quot;, &quot;properties&quot;: {&quot;base_year&quot;: &quot;2013&quot;, &quot;code&quot;: &quot;11170&quot;, &quot;name&quot;: &quot;\\uad6c\\ub85c\\uad6c&quot;, &quot;name_eng&quot;: &quot;Guro-gu&quot;}, &quot;type&quot;: &quot;Feature&quot;}, {&quot;geometry&quot;: {&quot;coordinates&quot;: [[[126.79575768552907, 37.57881087633202], [126.80702115023597, 37.60123001013228], [126.82251438477105, 37.5880430810082], [126.85984199399667, 37.571847855292745], [126.89184663862764, 37.547373974997114], [126.88825757860099, 37.54079733630232], [126.86637464321238, 37.54859191094823], [126.86610073476395, 37.52699964144669], [126.84257291943153, 37.52373707805596], [126.8242331426722, 37.53788078753248], [126.77324417717703, 37.5459123450554], [126.76979180579352, 37.55139183008809], [126.79575768552907, 37.57881087633202]]], &quot;type&quot;: &quot;Polygon&quot;}, &quot;id&quot;: &quot;\\uac15\\uc11c\\uad6c&quot;, &quot;properties&quot;: {&quot;base_year&quot;: &quot;2013&quot;, &quot;code&quot;: &quot;11160&quot;, &quot;name&quot;: &quot;\\uac15\\uc11c\\uad6c&quot;, &quot;name_eng&quot;: &quot;Gangseo-gu&quot;}, &quot;type&quot;: &quot;Feature&quot;}, {&quot;geometry&quot;: {&quot;coordinates&quot;: [[[126.8242331426722, 37.53788078753248], [126.84257291943153, 37.52373707805596], [126.86610073476395, 37.52699964144669], [126.86637464321238, 37.54859191094823], [126.88825757860099, 37.54079733630232], [126.88156402353862, 37.513970034765684], [126.82688081517314, 37.50548972232896], [126.8242331426722, 37.53788078753248]]], &quot;type&quot;: &quot;Polygon&quot;}, &quot;id&quot;: &quot;\\uc591\\ucc9c\\uad6c&quot;, &quot;properties&quot;: {&quot;base_year&quot;: &quot;2013&quot;, &quot;code&quot;: &quot;11150&quot;, &quot;name&quot;: &quot;\\uc591\\ucc9c\\uad6c&quot;, &quot;name_eng&quot;: &quot;Yangcheon-gu&quot;}, &quot;type&quot;: &quot;Feature&quot;}, {&quot;geometry&quot;: {&quot;coordinates&quot;: [[[126.90522065831053, 37.57409700522574], [126.93898161798973, 37.552310003728124], [126.96358226710812, 37.55605635475154], [126.96448570553055, 37.548705692021635], [126.94566733083212, 37.526617542453366], [126.89184663862764, 37.547373974997114], [126.85984199399667, 37.571847855292745], [126.88433284773288, 37.588143322880526], [126.90522065831053, 37.57409700522574]]], &quot;type&quot;: &quot;Polygon&quot;}, &quot;id&quot;: &quot;\\ub9c8\\ud3ec\\uad6c&quot;, &quot;properties&quot;: {&quot;base_year&quot;: &quot;2013&quot;, &quot;code&quot;: &quot;11140&quot;, &quot;name&quot;: &quot;\\ub9c8\\ud3ec\\uad6c&quot;, &quot;name_eng&quot;: &quot;Mapo-gu&quot;}, &quot;type&quot;: &quot;Feature&quot;}, {&quot;geometry&quot;: {&quot;coordinates&quot;: [[[126.9524752030572, 37.60508692737045], [126.95565425846463, 37.576080790881456], [126.96873633279075, 37.56313604690827], [126.96358226710812, 37.55605635475154], [126.93898161798973, 37.552310003728124], [126.90522065831053, 37.57409700522574], [126.9524752030572, 37.60508692737045]]], &quot;type&quot;: &quot;Polygon&quot;}, &quot;id&quot;: &quot;\\uc11c\\ub300\\ubb38\\uad6c&quot;, &quot;properties&quot;: {&quot;base_year&quot;: &quot;2013&quot;, &quot;code&quot;: &quot;11130&quot;, &quot;name&quot;: &quot;\\uc11c\\ub300\\ubb38\\uad6c&quot;, &quot;name_eng&quot;: &quot;Seodaemun-gu&quot;}, &quot;type&quot;: &quot;Feature&quot;}, {&quot;geometry&quot;: {&quot;coordinates&quot;: [[[126.9738864128702, 37.62949634786888], [126.95427017006129, 37.622033431339425], [126.9524752030572, 37.60508692737045], [126.90522065831053, 37.57409700522574], [126.88433284773288, 37.588143322880526], [126.90396681003595, 37.59227403419942], [126.90303066177668, 37.609977911401344], [126.91455481429648, 37.64150050996935], [126.956473797387, 37.652480737339445], [126.9738864128702, 37.62949634786888]]], &quot;type&quot;: &quot;Polygon&quot;}, &quot;id&quot;: &quot;\\uc740\\ud3c9\\uad6c&quot;, &quot;properties&quot;: {&quot;base_year&quot;: &quot;2013&quot;, &quot;code&quot;: &quot;11120&quot;, &quot;name&quot;: &quot;\\uc740\\ud3c9\\uad6c&quot;, &quot;name_eng&quot;: &quot;Eunpyeong-gu&quot;}, &quot;type&quot;: &quot;Feature&quot;}, {&quot;geometry&quot;: {&quot;coordinates&quot;: [[[127.0838752703195, 37.69359534202034], [127.09706391309695, 37.686383719372294], [127.09440766298717, 37.64713490473045], [127.11326795855199, 37.639622905315925], [127.10782277688129, 37.61804244241069], [127.07351243825278, 37.61283660342313], [127.05209373568619, 37.62164065487782], [127.04358800895609, 37.62848931298715], [127.05800075220091, 37.64318263878276], [127.05288479710485, 37.68423857084347], [127.0838752703195, 37.69359534202034]]], &quot;type&quot;: &quot;Polygon&quot;}, &quot;id&quot;: &quot;\\ub178\\uc6d0\\uad6c&quot;, &quot;properties&quot;: {&quot;base_year&quot;: &quot;2013&quot;, &quot;code&quot;: &quot;11110&quot;, &quot;name&quot;: &quot;\\ub178\\uc6d0\\uad6c&quot;, &quot;name_eng&quot;: &quot;Nowon-gu&quot;}, &quot;type&quot;: &quot;Feature&quot;}, {&quot;geometry&quot;: {&quot;coordinates&quot;: [[[127.05288479710485, 37.68423857084347], [127.05800075220091, 37.64318263878276], [127.04358800895609, 37.62848931298715], [127.01465935892466, 37.64943687496812], [127.02062116141389, 37.667173575971205], [127.01039666042071, 37.681894589603594], [127.01795099203432, 37.69824412775662], [127.05288479710485, 37.68423857084347]]], &quot;type&quot;: &quot;Polygon&quot;}, &quot;id&quot;: &quot;\\ub3c4\\ubd09\\uad6c&quot;, &quot;properties&quot;: {&quot;base_year&quot;: &quot;2013&quot;, &quot;code&quot;: &quot;11100&quot;, &quot;name&quot;: &quot;\\ub3c4\\ubd09\\uad6c&quot;, &quot;name_eng&quot;: &quot;Dobong-gu&quot;}, &quot;type&quot;: &quot;Feature&quot;}, {&quot;geometry&quot;: {&quot;coordinates&quot;: [[[126.99383903424, 37.676681761199085], [127.01039666042071, 37.681894589603594], [127.02062116141389, 37.667173575971205], [127.01465935892466, 37.64943687496812], [127.04358800895609, 37.62848931298715], [127.05209373568619, 37.62164065487782], [127.03892400992301, 37.609715611023816], [127.0128154749523, 37.613652243470256], [126.98672705513869, 37.63377641288196], [126.9817452676551, 37.65209769387776], [126.99383903424, 37.676681761199085]]], &quot;type&quot;: &quot;Polygon&quot;}, &quot;id&quot;: &quot;\\uac15\\ubd81\\uad6c&quot;, &quot;properties&quot;: {&quot;base_year&quot;: &quot;2013&quot;, &quot;code&quot;: &quot;11090&quot;, &quot;name&quot;: &quot;\\uac15\\ubd81\\uad6c&quot;, &quot;name_eng&quot;: &quot;Gangbuk-gu&quot;}, &quot;type&quot;: &quot;Feature&quot;}, {&quot;geometry&quot;: {&quot;coordinates&quot;: [[[126.977175406416, 37.62859715400388], [126.98672705513869, 37.63377641288196], [127.0128154749523, 37.613652243470256], [127.03892400992301, 37.609715611023816], [127.05209373568619, 37.62164065487782], [127.07351243825278, 37.61283660342313], [127.07382707099227, 37.60401928986419], [127.042705222094, 37.59239437593391], [127.02527254528003, 37.57524616245249], [126.99348293358314, 37.588565457216156], [126.98879865992384, 37.6118927319756], [126.977175406416, 37.62859715400388]]], &quot;type&quot;: &quot;Polygon&quot;}, &quot;id&quot;: &quot;\\uc131\\ubd81\\uad6c&quot;, &quot;properties&quot;: {&quot;base_year&quot;: &quot;2013&quot;, &quot;code&quot;: &quot;11080&quot;, &quot;name&quot;: &quot;\\uc131\\ubd81\\uad6c&quot;, &quot;name_eng&quot;: &quot;Seongbuk-gu&quot;}, &quot;type&quot;: &quot;Feature&quot;}, {&quot;geometry&quot;: {&quot;coordinates&quot;: [[[127.07351243825278, 37.61283660342313], [127.10782277688129, 37.61804244241069], [127.1201246020114, 37.60178457598188], [127.10304174249214, 37.57076342290955], [127.08068541280403, 37.56906425519017], [127.07382707099227, 37.60401928986419], [127.07351243825278, 37.61283660342313]]], &quot;type&quot;: &quot;Polygon&quot;}, &quot;id&quot;: &quot;\\uc911\\ub791\\uad6c&quot;, &quot;properties&quot;: {&quot;base_year&quot;: &quot;2013&quot;, &quot;code&quot;: &quot;11070&quot;, &quot;name&quot;: &quot;\\uc911\\ub791\\uad6c&quot;, &quot;name_eng&quot;: &quot;Jungnang-gu&quot;}, &quot;type&quot;: &quot;Feature&quot;}, {&quot;geometry&quot;: {&quot;coordinates&quot;: [[[127.02527254528003, 37.57524616245249], [127.042705222094, 37.59239437593391], [127.07382707099227, 37.60401928986419], [127.08068541280403, 37.56906425519017], [127.07421053024362, 37.55724769712085], [127.05005601081567, 37.567577612590846], [127.02547266349976, 37.568943552237734], [127.02527254528003, 37.57524616245249]]], &quot;type&quot;: &quot;Polygon&quot;}, &quot;id&quot;: &quot;\\ub3d9\\ub300\\ubb38\\uad6c&quot;, &quot;properties&quot;: {&quot;base_year&quot;: &quot;2013&quot;, &quot;code&quot;: &quot;11060&quot;, &quot;name&quot;: &quot;\\ub3d9\\ub300\\ubb38\\uad6c&quot;, &quot;name_eng&quot;: &quot;Dongdaemun-gu&quot;}, &quot;type&quot;: &quot;Feature&quot;}, {&quot;geometry&quot;: {&quot;coordinates&quot;: [[[127.08068541280403, 37.56906425519017], [127.10304174249214, 37.57076342290955], [127.11519584981606, 37.557533180704915], [127.1116764203608, 37.540669955324965], [127.10087519791962, 37.524841220167055], [127.0690698130372, 37.522279423505026], [127.05867359288398, 37.52629974922568], [127.07421053024362, 37.55724769712085], [127.08068541280403, 37.56906425519017]]], &quot;type&quot;: &quot;Polygon&quot;}, &quot;id&quot;: &quot;\\uad11\\uc9c4\\uad6c&quot;, &quot;properties&quot;: {&quot;base_year&quot;: &quot;2013&quot;, &quot;code&quot;: &quot;11050&quot;, &quot;name&quot;: &quot;\\uad11\\uc9c4\\uad6c&quot;, &quot;name_eng&quot;: &quot;Gwangjin-gu&quot;}, &quot;type&quot;: &quot;Feature&quot;}, {&quot;geometry&quot;: {&quot;coordinates&quot;: [[[127.02547266349976, 37.568943552237734], [127.05005601081567, 37.567577612590846], [127.07421053024362, 37.55724769712085], [127.05867359288398, 37.52629974922568], [127.02302831890559, 37.53231899582663], [127.01070894177482, 37.54118048964762], [127.02547266349976, 37.568943552237734]]], &quot;type&quot;: &quot;Polygon&quot;}, &quot;id&quot;: &quot;\\uc131\\ub3d9\\uad6c&quot;, &quot;properties&quot;: {&quot;base_year&quot;: &quot;2013&quot;, &quot;code&quot;: &quot;11040&quot;, &quot;name&quot;: &quot;\\uc131\\ub3d9\\uad6c&quot;, &quot;name_eng&quot;: &quot;Seongdong-gu&quot;}, &quot;type&quot;: &quot;Feature&quot;}, {&quot;geometry&quot;: {&quot;coordinates&quot;: [[[127.01070894177482, 37.54118048964762], [127.02302831890559, 37.53231899582663], [127.01397119667513, 37.52503988289669], [126.98223807916081, 37.509314966770326], [126.95249990298159, 37.51722500741813], [126.94566733083212, 37.526617542453366], [126.96448570553055, 37.548705692021635], [126.98752996903328, 37.55094818807139], [127.01070894177482, 37.54118048964762]]], &quot;type&quot;: &quot;Polygon&quot;}, &quot;id&quot;: &quot;\\uc6a9\\uc0b0\\uad6c&quot;, &quot;properties&quot;: {&quot;base_year&quot;: &quot;2013&quot;, &quot;code&quot;: &quot;11030&quot;, &quot;name&quot;: &quot;\\uc6a9\\uc0b0\\uad6c&quot;, &quot;name_eng&quot;: &quot;Yongsan-gu&quot;}, &quot;type&quot;: &quot;Feature&quot;}, {&quot;geometry&quot;: {&quot;coordinates&quot;: [[[127.02547266349976, 37.568943552237734], [127.01070894177482, 37.54118048964762], [126.98752996903328, 37.55094818807139], [126.96448570553055, 37.548705692021635], [126.96358226710812, 37.55605635475154], [126.96873633279075, 37.56313604690827], [127.02547266349976, 37.568943552237734]]], &quot;type&quot;: &quot;Polygon&quot;}, &quot;id&quot;: &quot;\\uc911\\uad6c&quot;, &quot;properties&quot;: {&quot;base_year&quot;: &quot;2013&quot;, &quot;code&quot;: &quot;11020&quot;, &quot;name&quot;: &quot;\\uc911\\uad6c&quot;, &quot;name_eng&quot;: &quot;Jung-gu&quot;}, &quot;type&quot;: &quot;Feature&quot;}, {&quot;geometry&quot;: {&quot;coordinates&quot;: [[[126.9738864128702, 37.62949634786888], [126.977175406416, 37.62859715400388], [126.98879865992384, 37.6118927319756], [126.99348293358314, 37.588565457216156], [127.02527254528003, 37.57524616245249], [127.02547266349976, 37.568943552237734], [126.96873633279075, 37.56313604690827], [126.95565425846463, 37.576080790881456], [126.9524752030572, 37.60508692737045], [126.95427017006129, 37.622033431339425], [126.9738864128702, 37.62949634786888]]], &quot;type&quot;: &quot;Polygon&quot;}, &quot;id&quot;: &quot;\\uc885\\ub85c\\uad6c&quot;, &quot;properties&quot;: {&quot;base_year&quot;: &quot;2013&quot;, &quot;code&quot;: &quot;11010&quot;, &quot;name&quot;: &quot;\\uc885\\ub85c\\uad6c&quot;, &quot;name_eng&quot;: &quot;Jongno-gu&quot;}, &quot;type&quot;: &quot;Feature&quot;}], &quot;type&quot;: &quot;FeatureCollection&quot;});\n",
       "\n",
       "        \n",
       "    \n",
       "            geo_json_e715aabaf7b82ad899c98fc14add0750.addTo(choropleth_8af7bff7446cbcc6ecd9886ae0bdd0b0);\n",
       "        \n",
       "    \n",
       "    var color_map_cbe1dc6f6696af5012f8ea1cc7f99496 = {};\n",
       "\n",
       "    \n",
       "    color_map_cbe1dc6f6696af5012f8ea1cc7f99496.color = d3.scale.threshold()\n",
       "              .domain([1675.3, 1676.4921175684701, 1677.6842351369405, 1678.8763527054107, 1680.068470273881, 1681.2605878423512, 1682.4527054108216, 1683.6448229792918, 1684.8369405477622, 1686.0290581162324, 1687.2211756847028, 1688.413293253173, 1689.6054108216433, 1690.7975283901135, 1691.9896459585839, 1693.181763527054, 1694.3738810955244, 1695.5659986639946, 1696.7581162324648, 1697.9502338009352, 1699.1423513694053, 1700.3344689378757, 1701.526586506346, 1702.7187040748163, 1703.9108216432865, 1705.1029392117568, 1706.295056780227, 1707.4871743486974, 1708.6792919171676, 1709.871409485638, 1711.0635270541081, 1712.2556446225785, 1713.4477621910487, 1714.639879759519, 1715.8319973279893, 1717.0241148964594, 1718.2162324649298, 1719.4083500334, 1720.6004676018704, 1721.7925851703405, 1722.984702738811, 1724.176820307281, 1725.3689378757515, 1726.5610554442217, 1727.753173012692, 1728.9452905811622, 1730.1374081496326, 1731.3295257181028, 1732.5216432865732, 1733.7137608550433, 1734.9058784235137, 1736.097995991984, 1737.2901135604543, 1738.4822311289245, 1739.6743486973946, 1740.866466265865, 1742.0585838343352, 1743.2507014028056, 1744.4428189712758, 1745.6349365397461, 1746.8270541082163, 1748.0191716766867, 1749.2112892451569, 1750.4034068136273, 1751.5955243820974, 1752.7876419505678, 1753.979759519038, 1755.1718770875084, 1756.3639946559786, 1757.556112224449, 1758.7482297929191, 1759.9403473613893, 1761.1324649298597, 1762.3245824983298, 1763.5167000668002, 1764.7088176352704, 1765.9009352037408, 1767.093052772211, 1768.2851703406814, 1769.4772879091515, 1770.669405477622, 1771.861523046092, 1773.0536406145625, 1774.2457581830326, 1775.437875751503, 1776.6299933199732, 1777.8221108884436, 1779.0142284569138, 1780.206346025384, 1781.3984635938543, 1782.5905811623245, 1783.782698730795, 1784.974816299265, 1786.1669338677355, 1787.3590514362056, 1788.551169004676, 1789.7432865731462, 1790.9354041416166, 1792.1275217100867, 1793.3196392785571, 1794.5117568470273, 1795.7038744154977, 1796.8959919839679, 1798.0881095524383, 1799.2802271209084, 1800.4723446893786, 1801.664462257849, 1802.8565798263191, 1804.0486973947895, 1805.2408149632597, 1806.43293253173, 1807.6250501002003, 1808.8171676686707, 1810.0092852371408, 1811.2014028056112, 1812.3935203740814, 1813.5856379425518, 1814.777755511022, 1815.9698730794921, 1817.1619906479625, 1818.354108216433, 1819.546225784903, 1820.7383433533732, 1821.9304609218436, 1823.122578490314, 1824.3146960587842, 1825.5068136272544, 1826.6989311957248, 1827.891048764195, 1829.0831663326653, 1830.2752839011355, 1831.4674014696059, 1832.659519038076, 1833.8516366065464, 1835.0437541750166, 1836.235871743487, 1837.4279893119572, 1838.6201068804276, 1839.8122244488977, 1841.004342017368, 1842.1964595858383, 1843.3885771543085, 1844.5806947227788, 1845.772812291249, 1846.9649298597194, 1848.1570474281896, 1849.34916499666, 1850.5412825651301, 1851.7334001336005, 1852.9255177020707, 1854.117635270541, 1855.3097528390113, 1856.5018704074816, 1857.6939879759518, 1858.8861055444222, 1860.0782231128924, 1861.2703406813625, 1862.462458249833, 1863.654575818303, 1864.8466933867735, 1866.0388109552437, 1867.230928523714, 1868.4230460921842, 1869.6151636606546, 1870.8072812291248, 1871.9993987975952, 1873.1915163660653, 1874.3836339345357, 1875.575751503006, 1876.767869071476, 1877.9599866399465, 1879.1521042084169, 1880.344221776887, 1881.5363393453572, 1882.7284569138276, 1883.9205744822978, 1885.1126920507681, 1886.3048096192383, 1887.4969271877087, 1888.6890447561789, 1889.8811623246493, 1891.0732798931194, 1892.2653974615898, 1893.45751503006, 1894.6496325985304, 1895.8417501670006, 1897.033867735471, 1898.2259853039411, 1899.4181028724115, 1900.6102204408817, 1901.8023380093518, 1902.9944555778222, 1904.1865731462924, 1905.3786907147628, 1906.570808283233, 1907.7629258517034, 1908.9550434201735, 1910.147160988644, 1911.339278557114, 1912.5313961255845, 1913.7235136940546, 1914.915631262525, 1916.1077488309952, 1917.2998663994654, 1918.4919839679358, 1919.6841015364062, 1920.8762191048763, 1922.0683366733465, 1923.260454241817, 1924.4525718102873, 1925.6446893787574, 1926.8368069472276, 1928.028924515698, 1929.2210420841682, 1930.4131596526386, 1931.6052772211087, 1932.7973947895791, 1933.9895123580493, 1935.1816299265197, 1936.3737474949899, 1937.56586506346, 1938.7579826319304, 1939.9501002004008, 1941.142217768871, 1942.3343353373411, 1943.5264529058115, 1944.718570474282, 1945.910688042752, 1947.1028056112223, 1948.2949231796927, 1949.4870407481628, 1950.6791583166332, 1951.8712758851034, 1953.0633934535738, 1954.255511022044, 1955.4476285905143, 1956.6397461589845, 1957.8318637274547, 1959.023981295925, 1960.2160988643955, 1961.4082164328656, 1962.6003340013358, 1963.7924515698062, 1964.9845691382766, 1966.1766867067468, 1967.368804275217, 1968.5609218436873, 1969.7530394121577, 1970.9451569806279, 1972.137274549098, 1973.3293921175684, 1974.5215096860386, 1975.713627254509, 1976.9057448229792, 1978.0978623914493, 1979.2899799599197, 1980.48209752839, 1981.6742150968603, 1982.8663326653304, 1984.0584502338008, 1985.2505678022712, 1986.4426853707414, 1987.6348029392116, 1988.826920507682, 1990.0190380761521, 1991.2111556446225, 1992.4032732130927, 1993.595390781563, 1994.7875083500332, 1995.9796259185036, 1997.1717434869738, 1998.3638610554442, 1999.5559786239144, 2000.7480961923848, 2001.940213760855, 2003.132331329325, 2004.3244488977955, 2005.5165664662659, 2006.708684034736, 2007.9008016032062, 2009.0929191716766, 2010.2850367401468, 2011.4771543086172, 2012.6692718770873, 2013.8613894455577, 2015.053507014028, 2016.2456245824983, 2017.4377421509685, 2018.6298597194389, 2019.821977287909, 2021.0140948563794, 2022.2062124248496, 2023.3983299933197, 2024.5904475617901, 2025.7825651302603, 2026.9746826987307, 2028.1668002672009, 2029.3589178356713, 2030.5510354041414, 2031.7431529726118, 2032.935270541082, 2034.1273881095524, 2035.3195056780226, 2036.511623246493, 2037.703740814963, 2038.8958583834335, 2040.0879759519037, 2041.280093520374, 2042.4722110888442, 2043.6643286573144, 2044.8564462257848, 2046.0485637942552, 2047.2406813627254, 2048.4327989311955, 2049.624916499666, 2050.8170340681363, 2052.0091516366065, 2053.2012692050766, 2054.393386773547, 2055.5855043420174, 2056.7776219104876, 2057.9697394789578, 2059.161857047428, 2060.3539746158986, 2061.5460921843687, 2062.738209752839, 2063.930327321309, 2065.122444889779, 2066.31456245825, 2067.50668002672, 2068.69879759519, 2069.890915163661, 2071.083032732131, 2072.275150300601, 2073.4672678690713, 2074.6593854375415, 2075.851503006012, 2077.0436205744822, 2078.2357381429524, 2079.4278557114226, 2080.619973279893, 2081.8120908483634, 2083.0042084168335, 2084.1963259853037, 2085.388443553774, 2086.5805611222445, 2087.7726786907147, 2088.964796259185, 2090.1569138276554, 2091.3490313961256, 2092.541148964596, 2093.733266533066, 2094.925384101536, 2096.1175016700067, 2097.309619238477, 2098.501736806947, 2099.6938543754172, 2100.885971943888, 2102.078089512358, 2103.270207080828, 2104.4623246492984, 2105.6544422177685, 2106.846559786239, 2108.0386773547093, 2109.2307949231795, 2110.4229124916496, 2111.6150300601203, 2112.8071476285904, 2113.9992651970606, 2115.1913827655308, 2116.3835003340014, 2117.5756179024715, 2118.7677354709417, 2119.959853039412, 2121.1519706078825, 2122.3440881763527, 2123.536205744823, 2124.728323313293, 2125.920440881763, 2127.112558450234, 2128.304676018704, 2129.496793587174, 2130.6889111556443, 2131.881028724115, 2133.073146292585, 2134.2652638610552, 2135.4573814295254, 2136.649498997996, 2137.841616566466, 2139.0337341349364, 2140.2258517034065, 2141.417969271877, 2142.6100868403473, 2143.8022044088175, 2144.9943219772877, 2146.186439545758, 2147.3785571142284, 2148.5706746826986, 2149.762792251169, 2150.9549098196394, 2152.1470273881096, 2153.3391449565797, 2154.53126252505, 2155.72338009352, 2156.9154976619907, 2158.107615230461, 2159.299732798931, 2160.491850367401, 2161.683967935872, 2162.876085504342, 2164.068203072812, 2165.2603206412823, 2166.4524382097525, 2167.644555778223, 2168.8366733466933, 2170.0287909151634, 2171.220908483634, 2172.413026052104, 2173.6051436205744, 2174.7972611890445, 2175.9893787575147, 2177.1814963259853, 2178.3736138944555, 2179.5657314629257, 2180.757849031396, 2181.9499665998665, 2183.1420841683366, 2184.334201736807, 2185.526319305277, 2186.718436873747, 2187.9105544422177, 2189.102672010688, 2190.294789579158, 2191.4869071476287, 2192.679024716099, 2193.871142284569, 2195.063259853039, 2196.2553774215094, 2197.4474949899795, 2198.63961255845, 2199.8317301269203, 2201.0238476953905, 2202.215965263861, 2203.4080828323313, 2204.6002004008014, 2205.7923179692716, 2206.984435537742, 2208.1765531062124, 2209.3686706746826, 2210.5607882431527, 2211.7529058116234, 2212.9450233800935, 2214.1371409485637, 2215.329258517034, 2216.521376085504, 2217.7134936539746, 2218.905611222445, 2220.097728790915, 2221.289846359385, 2222.4819639278558, 2223.674081496326, 2224.866199064796, 2226.0583166332663, 2227.2504342017364, 2228.442551770207, 2229.634669338677, 2230.8267869071474, 2232.018904475618, 2233.211022044088, 2234.4031396125583, 2235.5952571810285, 2236.7873747494987, 2237.979492317969, 2239.1716098864395, 2240.3637274549096, 2241.5558450233802, 2242.7479625918504, 2243.9400801603206, 2245.1321977287907, 2246.324315297261, 2247.516432865731, 2248.7085504342017, 2249.900668002672, 2251.092785571142, 2252.2849031396127, 2253.477020708083, 2254.669138276553, 2255.861255845023, 2257.0533734134933, 2258.2454909819635, 2259.437608550434, 2260.6297261189043, 2261.821843687375, 2263.013961255845, 2264.2060788243152, 2265.3981963927854, 2266.5903139612556, 2267.7824315297257, 2268.9745490981963, 2270.1666666666665])\n",
       "              .range([&#x27;#f1eef6ff&#x27;, &#x27;#f1eef6ff&#x27;, &#x27;#f1eef6ff&#x27;, &#x27;#f1eef6ff&#x27;, &#x27;#f1eef6ff&#x27;, &#x27;#f1eef6ff&#x27;, &#x27;#f1eef6ff&#x27;, &#x27;#f1eef6ff&#x27;, &#x27;#f1eef6ff&#x27;, &#x27;#f1eef6ff&#x27;, &#x27;#f1eef6ff&#x27;, &#x27;#f1eef6ff&#x27;, &#x27;#f1eef6ff&#x27;, &#x27;#f1eef6ff&#x27;, &#x27;#f1eef6ff&#x27;, &#x27;#f1eef6ff&#x27;, &#x27;#f1eef6ff&#x27;, &#x27;#f1eef6ff&#x27;, &#x27;#f1eef6ff&#x27;, &#x27;#f1eef6ff&#x27;, &#x27;#f1eef6ff&#x27;, &#x27;#f1eef6ff&#x27;, &#x27;#f1eef6ff&#x27;, &#x27;#f1eef6ff&#x27;, &#x27;#f1eef6ff&#x27;, &#x27;#f1eef6ff&#x27;, &#x27;#f1eef6ff&#x27;, &#x27;#f1eef6ff&#x27;, &#x27;#f1eef6ff&#x27;, &#x27;#f1eef6ff&#x27;, &#x27;#f1eef6ff&#x27;, &#x27;#f1eef6ff&#x27;, &#x27;#f1eef6ff&#x27;, &#x27;#f1eef6ff&#x27;, &#x27;#f1eef6ff&#x27;, &#x27;#f1eef6ff&#x27;, &#x27;#f1eef6ff&#x27;, &#x27;#f1eef6ff&#x27;, &#x27;#f1eef6ff&#x27;, &#x27;#f1eef6ff&#x27;, &#x27;#f1eef6ff&#x27;, &#x27;#f1eef6ff&#x27;, &#x27;#f1eef6ff&#x27;, &#x27;#f1eef6ff&#x27;, &#x27;#f1eef6ff&#x27;, &#x27;#f1eef6ff&#x27;, &#x27;#f1eef6ff&#x27;, &#x27;#f1eef6ff&#x27;, &#x27;#f1eef6ff&#x27;, &#x27;#f1eef6ff&#x27;, &#x27;#f1eef6ff&#x27;, &#x27;#f1eef6ff&#x27;, &#x27;#f1eef6ff&#x27;, &#x27;#f1eef6ff&#x27;, &#x27;#f1eef6ff&#x27;, &#x27;#f1eef6ff&#x27;, &#x27;#f1eef6ff&#x27;, &#x27;#f1eef6ff&#x27;, &#x27;#f1eef6ff&#x27;, &#x27;#f1eef6ff&#x27;, &#x27;#f1eef6ff&#x27;, &#x27;#f1eef6ff&#x27;, &#x27;#f1eef6ff&#x27;, &#x27;#f1eef6ff&#x27;, &#x27;#f1eef6ff&#x27;, &#x27;#f1eef6ff&#x27;, &#x27;#f1eef6ff&#x27;, &#x27;#f1eef6ff&#x27;, &#x27;#f1eef6ff&#x27;, &#x27;#f1eef6ff&#x27;, &#x27;#f1eef6ff&#x27;, &#x27;#f1eef6ff&#x27;, &#x27;#f1eef6ff&#x27;, &#x27;#f1eef6ff&#x27;, &#x27;#f1eef6ff&#x27;, &#x27;#f1eef6ff&#x27;, &#x27;#f1eef6ff&#x27;, &#x27;#f1eef6ff&#x27;, &#x27;#f1eef6ff&#x27;, &#x27;#f1eef6ff&#x27;, &#x27;#f1eef6ff&#x27;, &#x27;#f1eef6ff&#x27;, &#x27;#f1eef6ff&#x27;, &#x27;#f1eef6ff&#x27;, &#x27;#d4b9daff&#x27;, &#x27;#d4b9daff&#x27;, &#x27;#d4b9daff&#x27;, &#x27;#d4b9daff&#x27;, &#x27;#d4b9daff&#x27;, &#x27;#d4b9daff&#x27;, &#x27;#d4b9daff&#x27;, &#x27;#d4b9daff&#x27;, &#x27;#d4b9daff&#x27;, &#x27;#d4b9daff&#x27;, &#x27;#d4b9daff&#x27;, &#x27;#d4b9daff&#x27;, &#x27;#d4b9daff&#x27;, &#x27;#d4b9daff&#x27;, &#x27;#d4b9daff&#x27;, &#x27;#d4b9daff&#x27;, &#x27;#d4b9daff&#x27;, &#x27;#d4b9daff&#x27;, &#x27;#d4b9daff&#x27;, &#x27;#d4b9daff&#x27;, &#x27;#d4b9daff&#x27;, &#x27;#d4b9daff&#x27;, &#x27;#d4b9daff&#x27;, &#x27;#d4b9daff&#x27;, &#x27;#d4b9daff&#x27;, &#x27;#d4b9daff&#x27;, &#x27;#d4b9daff&#x27;, &#x27;#d4b9daff&#x27;, &#x27;#d4b9daff&#x27;, &#x27;#d4b9daff&#x27;, &#x27;#d4b9daff&#x27;, &#x27;#d4b9daff&#x27;, &#x27;#d4b9daff&#x27;, &#x27;#d4b9daff&#x27;, &#x27;#d4b9daff&#x27;, &#x27;#d4b9daff&#x27;, &#x27;#d4b9daff&#x27;, &#x27;#d4b9daff&#x27;, &#x27;#d4b9daff&#x27;, &#x27;#d4b9daff&#x27;, &#x27;#d4b9daff&#x27;, &#x27;#d4b9daff&#x27;, &#x27;#d4b9daff&#x27;, &#x27;#d4b9daff&#x27;, &#x27;#d4b9daff&#x27;, &#x27;#d4b9daff&#x27;, &#x27;#d4b9daff&#x27;, &#x27;#d4b9daff&#x27;, &#x27;#d4b9daff&#x27;, &#x27;#d4b9daff&#x27;, &#x27;#d4b9daff&#x27;, &#x27;#d4b9daff&#x27;, &#x27;#d4b9daff&#x27;, &#x27;#d4b9daff&#x27;, &#x27;#d4b9daff&#x27;, &#x27;#d4b9daff&#x27;, &#x27;#d4b9daff&#x27;, &#x27;#d4b9daff&#x27;, &#x27;#d4b9daff&#x27;, &#x27;#d4b9daff&#x27;, &#x27;#d4b9daff&#x27;, &#x27;#d4b9daff&#x27;, &#x27;#d4b9daff&#x27;, &#x27;#d4b9daff&#x27;, &#x27;#d4b9daff&#x27;, &#x27;#d4b9daff&#x27;, &#x27;#d4b9daff&#x27;, &#x27;#d4b9daff&#x27;, &#x27;#d4b9daff&#x27;, &#x27;#d4b9daff&#x27;, &#x27;#d4b9daff&#x27;, &#x27;#d4b9daff&#x27;, &#x27;#d4b9daff&#x27;, &#x27;#d4b9daff&#x27;, &#x27;#d4b9daff&#x27;, &#x27;#d4b9daff&#x27;, &#x27;#d4b9daff&#x27;, &#x27;#d4b9daff&#x27;, &#x27;#d4b9daff&#x27;, &#x27;#d4b9daff&#x27;, &#x27;#d4b9daff&#x27;, &#x27;#d4b9daff&#x27;, &#x27;#d4b9daff&#x27;, &#x27;#c994c7ff&#x27;, &#x27;#c994c7ff&#x27;, &#x27;#c994c7ff&#x27;, &#x27;#c994c7ff&#x27;, &#x27;#c994c7ff&#x27;, &#x27;#c994c7ff&#x27;, &#x27;#c994c7ff&#x27;, &#x27;#c994c7ff&#x27;, &#x27;#c994c7ff&#x27;, &#x27;#c994c7ff&#x27;, &#x27;#c994c7ff&#x27;, &#x27;#c994c7ff&#x27;, &#x27;#c994c7ff&#x27;, &#x27;#c994c7ff&#x27;, &#x27;#c994c7ff&#x27;, &#x27;#c994c7ff&#x27;, &#x27;#c994c7ff&#x27;, &#x27;#c994c7ff&#x27;, &#x27;#c994c7ff&#x27;, &#x27;#c994c7ff&#x27;, &#x27;#c994c7ff&#x27;, &#x27;#c994c7ff&#x27;, &#x27;#c994c7ff&#x27;, &#x27;#c994c7ff&#x27;, &#x27;#c994c7ff&#x27;, &#x27;#c994c7ff&#x27;, &#x27;#c994c7ff&#x27;, &#x27;#c994c7ff&#x27;, &#x27;#c994c7ff&#x27;, &#x27;#c994c7ff&#x27;, &#x27;#c994c7ff&#x27;, &#x27;#c994c7ff&#x27;, &#x27;#c994c7ff&#x27;, &#x27;#c994c7ff&#x27;, &#x27;#c994c7ff&#x27;, &#x27;#c994c7ff&#x27;, &#x27;#c994c7ff&#x27;, &#x27;#c994c7ff&#x27;, &#x27;#c994c7ff&#x27;, &#x27;#c994c7ff&#x27;, &#x27;#c994c7ff&#x27;, &#x27;#c994c7ff&#x27;, &#x27;#c994c7ff&#x27;, &#x27;#c994c7ff&#x27;, &#x27;#c994c7ff&#x27;, &#x27;#c994c7ff&#x27;, &#x27;#c994c7ff&#x27;, &#x27;#c994c7ff&#x27;, &#x27;#c994c7ff&#x27;, &#x27;#c994c7ff&#x27;, &#x27;#c994c7ff&#x27;, &#x27;#c994c7ff&#x27;, &#x27;#c994c7ff&#x27;, &#x27;#c994c7ff&#x27;, &#x27;#c994c7ff&#x27;, &#x27;#c994c7ff&#x27;, &#x27;#c994c7ff&#x27;, &#x27;#c994c7ff&#x27;, &#x27;#c994c7ff&#x27;, &#x27;#c994c7ff&#x27;, &#x27;#c994c7ff&#x27;, &#x27;#c994c7ff&#x27;, &#x27;#c994c7ff&#x27;, &#x27;#c994c7ff&#x27;, &#x27;#c994c7ff&#x27;, &#x27;#c994c7ff&#x27;, &#x27;#c994c7ff&#x27;, &#x27;#c994c7ff&#x27;, &#x27;#c994c7ff&#x27;, &#x27;#c994c7ff&#x27;, &#x27;#c994c7ff&#x27;, &#x27;#c994c7ff&#x27;, &#x27;#c994c7ff&#x27;, &#x27;#c994c7ff&#x27;, &#x27;#c994c7ff&#x27;, &#x27;#c994c7ff&#x27;, &#x27;#c994c7ff&#x27;, &#x27;#c994c7ff&#x27;, &#x27;#c994c7ff&#x27;, &#x27;#c994c7ff&#x27;, &#x27;#c994c7ff&#x27;, &#x27;#c994c7ff&#x27;, &#x27;#c994c7ff&#x27;, &#x27;#df65b0ff&#x27;, &#x27;#df65b0ff&#x27;, &#x27;#df65b0ff&#x27;, &#x27;#df65b0ff&#x27;, &#x27;#df65b0ff&#x27;, &#x27;#df65b0ff&#x27;, &#x27;#df65b0ff&#x27;, &#x27;#df65b0ff&#x27;, &#x27;#df65b0ff&#x27;, &#x27;#df65b0ff&#x27;, &#x27;#df65b0ff&#x27;, &#x27;#df65b0ff&#x27;, &#x27;#df65b0ff&#x27;, &#x27;#df65b0ff&#x27;, &#x27;#df65b0ff&#x27;, &#x27;#df65b0ff&#x27;, &#x27;#df65b0ff&#x27;, &#x27;#df65b0ff&#x27;, &#x27;#df65b0ff&#x27;, &#x27;#df65b0ff&#x27;, &#x27;#df65b0ff&#x27;, &#x27;#df65b0ff&#x27;, &#x27;#df65b0ff&#x27;, &#x27;#df65b0ff&#x27;, &#x27;#df65b0ff&#x27;, &#x27;#df65b0ff&#x27;, &#x27;#df65b0ff&#x27;, &#x27;#df65b0ff&#x27;, &#x27;#df65b0ff&#x27;, &#x27;#df65b0ff&#x27;, &#x27;#df65b0ff&#x27;, &#x27;#df65b0ff&#x27;, &#x27;#df65b0ff&#x27;, &#x27;#df65b0ff&#x27;, &#x27;#df65b0ff&#x27;, &#x27;#df65b0ff&#x27;, &#x27;#df65b0ff&#x27;, &#x27;#df65b0ff&#x27;, &#x27;#df65b0ff&#x27;, &#x27;#df65b0ff&#x27;, &#x27;#df65b0ff&#x27;, &#x27;#df65b0ff&#x27;, &#x27;#df65b0ff&#x27;, &#x27;#df65b0ff&#x27;, &#x27;#df65b0ff&#x27;, &#x27;#df65b0ff&#x27;, &#x27;#df65b0ff&#x27;, &#x27;#df65b0ff&#x27;, &#x27;#df65b0ff&#x27;, &#x27;#df65b0ff&#x27;, &#x27;#df65b0ff&#x27;, &#x27;#df65b0ff&#x27;, &#x27;#df65b0ff&#x27;, &#x27;#df65b0ff&#x27;, &#x27;#df65b0ff&#x27;, &#x27;#df65b0ff&#x27;, &#x27;#df65b0ff&#x27;, &#x27;#df65b0ff&#x27;, &#x27;#df65b0ff&#x27;, &#x27;#df65b0ff&#x27;, &#x27;#df65b0ff&#x27;, &#x27;#df65b0ff&#x27;, &#x27;#df65b0ff&#x27;, &#x27;#df65b0ff&#x27;, &#x27;#df65b0ff&#x27;, &#x27;#df65b0ff&#x27;, &#x27;#df65b0ff&#x27;, &#x27;#df65b0ff&#x27;, &#x27;#df65b0ff&#x27;, &#x27;#df65b0ff&#x27;, &#x27;#df65b0ff&#x27;, &#x27;#df65b0ff&#x27;, &#x27;#df65b0ff&#x27;, &#x27;#df65b0ff&#x27;, &#x27;#df65b0ff&#x27;, &#x27;#df65b0ff&#x27;, &#x27;#df65b0ff&#x27;, &#x27;#df65b0ff&#x27;, &#x27;#df65b0ff&#x27;, &#x27;#df65b0ff&#x27;, &#x27;#df65b0ff&#x27;, &#x27;#df65b0ff&#x27;, &#x27;#df65b0ff&#x27;, &#x27;#dd1c77ff&#x27;, &#x27;#dd1c77ff&#x27;, &#x27;#dd1c77ff&#x27;, &#x27;#dd1c77ff&#x27;, &#x27;#dd1c77ff&#x27;, &#x27;#dd1c77ff&#x27;, &#x27;#dd1c77ff&#x27;, &#x27;#dd1c77ff&#x27;, &#x27;#dd1c77ff&#x27;, &#x27;#dd1c77ff&#x27;, &#x27;#dd1c77ff&#x27;, &#x27;#dd1c77ff&#x27;, &#x27;#dd1c77ff&#x27;, &#x27;#dd1c77ff&#x27;, &#x27;#dd1c77ff&#x27;, &#x27;#dd1c77ff&#x27;, &#x27;#dd1c77ff&#x27;, &#x27;#dd1c77ff&#x27;, &#x27;#dd1c77ff&#x27;, &#x27;#dd1c77ff&#x27;, &#x27;#dd1c77ff&#x27;, &#x27;#dd1c77ff&#x27;, &#x27;#dd1c77ff&#x27;, &#x27;#dd1c77ff&#x27;, &#x27;#dd1c77ff&#x27;, &#x27;#dd1c77ff&#x27;, &#x27;#dd1c77ff&#x27;, &#x27;#dd1c77ff&#x27;, &#x27;#dd1c77ff&#x27;, &#x27;#dd1c77ff&#x27;, &#x27;#dd1c77ff&#x27;, &#x27;#dd1c77ff&#x27;, &#x27;#dd1c77ff&#x27;, &#x27;#dd1c77ff&#x27;, &#x27;#dd1c77ff&#x27;, &#x27;#dd1c77ff&#x27;, &#x27;#dd1c77ff&#x27;, &#x27;#dd1c77ff&#x27;, &#x27;#dd1c77ff&#x27;, &#x27;#dd1c77ff&#x27;, &#x27;#dd1c77ff&#x27;, &#x27;#dd1c77ff&#x27;, &#x27;#dd1c77ff&#x27;, &#x27;#dd1c77ff&#x27;, &#x27;#dd1c77ff&#x27;, &#x27;#dd1c77ff&#x27;, &#x27;#dd1c77ff&#x27;, &#x27;#dd1c77ff&#x27;, &#x27;#dd1c77ff&#x27;, &#x27;#dd1c77ff&#x27;, &#x27;#dd1c77ff&#x27;, &#x27;#dd1c77ff&#x27;, &#x27;#dd1c77ff&#x27;, &#x27;#dd1c77ff&#x27;, &#x27;#dd1c77ff&#x27;, &#x27;#dd1c77ff&#x27;, &#x27;#dd1c77ff&#x27;, &#x27;#dd1c77ff&#x27;, &#x27;#dd1c77ff&#x27;, &#x27;#dd1c77ff&#x27;, &#x27;#dd1c77ff&#x27;, &#x27;#dd1c77ff&#x27;, &#x27;#dd1c77ff&#x27;, &#x27;#dd1c77ff&#x27;, &#x27;#dd1c77ff&#x27;, &#x27;#dd1c77ff&#x27;, &#x27;#dd1c77ff&#x27;, &#x27;#dd1c77ff&#x27;, &#x27;#dd1c77ff&#x27;, &#x27;#dd1c77ff&#x27;, &#x27;#dd1c77ff&#x27;, &#x27;#dd1c77ff&#x27;, &#x27;#dd1c77ff&#x27;, &#x27;#dd1c77ff&#x27;, &#x27;#dd1c77ff&#x27;, &#x27;#dd1c77ff&#x27;, &#x27;#dd1c77ff&#x27;, &#x27;#dd1c77ff&#x27;, &#x27;#dd1c77ff&#x27;, &#x27;#dd1c77ff&#x27;, &#x27;#dd1c77ff&#x27;, &#x27;#dd1c77ff&#x27;, &#x27;#dd1c77ff&#x27;, &#x27;#980043ff&#x27;, &#x27;#980043ff&#x27;, &#x27;#980043ff&#x27;, &#x27;#980043ff&#x27;, &#x27;#980043ff&#x27;, &#x27;#980043ff&#x27;, &#x27;#980043ff&#x27;, &#x27;#980043ff&#x27;, &#x27;#980043ff&#x27;, &#x27;#980043ff&#x27;, &#x27;#980043ff&#x27;, &#x27;#980043ff&#x27;, &#x27;#980043ff&#x27;, &#x27;#980043ff&#x27;, &#x27;#980043ff&#x27;, &#x27;#980043ff&#x27;, &#x27;#980043ff&#x27;, &#x27;#980043ff&#x27;, &#x27;#980043ff&#x27;, &#x27;#980043ff&#x27;, &#x27;#980043ff&#x27;, &#x27;#980043ff&#x27;, &#x27;#980043ff&#x27;, &#x27;#980043ff&#x27;, &#x27;#980043ff&#x27;, &#x27;#980043ff&#x27;, &#x27;#980043ff&#x27;, &#x27;#980043ff&#x27;, &#x27;#980043ff&#x27;, &#x27;#980043ff&#x27;, &#x27;#980043ff&#x27;, &#x27;#980043ff&#x27;, &#x27;#980043ff&#x27;, &#x27;#980043ff&#x27;, &#x27;#980043ff&#x27;, &#x27;#980043ff&#x27;, &#x27;#980043ff&#x27;, &#x27;#980043ff&#x27;, &#x27;#980043ff&#x27;, &#x27;#980043ff&#x27;, &#x27;#980043ff&#x27;, &#x27;#980043ff&#x27;, &#x27;#980043ff&#x27;, &#x27;#980043ff&#x27;, &#x27;#980043ff&#x27;, &#x27;#980043ff&#x27;, &#x27;#980043ff&#x27;, &#x27;#980043ff&#x27;, &#x27;#980043ff&#x27;, &#x27;#980043ff&#x27;, &#x27;#980043ff&#x27;, &#x27;#980043ff&#x27;, &#x27;#980043ff&#x27;, &#x27;#980043ff&#x27;, &#x27;#980043ff&#x27;, &#x27;#980043ff&#x27;, &#x27;#980043ff&#x27;, &#x27;#980043ff&#x27;, &#x27;#980043ff&#x27;, &#x27;#980043ff&#x27;, &#x27;#980043ff&#x27;, &#x27;#980043ff&#x27;, &#x27;#980043ff&#x27;, &#x27;#980043ff&#x27;, &#x27;#980043ff&#x27;, &#x27;#980043ff&#x27;, &#x27;#980043ff&#x27;, &#x27;#980043ff&#x27;, &#x27;#980043ff&#x27;, &#x27;#980043ff&#x27;, &#x27;#980043ff&#x27;, &#x27;#980043ff&#x27;, &#x27;#980043ff&#x27;, &#x27;#980043ff&#x27;, &#x27;#980043ff&#x27;, &#x27;#980043ff&#x27;, &#x27;#980043ff&#x27;, &#x27;#980043ff&#x27;, &#x27;#980043ff&#x27;, &#x27;#980043ff&#x27;, &#x27;#980043ff&#x27;, &#x27;#980043ff&#x27;, &#x27;#980043ff&#x27;, &#x27;#980043ff&#x27;]);\n",
       "    \n",
       "\n",
       "    color_map_cbe1dc6f6696af5012f8ea1cc7f99496.x = d3.scale.linear()\n",
       "              .domain([1675.3, 2270.1666666666665])\n",
       "              .range([0, 450 - 50]);\n",
       "\n",
       "    color_map_cbe1dc6f6696af5012f8ea1cc7f99496.legend = L.control({position: &#x27;topright&#x27;});\n",
       "    color_map_cbe1dc6f6696af5012f8ea1cc7f99496.legend.onAdd = function (map) {var div = L.DomUtil.create(&#x27;div&#x27;, &#x27;legend&#x27;); return div};\n",
       "    color_map_cbe1dc6f6696af5012f8ea1cc7f99496.legend.addTo(map_4728dc7bea418cec4b10ea5e9894f19f);\n",
       "\n",
       "    color_map_cbe1dc6f6696af5012f8ea1cc7f99496.xAxis = d3.svg.axis()\n",
       "        .scale(color_map_cbe1dc6f6696af5012f8ea1cc7f99496.x)\n",
       "        .orient(&quot;top&quot;)\n",
       "        .tickSize(1)\n",
       "        .tickValues([1675.3, 1774.4444444444443, 1873.5888888888887, 1972.7333333333331, 2071.8777777777777, 2171.022222222222, 2270.1666666666665]);\n",
       "\n",
       "    color_map_cbe1dc6f6696af5012f8ea1cc7f99496.svg = d3.select(&quot;.legend.leaflet-control&quot;).append(&quot;svg&quot;)\n",
       "        .attr(&quot;id&quot;, &#x27;legend&#x27;)\n",
       "        .attr(&quot;width&quot;, 450)\n",
       "        .attr(&quot;height&quot;, 40);\n",
       "\n",
       "    color_map_cbe1dc6f6696af5012f8ea1cc7f99496.g = color_map_cbe1dc6f6696af5012f8ea1cc7f99496.svg.append(&quot;g&quot;)\n",
       "        .attr(&quot;class&quot;, &quot;key&quot;)\n",
       "        .attr(&quot;fill&quot;, &quot;black&quot;)\n",
       "        .attr(&quot;transform&quot;, &quot;translate(25,16)&quot;);\n",
       "\n",
       "    color_map_cbe1dc6f6696af5012f8ea1cc7f99496.g.selectAll(&quot;rect&quot;)\n",
       "        .data(color_map_cbe1dc6f6696af5012f8ea1cc7f99496.color.range().map(function(d, i) {\n",
       "          return {\n",
       "            x0: i ? color_map_cbe1dc6f6696af5012f8ea1cc7f99496.x(color_map_cbe1dc6f6696af5012f8ea1cc7f99496.color.domain()[i - 1]) : color_map_cbe1dc6f6696af5012f8ea1cc7f99496.x.range()[0],\n",
       "            x1: i &lt; color_map_cbe1dc6f6696af5012f8ea1cc7f99496.color.domain().length ? color_map_cbe1dc6f6696af5012f8ea1cc7f99496.x(color_map_cbe1dc6f6696af5012f8ea1cc7f99496.color.domain()[i]) : color_map_cbe1dc6f6696af5012f8ea1cc7f99496.x.range()[1],\n",
       "            z: d\n",
       "          };\n",
       "        }))\n",
       "      .enter().append(&quot;rect&quot;)\n",
       "        .attr(&quot;height&quot;, 40 - 30)\n",
       "        .attr(&quot;x&quot;, function(d) { return d.x0; })\n",
       "        .attr(&quot;width&quot;, function(d) { return d.x1 - d.x0; })\n",
       "        .style(&quot;fill&quot;, function(d) { return d.z; });\n",
       "\n",
       "    color_map_cbe1dc6f6696af5012f8ea1cc7f99496.g.call(color_map_cbe1dc6f6696af5012f8ea1cc7f99496.xAxis).append(&quot;text&quot;)\n",
       "        .attr(&quot;class&quot;, &quot;caption&quot;)\n",
       "        .attr(&quot;y&quot;, 21)\n",
       "        .attr(&quot;fill&quot;, &quot;black&quot;)\n",
       "        .text(&quot;&quot;);\n",
       "    \n",
       "            choropleth_8af7bff7446cbcc6ecd9886ae0bdd0b0.addTo(map_4728dc7bea418cec4b10ea5e9894f19f);\n",
       "        \n",
       "&lt;/script&gt;\n",
       "&lt;/html&gt;\" style=\"position:absolute;width:100%;height:100%;left:0;top:0;border:none !important;\" allowfullscreen webkitallowfullscreen mozallowfullscreen></iframe></div></div>"
      ],
      "text/plain": [
       "<folium.folium.Map at 0x7aaee98f97f0>"
      ]
     },
     "execution_count": 122,
     "metadata": {},
     "output_type": "execute_result"
    }
   ],
   "source": [
    "geo_path = \"../data/02. skorea_municipalities_geo_simple.json\"\n",
    "geo_str = json.load(open(geo_path, encoding=\"utf-8\"))\n",
    "\n",
    "map = folium.Map(location=[37.5502, 126.982], zoom_start=10.5, tiles=\"openStreetMap\")\n",
    "setting = folium.Choropleth(geo_data=geo_str,\n",
    "                data=gu_data,\n",
    "                columns=[gu_data.index, \"가격\"],\n",
    "                key_on=\"feature.id\",\n",
    "                fill_color=\"PuRd\")\n",
    "setting.add_to(map)\n",
    "map"
   ]
  },
  {
   "cell_type": "code",
   "execution_count": 119,
   "metadata": {},
   "outputs": [],
   "source": [
    "oil_data.to_csv(\"../data/seoul_oil_data.csv\", sep=\",\")"
   ]
  },
  {
   "cell_type": "code",
   "execution_count": 123,
   "metadata": {},
   "outputs": [],
   "source": [
    "map.save(\"../data/seoul_oil_map.html\")"
   ]
  },
  {
   "cell_type": "code",
   "execution_count": null,
   "metadata": {},
   "outputs": [],
   "source": []
  }
 ],
 "metadata": {
  "kernelspec": {
   "display_name": "eda_venv",
   "language": "python",
   "name": "python3"
  },
  "language_info": {
   "codemirror_mode": {
    "name": "ipython",
    "version": 3
   },
   "file_extension": ".py",
   "mimetype": "text/x-python",
   "name": "python",
   "nbconvert_exporter": "python",
   "pygments_lexer": "ipython3",
   "version": "3.12.7"
  }
 },
 "nbformat": 4,
 "nbformat_minor": 2
}
