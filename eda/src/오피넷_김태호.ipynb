{
 "cells": [
  {
   "cell_type": "markdown",
   "metadata": {},
   "source": [
    "## 주유소 정보 페이지 띄우기"
   ]
  },
  {
   "cell_type": "code",
   "execution_count": 94,
   "metadata": {},
   "outputs": [],
   "source": [
    "from selenium import webdriver\n",
    "from selenium.webdriver.chrome.service import Service\n",
    "\n",
    "url = \"https://www.opinet.co.kr/searRgSelect.do\"\n",
    "driver = webdriver.Chrome(service=Service(\"../driver/chromedriver\"))\n",
    "driver.set_window_size(1400, 1000)\n",
    "\n",
    "driver.get(url)"
   ]
  },
  {
   "cell_type": "markdown",
   "metadata": {},
   "source": [
    "## 서울시 내 구 데이터부터 찾기"
   ]
  },
  {
   "cell_type": "code",
   "execution_count": 95,
   "metadata": {},
   "outputs": [
    {
     "name": "stdout",
     "output_type": "stream",
     "text": [
      "0. \n",
      "1. 서울특별시\n",
      "2. 부산광역시\n",
      "3. 대구광역시\n",
      "4. 인천광역시\n",
      "5. 광주광역시\n",
      "6. 대전광역시\n",
      "7. 울산광역시\n",
      "8. 세종특별자치시\n",
      "9. 경기도\n",
      "10. 강원특별자치도\n",
      "11. 충청북도\n",
      "12. 충청남도\n",
      "13. 전북특별자치도\n",
      "14. 전라남도\n",
      "15. 경상북도\n",
      "16. 경상남도\n",
      "17. 제주특별자치도\n"
     ]
    }
   ],
   "source": [
    "from selenium.webdriver.common.by import By\n",
    "\n",
    "sido = driver.find_element(By.ID, \"SIDO_NM0\")\n",
    "sido_list = sido.find_elements(By.TAG_NAME, \"option\")\n",
    "for idx, sido_name in enumerate(sido_list):\n",
    "    print(str(idx) + \". \" + sido_name.get_attribute(\"value\"))"
   ]
  },
  {
   "cell_type": "code",
   "execution_count": 96,
   "metadata": {},
   "outputs": [
    {
     "data": {
      "text/plain": [
       "['',\n",
       " '서울특별시',\n",
       " '부산광역시',\n",
       " '대구광역시',\n",
       " '인천광역시',\n",
       " '광주광역시',\n",
       " '대전광역시',\n",
       " '울산광역시',\n",
       " '세종특별자치시',\n",
       " '경기도',\n",
       " '강원특별자치도',\n",
       " '충청북도',\n",
       " '충청남도',\n",
       " '전북특별자치도',\n",
       " '전라남도',\n",
       " '경상북도',\n",
       " '경상남도',\n",
       " '제주특별자치도']"
      ]
     },
     "execution_count": 96,
     "metadata": {},
     "output_type": "execute_result"
    }
   ],
   "source": [
    "sido_names = [sido_name.get_attribute(\"value\") for sido_name in sido_list]\n",
    "sido_names"
   ]
  },
  {
   "cell_type": "code",
   "execution_count": 97,
   "metadata": {},
   "outputs": [
    {
     "data": {
      "text/plain": [
       "['서울특별시',\n",
       " '부산광역시',\n",
       " '대구광역시',\n",
       " '인천광역시',\n",
       " '광주광역시',\n",
       " '대전광역시',\n",
       " '울산광역시',\n",
       " '세종특별자치시',\n",
       " '경기도',\n",
       " '강원특별자치도',\n",
       " '충청북도',\n",
       " '충청남도',\n",
       " '전북특별자치도',\n",
       " '전라남도',\n",
       " '경상북도',\n",
       " '경상남도',\n",
       " '제주특별자치도']"
      ]
     },
     "execution_count": 97,
     "metadata": {},
     "output_type": "execute_result"
    }
   ],
   "source": [
    "sido_names = sido_names[1:]\n",
    "sido_names"
   ]
  },
  {
   "cell_type": "code",
   "execution_count": 98,
   "metadata": {},
   "outputs": [
    {
     "name": "stdout",
     "output_type": "stream",
     "text": [
      "서울특별시\n"
     ]
    }
   ],
   "source": [
    "print(sido_names[0])\n",
    "sido.send_keys(sido_names[0])"
   ]
  },
  {
   "cell_type": "code",
   "execution_count": 99,
   "metadata": {},
   "outputs": [
    {
     "name": "stdout",
     "output_type": "stream",
     "text": [
      "26 ['', '강남구', '강동구', '강북구', '강서구', '관악구', '광진구', '구로구', '금천구', '노원구', '도봉구', '동대문구', '동작구', '마포구', '서대문구', '서초구', '성동구', '성북구', '송파구', '양천구', '영등포구', '용산구', '은평구', '종로구', '중구', '중랑구']\n"
     ]
    }
   ],
   "source": [
    "gu = driver.find_element(By.ID, \"SIGUNGU_NM0\")\n",
    "gu_list = gu.find_elements(By.TAG_NAME, \"option\")\n",
    "\n",
    "gu_names = [gu_name.get_attribute(\"value\") for gu_name in gu_list]\n",
    "print(len(gu_names), gu_names)"
   ]
  },
  {
   "cell_type": "code",
   "execution_count": 100,
   "metadata": {},
   "outputs": [
    {
     "name": "stdout",
     "output_type": "stream",
     "text": [
      "25 ['강남구', '강동구', '강북구', '강서구', '관악구', '광진구', '구로구', '금천구', '노원구', '도봉구', '동대문구', '동작구', '마포구', '서대문구', '서초구', '성동구', '성북구', '송파구', '양천구', '영등포구', '용산구', '은평구', '종로구', '중구', '중랑구']\n"
     ]
    }
   ],
   "source": [
    "gu_names.remove('')\n",
    "print(len(gu_names), gu_names)"
   ]
  },
  {
   "cell_type": "markdown",
   "metadata": {},
   "source": [
    "## 특정 구의 주유소 팝업창 띄우기"
   ]
  },
  {
   "cell_type": "code",
   "execution_count": 43,
   "metadata": {},
   "outputs": [],
   "source": [
    "gu.send_keys(gu_names[12])"
   ]
  },
  {
   "cell_type": "code",
   "execution_count": 44,
   "metadata": {},
   "outputs": [],
   "source": [
    "oil_list = driver.find_element(By.ID, \"body1\")\n",
    "station = oil_list.find_elements(By.TAG_NAME, \"a\")\n",
    "\n",
    "station_temp = station[2]\n",
    "station_temp.click()"
   ]
  },
  {
   "cell_type": "markdown",
   "metadata": {},
   "source": [
    "## 팝업창에서 정보 추출"
   ]
  },
  {
   "cell_type": "code",
   "execution_count": 45,
   "metadata": {},
   "outputs": [
    {
     "name": "stdout",
     "output_type": "stream",
     "text": [
      "청원주유소\n",
      "02-325-5533\n",
      "서울 마포구 월드컵북로 113 (성산동)\n",
      "HD현대오일뱅크\n",
      "고급휘발유 1,978\n",
      "보통휘발유 1,659\n",
      "경유 1,569\n",
      " \n",
      "['세차장']\n"
     ]
    }
   ],
   "source": [
    "popup = driver.find_element(By.CLASS_NAME, \"atlanmap-info-content\")\n",
    "\n",
    "name = popup.find_element(By.ID, \"os_nm\") # 주유소 이름\n",
    "phone_num = popup.find_element(By.ID, \"phn_no\") # 주유소 전화번호\n",
    "addr = popup.find_element(By.ID, \"rd_addr\") # 주유소 주소\n",
    "brand = popup.find_element(By.ID, \"poll_div_nm\") # 주유소 상표\n",
    "\n",
    "# 유가정보\n",
    "price_table = popup.find_element(By.ID, \"infoTbody\")\n",
    "price_cont = price_table.find_elements(By.TAG_NAME, \"tr\")\n",
    "price_info = {}\n",
    "for line in price_cont:\n",
    "    oil_type = line.find_elements(By.TAG_NAME, \"td\")[0].text # 유종\n",
    "    oil_price = line.find_elements(By.TAG_NAME, \"td\")[1].find_element(By.TAG_NAME, \"label\").text # 가격\n",
    "\n",
    "    price_info[oil_type] = oil_price\n",
    "\n",
    "# 부가정보\n",
    "service = popup.find_element(By.CLASS_NAME, \"service\")\n",
    "service_img = service.find_elements(By.TAG_NAME, \"img\")\n",
    "service_list = []\n",
    "for img in service_img:\n",
    "    # image 이름 기준으로 부가 서비스 유무 파악\n",
    "    if \"off\" not in img.get_attribute(\"src\"):\n",
    "        service_list.append(img.get_attribute(\"alt\"))\n",
    "\n",
    "# 각 정보 출력\n",
    "print(name.text)\n",
    "print(phone_num.text)\n",
    "print(addr.text)\n",
    "print(brand.text)\n",
    "\n",
    "for key, value in price_info.items():\n",
    "    print(key, value)\n",
    "\n",
    "print(service_list)"
   ]
  },
  {
   "cell_type": "markdown",
   "metadata": {},
   "source": [
    "## 특정 구 안에서 정보 추출 테스트"
   ]
  },
  {
   "cell_type": "code",
   "execution_count": 57,
   "metadata": {},
   "outputs": [],
   "source": [
    "import time\n",
    "from selenium.webdriver.support.ui import WebDriverWait\n",
    "from selenium.webdriver.support import expected_conditions as EC\n",
    "\n",
    "oil_list = driver.find_element(By.ID, \"body1\")\n",
    "stations = oil_list.find_elements(By.TAG_NAME, \"a\")\n",
    "\n",
    "name_list = []\n",
    "phn_list = []\n",
    "addr_list = []\n",
    "brand_list = []\n",
    "price_list = []\n",
    "service_list = []\n",
    "\n",
    "for station in stations:\n",
    "    station.click()\n",
    "    time.sleep(0.5)\n",
    "\n",
    "    popup = WebDriverWait(driver, 3).until(\n",
    "        EC.presence_of_element_located((By.CLASS_NAME, \"atlanmap-info-content\")))\n",
    "\n",
    "    name = popup.find_element(By.ID, \"os_nm\") # 주유소 이름\n",
    "    phone_num = popup.find_element(By.ID, \"phn_no\") # 주유소 전화번호\n",
    "    addr = popup.find_element(By.ID, \"rd_addr\") # 주유소 주소\n",
    "    brand = popup.find_element(By.ID, \"poll_div_nm\") # 주유소 상표\n",
    "\n",
    "    # 유가정보\n",
    "    price_table = WebDriverWait(driver, 3).until(\n",
    "                EC.presence_of_element_located((By.ID, \"infoTbody\")))\n",
    "    price_cont = price_table.find_elements(By.TAG_NAME, \"tr\")\n",
    "    price_info = {}\n",
    "    for line in price_cont:\n",
    "        oil_type = line.find_elements(By.TAG_NAME, \"td\")[0].text # 유종\n",
    "        oil_price = line.find_elements(By.TAG_NAME, \"td\")[1].find_element(By.TAG_NAME, \"label\").text # 가격\n",
    "\n",
    "        price_info[oil_type] = oil_price\n",
    "\n",
    "    # 부가정보\n",
    "    service = popup.find_element(By.CLASS_NAME, \"service\")\n",
    "    service_img = service.find_elements(By.TAG_NAME, \"img\")\n",
    "    services = []\n",
    "    for img in service_img:\n",
    "        # image 이름 기준으로 부가 서비스 유무 파악\n",
    "        if \"off\" not in img.get_attribute(\"src\"):\n",
    "            services.append(img.get_attribute(\"alt\"))\n",
    "\n",
    "    name_list.append(name.text)\n",
    "    phn_list.append(phone_num.text)\n",
    "    addr_list.append(addr.text)\n",
    "    brand_list.append(brand.text)\n",
    "    price_list.append(price_info)\n",
    "    service_list.append(services)\n"
   ]
  },
  {
   "cell_type": "code",
   "execution_count": 58,
   "metadata": {},
   "outputs": [
    {
     "data": {
      "text/plain": [
       "(12, 12, 12, 12, 12, 12)"
      ]
     },
     "execution_count": 58,
     "metadata": {},
     "output_type": "execute_result"
    }
   ],
   "source": [
    "# 리스트 길이 확인\n",
    "len(name_list), len(phn_list), len(addr_list), len(brand_list), len(price_list), len(service_list)"
   ]
  },
  {
   "cell_type": "code",
   "execution_count": 59,
   "metadata": {},
   "outputs": [
    {
     "name": "stdout",
     "output_type": "stream",
     "text": [
      "마포시엠주유소\n"
     ]
    }
   ],
   "source": [
    "print(name_list[0])"
   ]
  },
  {
   "cell_type": "markdown",
   "metadata": {},
   "source": [
    "## Dataframe 변환 연습(특정 구만)"
   ]
  },
  {
   "cell_type": "code",
   "execution_count": 60,
   "metadata": {},
   "outputs": [
    {
     "data": {
      "text/html": [
       "<div>\n",
       "<style scoped>\n",
       "    .dataframe tbody tr th:only-of-type {\n",
       "        vertical-align: middle;\n",
       "    }\n",
       "\n",
       "    .dataframe tbody tr th {\n",
       "        vertical-align: top;\n",
       "    }\n",
       "\n",
       "    .dataframe thead th {\n",
       "        text-align: right;\n",
       "    }\n",
       "</style>\n",
       "<table border=\"1\" class=\"dataframe\">\n",
       "  <thead>\n",
       "    <tr style=\"text-align: right;\">\n",
       "      <th></th>\n",
       "      <th>상호</th>\n",
       "      <th>전화번호</th>\n",
       "      <th>주소</th>\n",
       "      <th>상표</th>\n",
       "      <th>유종별 가격</th>\n",
       "      <th>부가정보</th>\n",
       "    </tr>\n",
       "  </thead>\n",
       "  <tbody>\n",
       "    <tr>\n",
       "      <th>0</th>\n",
       "      <td>마포시엠주유소</td>\n",
       "      <td>02-338-9447</td>\n",
       "      <td>서울 마포구 월드컵북로 62</td>\n",
       "      <td>SK에너지</td>\n",
       "      <td>{'': '', '보통휘발유': '1,659', '경유': '1,539'}</td>\n",
       "      <td></td>\n",
       "    </tr>\n",
       "    <tr>\n",
       "      <th>1</th>\n",
       "      <td>청원주유소</td>\n",
       "      <td>02-325-5533</td>\n",
       "      <td>서울 마포구 월드컵북로 113 (성산동)</td>\n",
       "      <td>HD현대오일뱅크</td>\n",
       "      <td>{'고급휘발유': '1,978', '보통휘발유': '1,659', '경유': '1,...</td>\n",
       "      <td>세차장</td>\n",
       "    </tr>\n",
       "    <tr>\n",
       "      <th>2</th>\n",
       "      <td>(주)타이거통상 월드컵주유소</td>\n",
       "      <td>070-4121-0021</td>\n",
       "      <td>서울 마포구 월드컵북로 170 (성산제2동)</td>\n",
       "      <td>S-OIL</td>\n",
       "      <td>{'고급휘발유': '1,889', '보통휘발유': '1,659', '경유': '1,...</td>\n",
       "      <td></td>\n",
       "    </tr>\n",
       "    <tr>\n",
       "      <th>3</th>\n",
       "      <td>성산대교셀프주유소</td>\n",
       "      <td>02-323-0078</td>\n",
       "      <td>서울 마포구 성산로 144</td>\n",
       "      <td>HD현대오일뱅크</td>\n",
       "      <td>{'': '', '보통휘발유': '1,659', '경유': '1,569', '실내등...</td>\n",
       "      <td>세차장, 경정비</td>\n",
       "    </tr>\n",
       "    <tr>\n",
       "      <th>4</th>\n",
       "      <td>(주)안국에너지 망원동주유소</td>\n",
       "      <td>02-334-0917</td>\n",
       "      <td>서울 마포구 월드컵로 119 (망원동)</td>\n",
       "      <td>SK에너지</td>\n",
       "      <td>{'': '', '보통휘발유': '1,758', '경유': '1,628'}</td>\n",
       "      <td>세차장</td>\n",
       "    </tr>\n",
       "    <tr>\n",
       "      <th>5</th>\n",
       "      <td>에쓰오일(주) 염리동주유소</td>\n",
       "      <td>02-3272-5155</td>\n",
       "      <td>서울 마포구 백범로 126 (염리동)</td>\n",
       "      <td>S-OIL</td>\n",
       "      <td>{'': '', '보통휘발유': '1,779', '경유': '1,669'}</td>\n",
       "      <td>세차장</td>\n",
       "    </tr>\n",
       "    <tr>\n",
       "      <th>6</th>\n",
       "      <td>용강주유소</td>\n",
       "      <td>070-7795-4800</td>\n",
       "      <td>서울 마포구 토정로 258</td>\n",
       "      <td>S-OIL</td>\n",
       "      <td>{'': '', '보통휘발유': '1,779', '경유': '1,669', '실내등...</td>\n",
       "      <td></td>\n",
       "    </tr>\n",
       "    <tr>\n",
       "      <th>7</th>\n",
       "      <td>마포주유소</td>\n",
       "      <td>02-711-5189</td>\n",
       "      <td>서울 마포구 마포대로 186</td>\n",
       "      <td>S-OIL</td>\n",
       "      <td>{'고급휘발유': '1,942', '보통휘발유': '1,792', '경유': '1,...</td>\n",
       "      <td>세차장</td>\n",
       "    </tr>\n",
       "    <tr>\n",
       "      <th>8</th>\n",
       "      <td>에스에스오토셀프</td>\n",
       "      <td>02-336-5185</td>\n",
       "      <td>서울 마포구 서강로 76 (창전동)</td>\n",
       "      <td>HD현대오일뱅크</td>\n",
       "      <td>{'고급휘발유': '2,098', '보통휘발유': '1,799', '경유': '1,...</td>\n",
       "      <td>세차장, 24시영업</td>\n",
       "    </tr>\n",
       "    <tr>\n",
       "      <th>9</th>\n",
       "      <td>(주)만성상사 대흥주유소</td>\n",
       "      <td>02-3273-5151</td>\n",
       "      <td>서울 마포구 대흥로 61 (대흥동)</td>\n",
       "      <td>SK에너지</td>\n",
       "      <td>{'고급휘발유': '2,199', '보통휘발유': '1,799', '경유': '1,...</td>\n",
       "      <td>세차장, 24시영업</td>\n",
       "    </tr>\n",
       "    <tr>\n",
       "      <th>10</th>\n",
       "      <td>SK에너지 양지주유소</td>\n",
       "      <td>02-706-8955</td>\n",
       "      <td>서울 마포구 마포대로 69 (도화동)</td>\n",
       "      <td>SK에너지</td>\n",
       "      <td>{'고급휘발유': '1,929', '보통휘발유': '1,815', '경유': '1,...</td>\n",
       "      <td>편의점, 24시영업</td>\n",
       "    </tr>\n",
       "    <tr>\n",
       "      <th>11</th>\n",
       "      <td>SK에너지(주) 안국주유소</td>\n",
       "      <td>02-3144-1197</td>\n",
       "      <td>서울 마포구 양화로 33</td>\n",
       "      <td>SK에너지</td>\n",
       "      <td>{'고급휘발유': '1,929', '보통휘발유': '1,819', '경유': '1,...</td>\n",
       "      <td>24시영업</td>\n",
       "    </tr>\n",
       "  </tbody>\n",
       "</table>\n",
       "</div>"
      ],
      "text/plain": [
       "                 상호           전화번호                        주소        상표  \\\n",
       "0           마포시엠주유소    02-338-9447           서울 마포구 월드컵북로 62     SK에너지   \n",
       "1             청원주유소    02-325-5533    서울 마포구 월드컵북로 113 (성산동)  HD현대오일뱅크   \n",
       "2   (주)타이거통상 월드컵주유소  070-4121-0021  서울 마포구 월드컵북로 170 (성산제2동)     S-OIL   \n",
       "3         성산대교셀프주유소    02-323-0078            서울 마포구 성산로 144  HD현대오일뱅크   \n",
       "4   (주)안국에너지 망원동주유소    02-334-0917     서울 마포구 월드컵로 119 (망원동)     SK에너지   \n",
       "5    에쓰오일(주) 염리동주유소   02-3272-5155      서울 마포구 백범로 126 (염리동)     S-OIL   \n",
       "6             용강주유소  070-7795-4800            서울 마포구 토정로 258     S-OIL   \n",
       "7             마포주유소    02-711-5189           서울 마포구 마포대로 186     S-OIL   \n",
       "8          에스에스오토셀프    02-336-5185       서울 마포구 서강로 76 (창전동)  HD현대오일뱅크   \n",
       "9     (주)만성상사 대흥주유소   02-3273-5151       서울 마포구 대흥로 61 (대흥동)     SK에너지   \n",
       "10      SK에너지 양지주유소    02-706-8955      서울 마포구 마포대로 69 (도화동)     SK에너지   \n",
       "11   SK에너지(주) 안국주유소   02-3144-1197             서울 마포구 양화로 33     SK에너지   \n",
       "\n",
       "                                               유종별 가격        부가정보  \n",
       "0           {'': '', '보통휘발유': '1,659', '경유': '1,539'}              \n",
       "1   {'고급휘발유': '1,978', '보통휘발유': '1,659', '경유': '1,...         세차장  \n",
       "2   {'고급휘발유': '1,889', '보통휘발유': '1,659', '경유': '1,...              \n",
       "3   {'': '', '보통휘발유': '1,659', '경유': '1,569', '실내등...    세차장, 경정비  \n",
       "4           {'': '', '보통휘발유': '1,758', '경유': '1,628'}         세차장  \n",
       "5           {'': '', '보통휘발유': '1,779', '경유': '1,669'}         세차장  \n",
       "6   {'': '', '보통휘발유': '1,779', '경유': '1,669', '실내등...              \n",
       "7   {'고급휘발유': '1,942', '보통휘발유': '1,792', '경유': '1,...         세차장  \n",
       "8   {'고급휘발유': '2,098', '보통휘발유': '1,799', '경유': '1,...  세차장, 24시영업  \n",
       "9   {'고급휘발유': '2,199', '보통휘발유': '1,799', '경유': '1,...  세차장, 24시영업  \n",
       "10  {'고급휘발유': '1,929', '보통휘발유': '1,815', '경유': '1,...  편의점, 24시영업  \n",
       "11  {'고급휘발유': '1,929', '보통휘발유': '1,819', '경유': '1,...       24시영업  "
      ]
     },
     "execution_count": 60,
     "metadata": {},
     "output_type": "execute_result"
    }
   ],
   "source": [
    "# dataframe으로 변환\n",
    "import pandas as pd\n",
    "\n",
    "# 리스트를 문자열로 변환하는 함수\n",
    "def clean_list_to_string(x):\n",
    "    if isinstance(x, list):\n",
    "        return \", \".join(x)  # 리스트의 요소들을 쉼표로 구분하여 문자열로 변환\n",
    "    return x\n",
    "\n",
    "oil_data = {'상호':name_list, \n",
    "            '전화번호':phn_list, \n",
    "            \"주소\":addr_list,\n",
    "            \"상표\":brand_list,\n",
    "            \"유종별 가격\":price_list,\n",
    "            \"부가정보\":service_list}\n",
    "\n",
    "oil_df = pd.DataFrame(oil_data)\n",
    "\n",
    "oil_df.sort_index(inplace=True)\n",
    "oil_df['부가정보'] = oil_df['부가정보'].apply(clean_list_to_string)\n",
    "\n",
    "oil_df"
   ]
  },
  {
   "cell_type": "code",
   "execution_count": 61,
   "metadata": {},
   "outputs": [
    {
     "data": {
      "text/html": [
       "<div>\n",
       "<style scoped>\n",
       "    .dataframe tbody tr th:only-of-type {\n",
       "        vertical-align: middle;\n",
       "    }\n",
       "\n",
       "    .dataframe tbody tr th {\n",
       "        vertical-align: top;\n",
       "    }\n",
       "\n",
       "    .dataframe thead th {\n",
       "        text-align: right;\n",
       "    }\n",
       "</style>\n",
       "<table border=\"1\" class=\"dataframe\">\n",
       "  <thead>\n",
       "    <tr style=\"text-align: right;\">\n",
       "      <th></th>\n",
       "      <th>상호</th>\n",
       "      <th>전화번호</th>\n",
       "      <th>주소</th>\n",
       "      <th>상표</th>\n",
       "      <th>부가정보</th>\n",
       "      <th></th>\n",
       "      <th>보통휘발유</th>\n",
       "      <th>경유</th>\n",
       "      <th>고급휘발유</th>\n",
       "      <th>실내등유</th>\n",
       "    </tr>\n",
       "  </thead>\n",
       "  <tbody>\n",
       "    <tr>\n",
       "      <th>0</th>\n",
       "      <td>마포시엠주유소</td>\n",
       "      <td>02-338-9447</td>\n",
       "      <td>서울 마포구 월드컵북로 62</td>\n",
       "      <td>SK에너지</td>\n",
       "      <td></td>\n",
       "      <td></td>\n",
       "      <td>1,659</td>\n",
       "      <td>1,539</td>\n",
       "      <td>NaN</td>\n",
       "      <td>NaN</td>\n",
       "    </tr>\n",
       "    <tr>\n",
       "      <th>1</th>\n",
       "      <td>청원주유소</td>\n",
       "      <td>02-325-5533</td>\n",
       "      <td>서울 마포구 월드컵북로 113 (성산동)</td>\n",
       "      <td>HD현대오일뱅크</td>\n",
       "      <td>세차장</td>\n",
       "      <td></td>\n",
       "      <td>1,659</td>\n",
       "      <td>1,569</td>\n",
       "      <td>1,978</td>\n",
       "      <td>NaN</td>\n",
       "    </tr>\n",
       "    <tr>\n",
       "      <th>2</th>\n",
       "      <td>(주)타이거통상 월드컵주유소</td>\n",
       "      <td>070-4121-0021</td>\n",
       "      <td>서울 마포구 월드컵북로 170 (성산제2동)</td>\n",
       "      <td>S-OIL</td>\n",
       "      <td></td>\n",
       "      <td></td>\n",
       "      <td>1,659</td>\n",
       "      <td>1,539</td>\n",
       "      <td>1,889</td>\n",
       "      <td>NaN</td>\n",
       "    </tr>\n",
       "    <tr>\n",
       "      <th>3</th>\n",
       "      <td>성산대교셀프주유소</td>\n",
       "      <td>02-323-0078</td>\n",
       "      <td>서울 마포구 성산로 144</td>\n",
       "      <td>HD현대오일뱅크</td>\n",
       "      <td>세차장, 경정비</td>\n",
       "      <td></td>\n",
       "      <td>1,659</td>\n",
       "      <td>1,569</td>\n",
       "      <td>NaN</td>\n",
       "      <td>1,649</td>\n",
       "    </tr>\n",
       "    <tr>\n",
       "      <th>4</th>\n",
       "      <td>(주)안국에너지 망원동주유소</td>\n",
       "      <td>02-334-0917</td>\n",
       "      <td>서울 마포구 월드컵로 119 (망원동)</td>\n",
       "      <td>SK에너지</td>\n",
       "      <td>세차장</td>\n",
       "      <td></td>\n",
       "      <td>1,758</td>\n",
       "      <td>1,628</td>\n",
       "      <td>NaN</td>\n",
       "      <td>NaN</td>\n",
       "    </tr>\n",
       "    <tr>\n",
       "      <th>5</th>\n",
       "      <td>에쓰오일(주) 염리동주유소</td>\n",
       "      <td>02-3272-5155</td>\n",
       "      <td>서울 마포구 백범로 126 (염리동)</td>\n",
       "      <td>S-OIL</td>\n",
       "      <td>세차장</td>\n",
       "      <td></td>\n",
       "      <td>1,779</td>\n",
       "      <td>1,669</td>\n",
       "      <td>NaN</td>\n",
       "      <td>NaN</td>\n",
       "    </tr>\n",
       "    <tr>\n",
       "      <th>6</th>\n",
       "      <td>용강주유소</td>\n",
       "      <td>070-7795-4800</td>\n",
       "      <td>서울 마포구 토정로 258</td>\n",
       "      <td>S-OIL</td>\n",
       "      <td></td>\n",
       "      <td></td>\n",
       "      <td>1,779</td>\n",
       "      <td>1,669</td>\n",
       "      <td>NaN</td>\n",
       "      <td>1,650</td>\n",
       "    </tr>\n",
       "    <tr>\n",
       "      <th>7</th>\n",
       "      <td>마포주유소</td>\n",
       "      <td>02-711-5189</td>\n",
       "      <td>서울 마포구 마포대로 186</td>\n",
       "      <td>S-OIL</td>\n",
       "      <td>세차장</td>\n",
       "      <td></td>\n",
       "      <td>1,792</td>\n",
       "      <td>1,682</td>\n",
       "      <td>1,942</td>\n",
       "      <td>NaN</td>\n",
       "    </tr>\n",
       "    <tr>\n",
       "      <th>8</th>\n",
       "      <td>에스에스오토셀프</td>\n",
       "      <td>02-336-5185</td>\n",
       "      <td>서울 마포구 서강로 76 (창전동)</td>\n",
       "      <td>HD현대오일뱅크</td>\n",
       "      <td>세차장, 24시영업</td>\n",
       "      <td></td>\n",
       "      <td>1,799</td>\n",
       "      <td>1,689</td>\n",
       "      <td>2,098</td>\n",
       "      <td>NaN</td>\n",
       "    </tr>\n",
       "    <tr>\n",
       "      <th>9</th>\n",
       "      <td>(주)만성상사 대흥주유소</td>\n",
       "      <td>02-3273-5151</td>\n",
       "      <td>서울 마포구 대흥로 61 (대흥동)</td>\n",
       "      <td>SK에너지</td>\n",
       "      <td>세차장, 24시영업</td>\n",
       "      <td></td>\n",
       "      <td>1,799</td>\n",
       "      <td>1,689</td>\n",
       "      <td>2,199</td>\n",
       "      <td>1,745</td>\n",
       "    </tr>\n",
       "    <tr>\n",
       "      <th>10</th>\n",
       "      <td>SK에너지 양지주유소</td>\n",
       "      <td>02-706-8955</td>\n",
       "      <td>서울 마포구 마포대로 69 (도화동)</td>\n",
       "      <td>SK에너지</td>\n",
       "      <td>편의점, 24시영업</td>\n",
       "      <td></td>\n",
       "      <td>1,815</td>\n",
       "      <td>1,715</td>\n",
       "      <td>1,929</td>\n",
       "      <td>NaN</td>\n",
       "    </tr>\n",
       "    <tr>\n",
       "      <th>11</th>\n",
       "      <td>SK에너지(주) 안국주유소</td>\n",
       "      <td>02-3144-1197</td>\n",
       "      <td>서울 마포구 양화로 33</td>\n",
       "      <td>SK에너지</td>\n",
       "      <td>24시영업</td>\n",
       "      <td></td>\n",
       "      <td>1,819</td>\n",
       "      <td>1,719</td>\n",
       "      <td>1,929</td>\n",
       "      <td>NaN</td>\n",
       "    </tr>\n",
       "  </tbody>\n",
       "</table>\n",
       "</div>"
      ],
      "text/plain": [
       "                 상호           전화번호                        주소        상표  \\\n",
       "0           마포시엠주유소    02-338-9447           서울 마포구 월드컵북로 62     SK에너지   \n",
       "1             청원주유소    02-325-5533    서울 마포구 월드컵북로 113 (성산동)  HD현대오일뱅크   \n",
       "2   (주)타이거통상 월드컵주유소  070-4121-0021  서울 마포구 월드컵북로 170 (성산제2동)     S-OIL   \n",
       "3         성산대교셀프주유소    02-323-0078            서울 마포구 성산로 144  HD현대오일뱅크   \n",
       "4   (주)안국에너지 망원동주유소    02-334-0917     서울 마포구 월드컵로 119 (망원동)     SK에너지   \n",
       "5    에쓰오일(주) 염리동주유소   02-3272-5155      서울 마포구 백범로 126 (염리동)     S-OIL   \n",
       "6             용강주유소  070-7795-4800            서울 마포구 토정로 258     S-OIL   \n",
       "7             마포주유소    02-711-5189           서울 마포구 마포대로 186     S-OIL   \n",
       "8          에스에스오토셀프    02-336-5185       서울 마포구 서강로 76 (창전동)  HD현대오일뱅크   \n",
       "9     (주)만성상사 대흥주유소   02-3273-5151       서울 마포구 대흥로 61 (대흥동)     SK에너지   \n",
       "10      SK에너지 양지주유소    02-706-8955      서울 마포구 마포대로 69 (도화동)     SK에너지   \n",
       "11   SK에너지(주) 안국주유소   02-3144-1197             서울 마포구 양화로 33     SK에너지   \n",
       "\n",
       "          부가정보    보통휘발유     경유  고급휘발유   실내등유  \n",
       "0                 1,659  1,539    NaN    NaN  \n",
       "1          세차장    1,659  1,569  1,978    NaN  \n",
       "2                 1,659  1,539  1,889    NaN  \n",
       "3     세차장, 경정비    1,659  1,569    NaN  1,649  \n",
       "4          세차장    1,758  1,628    NaN    NaN  \n",
       "5          세차장    1,779  1,669    NaN    NaN  \n",
       "6                 1,779  1,669    NaN  1,650  \n",
       "7          세차장    1,792  1,682  1,942    NaN  \n",
       "8   세차장, 24시영업    1,799  1,689  2,098    NaN  \n",
       "9   세차장, 24시영업    1,799  1,689  2,199  1,745  \n",
       "10  편의점, 24시영업    1,815  1,715  1,929    NaN  \n",
       "11       24시영업    1,819  1,719  1,929    NaN  "
      ]
     },
     "execution_count": 61,
     "metadata": {},
     "output_type": "execute_result"
    }
   ],
   "source": [
    "# 유종별 가격 열 변환\n",
    "oil_df = pd.concat([oil_df.drop(columns=['유종별 가격']), oil_df['유종별 가격'].apply(pd.Series)], axis=1)\n",
    "oil_df"
   ]
  },
  {
   "cell_type": "markdown",
   "metadata": {},
   "source": [
    "## 서울 시내 전체에 적용해보기"
   ]
  },
  {
   "cell_type": "code",
   "execution_count": 101,
   "metadata": {},
   "outputs": [],
   "source": [
    "from tqdm.notebook import tqdm\n",
    "\n",
    "def get_station_info(gu_names):\n",
    "    name_list = []\n",
    "    phn_list = []\n",
    "    addr_list = []\n",
    "    brand_list = []\n",
    "    price_list = []\n",
    "    service_list = []\n",
    "    \n",
    "    for idx, gu_name in tqdm(enumerate(gu_names), total=len(gu_names)):\n",
    "        gu = driver.find_element(By.ID, \"SIGUNGU_NM0\")\n",
    "        gu.send_keys(gu_name)\n",
    "        time.sleep(3)\n",
    "        driver.refresh()\n",
    "\n",
    "        oil_list = driver.find_element(By.ID, \"body1\")\n",
    "        stations = oil_list.find_elements(By.TAG_NAME, \"a\")\n",
    "\n",
    "        for station in tqdm(stations):\n",
    "            station.click()\n",
    "            time.sleep(0.5)\n",
    "\n",
    "            popup = WebDriverWait(driver, 3).until(\n",
    "                EC.presence_of_element_located((By.CLASS_NAME, \"atlanmap-info-content\")))\n",
    "\n",
    "            name = popup.find_element(By.ID, \"os_nm\") # 주유소 이름\n",
    "            phone_num = popup.find_element(By.ID, \"phn_no\") # 주유소 전화번호\n",
    "            addr = popup.find_element(By.ID, \"rd_addr\") # 주유소 주소\n",
    "            brand = popup.find_element(By.ID, \"poll_div_nm\") # 주유소 상표\n",
    "\n",
    "            # 유가정보\n",
    "            price_table = WebDriverWait(driver, 3).until(\n",
    "                EC.presence_of_element_located((By.ID, \"infoTbody\")))\n",
    "            price_cont = price_table.find_elements(By.TAG_NAME, \"tr\")\n",
    "            price_info = {}\n",
    "            for line in price_cont:\n",
    "                oil_type = line.find_elements(By.TAG_NAME, \"td\")[0] # 유종\n",
    "                oil_price = line.find_elements(\n",
    "                    By.TAG_NAME, \"td\")[1].find_element(By.TAG_NAME, \"label\") # 가격\n",
    "\n",
    "            price_info[oil_type.text] = oil_price.text\n",
    "\n",
    "            # 부가정보\n",
    "            service = WebDriverWait(driver, 3).until(\n",
    "                EC.presence_of_element_located((By.CLASS_NAME, \"service\")))\n",
    "            service_img = service.find_elements(By.TAG_NAME, \"img\")\n",
    "            services = []\n",
    "            for img in service_img:\n",
    "                # image 이름 기준으로 부가 서비스 유무 파악\n",
    "                if \"off\" not in img.get_attribute(\"src\"):\n",
    "                    services.append(img.get_attribute(\"alt\"))\n",
    "\n",
    "            name_list.append(name.text)\n",
    "            phn_list.append(phone_num.text)\n",
    "            addr_list.append(addr.text)\n",
    "            brand_list.append(brand.text)\n",
    "            price_list.append(price_info)\n",
    "            service_list.append(services)\n",
    "\n",
    "    return name_list, phn_list, addr_list, brand_list, price_list, service_list"
   ]
  },
  {
   "cell_type": "code",
   "execution_count": 102,
   "metadata": {},
   "outputs": [
    {
     "data": {
      "application/vnd.jupyter.widget-view+json": {
       "model_id": "132f897ab3c844ec940f6434a9eb5270",
       "version_major": 2,
       "version_minor": 0
      },
      "text/plain": [
       "  0%|          | 0/25 [00:00<?, ?it/s]"
      ]
     },
     "metadata": {},
     "output_type": "display_data"
    },
    {
     "data": {
      "application/vnd.jupyter.widget-view+json": {
       "model_id": "e38c5ee73d854f60b8cc61327df75885",
       "version_major": 2,
       "version_minor": 0
      },
      "text/plain": [
       "  0%|          | 0/30 [00:00<?, ?it/s]"
      ]
     },
     "metadata": {},
     "output_type": "display_data"
    },
    {
     "data": {
      "application/vnd.jupyter.widget-view+json": {
       "model_id": "5520fa31dcf04d509d7ae5e62cee9522",
       "version_major": 2,
       "version_minor": 0
      },
      "text/plain": [
       "  0%|          | 0/13 [00:00<?, ?it/s]"
      ]
     },
     "metadata": {},
     "output_type": "display_data"
    },
    {
     "data": {
      "application/vnd.jupyter.widget-view+json": {
       "model_id": "9ca2fe7c8a3a48c082195fb140b5764f",
       "version_major": 2,
       "version_minor": 0
      },
      "text/plain": [
       "  0%|          | 0/10 [00:00<?, ?it/s]"
      ]
     },
     "metadata": {},
     "output_type": "display_data"
    },
    {
     "data": {
      "application/vnd.jupyter.widget-view+json": {
       "model_id": "f0b4d23b0a924c62aecee4e10644a74b",
       "version_major": 2,
       "version_minor": 0
      },
      "text/plain": [
       "  0%|          | 0/33 [00:00<?, ?it/s]"
      ]
     },
     "metadata": {},
     "output_type": "display_data"
    },
    {
     "data": {
      "application/vnd.jupyter.widget-view+json": {
       "model_id": "9dff17ab0f54448c8acdc554ac5256da",
       "version_major": 2,
       "version_minor": 0
      },
      "text/plain": [
       "  0%|          | 0/14 [00:00<?, ?it/s]"
      ]
     },
     "metadata": {},
     "output_type": "display_data"
    },
    {
     "data": {
      "application/vnd.jupyter.widget-view+json": {
       "model_id": "2ab6e140dc2f462a9d3434cbd683e9f6",
       "version_major": 2,
       "version_minor": 0
      },
      "text/plain": [
       "  0%|          | 0/13 [00:00<?, ?it/s]"
      ]
     },
     "metadata": {},
     "output_type": "display_data"
    },
    {
     "data": {
      "application/vnd.jupyter.widget-view+json": {
       "model_id": "a36deefd9fce4020939105741846eadd",
       "version_major": 2,
       "version_minor": 0
      },
      "text/plain": [
       "  0%|          | 0/18 [00:00<?, ?it/s]"
      ]
     },
     "metadata": {},
     "output_type": "display_data"
    },
    {
     "data": {
      "application/vnd.jupyter.widget-view+json": {
       "model_id": "ba174d7a7ba44f99aefe0f48ebb1212b",
       "version_major": 2,
       "version_minor": 0
      },
      "text/plain": [
       "  0%|          | 0/11 [00:00<?, ?it/s]"
      ]
     },
     "metadata": {},
     "output_type": "display_data"
    },
    {
     "data": {
      "application/vnd.jupyter.widget-view+json": {
       "model_id": "271be24c865a419180fa1104660a0d6a",
       "version_major": 2,
       "version_minor": 0
      },
      "text/plain": [
       "  0%|          | 0/14 [00:00<?, ?it/s]"
      ]
     },
     "metadata": {},
     "output_type": "display_data"
    },
    {
     "data": {
      "application/vnd.jupyter.widget-view+json": {
       "model_id": "cb37b8e20e0844d0bd284baf05812551",
       "version_major": 2,
       "version_minor": 0
      },
      "text/plain": [
       "  0%|          | 0/13 [00:00<?, ?it/s]"
      ]
     },
     "metadata": {},
     "output_type": "display_data"
    },
    {
     "data": {
      "application/vnd.jupyter.widget-view+json": {
       "model_id": "5bd49287fa104d85ac044c4d4cdfae0d",
       "version_major": 2,
       "version_minor": 0
      },
      "text/plain": [
       "  0%|          | 0/15 [00:00<?, ?it/s]"
      ]
     },
     "metadata": {},
     "output_type": "display_data"
    },
    {
     "data": {
      "application/vnd.jupyter.widget-view+json": {
       "model_id": "e2769bc8661c4cce8eb523fbc5c6b232",
       "version_major": 2,
       "version_minor": 0
      },
      "text/plain": [
       "  0%|          | 0/9 [00:00<?, ?it/s]"
      ]
     },
     "metadata": {},
     "output_type": "display_data"
    },
    {
     "data": {
      "application/vnd.jupyter.widget-view+json": {
       "model_id": "db1ed6ca93904c3384d074fccca699ea",
       "version_major": 2,
       "version_minor": 0
      },
      "text/plain": [
       "  0%|          | 0/12 [00:00<?, ?it/s]"
      ]
     },
     "metadata": {},
     "output_type": "display_data"
    },
    {
     "data": {
      "application/vnd.jupyter.widget-view+json": {
       "model_id": "8d133a6c6351418ebdf97041aaccab0c",
       "version_major": 2,
       "version_minor": 0
      },
      "text/plain": [
       "  0%|          | 0/13 [00:00<?, ?it/s]"
      ]
     },
     "metadata": {},
     "output_type": "display_data"
    },
    {
     "data": {
      "application/vnd.jupyter.widget-view+json": {
       "model_id": "5ceb31e77e7747d5a5a1163247456be0",
       "version_major": 2,
       "version_minor": 0
      },
      "text/plain": [
       "  0%|          | 0/31 [00:00<?, ?it/s]"
      ]
     },
     "metadata": {},
     "output_type": "display_data"
    },
    {
     "data": {
      "application/vnd.jupyter.widget-view+json": {
       "model_id": "343010c2e2964b62828d2318ac2ab2d7",
       "version_major": 2,
       "version_minor": 0
      },
      "text/plain": [
       "  0%|          | 0/16 [00:00<?, ?it/s]"
      ]
     },
     "metadata": {},
     "output_type": "display_data"
    },
    {
     "data": {
      "application/vnd.jupyter.widget-view+json": {
       "model_id": "2bcedc17c9e6454183707e90620504c4",
       "version_major": 2,
       "version_minor": 0
      },
      "text/plain": [
       "  0%|          | 0/23 [00:00<?, ?it/s]"
      ]
     },
     "metadata": {},
     "output_type": "display_data"
    },
    {
     "data": {
      "application/vnd.jupyter.widget-view+json": {
       "model_id": "e0f0f92725c24b8ca706cd46e5087553",
       "version_major": 2,
       "version_minor": 0
      },
      "text/plain": [
       "  0%|          | 0/28 [00:00<?, ?it/s]"
      ]
     },
     "metadata": {},
     "output_type": "display_data"
    },
    {
     "data": {
      "application/vnd.jupyter.widget-view+json": {
       "model_id": "4e6d6f310bde44e299209119596a9fab",
       "version_major": 2,
       "version_minor": 0
      },
      "text/plain": [
       "  0%|          | 0/24 [00:00<?, ?it/s]"
      ]
     },
     "metadata": {},
     "output_type": "display_data"
    },
    {
     "data": {
      "application/vnd.jupyter.widget-view+json": {
       "model_id": "4a99d2686d2146d9a99e35da9682f314",
       "version_major": 2,
       "version_minor": 0
      },
      "text/plain": [
       "  0%|          | 0/26 [00:00<?, ?it/s]"
      ]
     },
     "metadata": {},
     "output_type": "display_data"
    },
    {
     "data": {
      "application/vnd.jupyter.widget-view+json": {
       "model_id": "6d5cb03bf50449ceaa118fcbf2116870",
       "version_major": 2,
       "version_minor": 0
      },
      "text/plain": [
       "  0%|          | 0/12 [00:00<?, ?it/s]"
      ]
     },
     "metadata": {},
     "output_type": "display_data"
    },
    {
     "data": {
      "application/vnd.jupyter.widget-view+json": {
       "model_id": "32fd4ac7f7434cc1a266a74b7483c84e",
       "version_major": 2,
       "version_minor": 0
      },
      "text/plain": [
       "  0%|          | 0/15 [00:00<?, ?it/s]"
      ]
     },
     "metadata": {},
     "output_type": "display_data"
    },
    {
     "data": {
      "application/vnd.jupyter.widget-view+json": {
       "model_id": "6c73a9fd69164eac8648a4044f2b0272",
       "version_major": 2,
       "version_minor": 0
      },
      "text/plain": [
       "  0%|          | 0/8 [00:00<?, ?it/s]"
      ]
     },
     "metadata": {},
     "output_type": "display_data"
    },
    {
     "data": {
      "application/vnd.jupyter.widget-view+json": {
       "model_id": "e1930ec9663248a7b3e6502f32fde2d3",
       "version_major": 2,
       "version_minor": 0
      },
      "text/plain": [
       "  0%|          | 0/9 [00:00<?, ?it/s]"
      ]
     },
     "metadata": {},
     "output_type": "display_data"
    },
    {
     "data": {
      "application/vnd.jupyter.widget-view+json": {
       "model_id": "c1657d8bd68647e69c23899903a97d36",
       "version_major": 2,
       "version_minor": 0
      },
      "text/plain": [
       "  0%|          | 0/12 [00:00<?, ?it/s]"
      ]
     },
     "metadata": {},
     "output_type": "display_data"
    },
    {
     "data": {
      "text/plain": [
       "(422, 422, 422, 422, 422, 422)"
      ]
     },
     "execution_count": 102,
     "metadata": {},
     "output_type": "execute_result"
    }
   ],
   "source": [
    "total_name, total_phn, total_addr, total_brand, total_price, total_service = get_station_info(gu_names)\n",
    "# 리스트 길이 확인\n",
    "len(total_name), len(total_phn), len(total_addr), len(total_brand), len(total_price), len(total_service)\n"
   ]
  },
  {
   "cell_type": "code",
   "execution_count": 119,
   "metadata": {},
   "outputs": [
    {
     "name": "stdout",
     "output_type": "stream",
     "text": [
      "{'': ''}\n"
     ]
    }
   ],
   "source": [
    "print(total_price[0])"
   ]
  },
  {
   "cell_type": "markdown",
   "metadata": {},
   "source": [
    "## 전체 데이터 Dataframe으로 변환 및 정보 수정"
   ]
  },
  {
   "cell_type": "code",
   "execution_count": 113,
   "metadata": {},
   "outputs": [
    {
     "data": {
      "text/html": [
       "<div>\n",
       "<style scoped>\n",
       "    .dataframe tbody tr th:only-of-type {\n",
       "        vertical-align: middle;\n",
       "    }\n",
       "\n",
       "    .dataframe tbody tr th {\n",
       "        vertical-align: top;\n",
       "    }\n",
       "\n",
       "    .dataframe thead th {\n",
       "        text-align: right;\n",
       "    }\n",
       "</style>\n",
       "<table border=\"1\" class=\"dataframe\">\n",
       "  <thead>\n",
       "    <tr style=\"text-align: right;\">\n",
       "      <th></th>\n",
       "      <th>상호</th>\n",
       "      <th>전화번호</th>\n",
       "      <th>주소</th>\n",
       "      <th>상표</th>\n",
       "      <th>부가정보</th>\n",
       "      <th></th>\n",
       "    </tr>\n",
       "  </thead>\n",
       "  <tbody>\n",
       "    <tr>\n",
       "      <th>402</th>\n",
       "      <td>장충드림주유소</td>\n",
       "      <td>02-2275-5150</td>\n",
       "      <td>서울 중구 동호로 296</td>\n",
       "      <td>S-OIL</td>\n",
       "      <td>세차장</td>\n",
       "      <td></td>\n",
       "    </tr>\n",
       "    <tr>\n",
       "      <th>403</th>\n",
       "      <td>약수주유소</td>\n",
       "      <td>02-2252-3345</td>\n",
       "      <td>서울 중구 다산로 173</td>\n",
       "      <td>SK에너지</td>\n",
       "      <td>세차장, 경정비, 24시영업</td>\n",
       "      <td></td>\n",
       "    </tr>\n",
       "    <tr>\n",
       "      <th>404</th>\n",
       "      <td>HD현대오일뱅크㈜직영 장원주유소</td>\n",
       "      <td>02-2236-2759</td>\n",
       "      <td>서울 중구 동호로 203 (신당동)</td>\n",
       "      <td>HD현대오일뱅크</td>\n",
       "      <td></td>\n",
       "      <td></td>\n",
       "    </tr>\n",
       "    <tr>\n",
       "      <th>405</th>\n",
       "      <td>SK에너지(주) 퇴계로주유소</td>\n",
       "      <td>02-2273-5189</td>\n",
       "      <td>서울 중구 퇴계로 228 (필동2가)</td>\n",
       "      <td>SK에너지</td>\n",
       "      <td></td>\n",
       "      <td></td>\n",
       "    </tr>\n",
       "    <tr>\n",
       "      <th>406</th>\n",
       "      <td>장충주유소</td>\n",
       "      <td>02-2279-9965</td>\n",
       "      <td>서울 중구 장충단로 202 (장충동1가)</td>\n",
       "      <td>SK에너지</td>\n",
       "      <td>세차장, 24시영업</td>\n",
       "      <td></td>\n",
       "    </tr>\n",
       "    <tr>\n",
       "      <th>407</th>\n",
       "      <td>신당동주유소</td>\n",
       "      <td>02-2252-6688</td>\n",
       "      <td>서울 중구 다산로 242 (신당동)</td>\n",
       "      <td>SK에너지</td>\n",
       "      <td>세차장, 24시영업</td>\n",
       "      <td></td>\n",
       "    </tr>\n",
       "    <tr>\n",
       "      <th>408</th>\n",
       "      <td>필동주유소</td>\n",
       "      <td>02-2267-8025</td>\n",
       "      <td>서울 중구 퇴계로 196</td>\n",
       "      <td>GS칼텍스</td>\n",
       "      <td>24시영업</td>\n",
       "      <td></td>\n",
       "    </tr>\n",
       "    <tr>\n",
       "      <th>409</th>\n",
       "      <td>서남주유소</td>\n",
       "      <td>02-752-9475</td>\n",
       "      <td>서울 중구 통일로 30</td>\n",
       "      <td>SK에너지</td>\n",
       "      <td>세차장, 24시영업</td>\n",
       "      <td></td>\n",
       "    </tr>\n",
       "    <tr>\n",
       "      <th>410</th>\n",
       "      <td>우림주유소</td>\n",
       "      <td>02-433-9990</td>\n",
       "      <td>서울 중랑구 용마산로 487 (망우제3동)</td>\n",
       "      <td>GS칼텍스</td>\n",
       "      <td>세차장</td>\n",
       "      <td></td>\n",
       "    </tr>\n",
       "    <tr>\n",
       "      <th>411</th>\n",
       "      <td>(주)자연에너지 대창주유소</td>\n",
       "      <td>02-434-1448</td>\n",
       "      <td>서울 중랑구 동일로 636 (면목동)</td>\n",
       "      <td>HD현대오일뱅크</td>\n",
       "      <td></td>\n",
       "      <td></td>\n",
       "    </tr>\n",
       "    <tr>\n",
       "      <th>412</th>\n",
       "      <td>대양주유소</td>\n",
       "      <td>02-437-5457</td>\n",
       "      <td>서울 중랑구 봉우재로 105 (상봉동)</td>\n",
       "      <td>GS칼텍스</td>\n",
       "      <td>세차장</td>\n",
       "      <td></td>\n",
       "    </tr>\n",
       "    <tr>\n",
       "      <th>413</th>\n",
       "      <td>면목SELF주유소</td>\n",
       "      <td>02-437-4072</td>\n",
       "      <td>서울 중랑구 동일로 627 (면목동)</td>\n",
       "      <td>SK에너지</td>\n",
       "      <td>세차장, 경정비</td>\n",
       "      <td></td>\n",
       "    </tr>\n",
       "    <tr>\n",
       "      <th>414</th>\n",
       "      <td>구도일주유소 동천</td>\n",
       "      <td>02-495-0081</td>\n",
       "      <td>서울 중랑구 동일로 654 (면목동)</td>\n",
       "      <td>S-OIL</td>\n",
       "      <td>세차장</td>\n",
       "      <td></td>\n",
       "    </tr>\n",
       "    <tr>\n",
       "      <th>415</th>\n",
       "      <td>대원주유소</td>\n",
       "      <td>02-438-6111</td>\n",
       "      <td>서울 중랑구 동일로 600</td>\n",
       "      <td>GS칼텍스</td>\n",
       "      <td>세차장</td>\n",
       "      <td></td>\n",
       "    </tr>\n",
       "    <tr>\n",
       "      <th>416</th>\n",
       "      <td>오천만주유소</td>\n",
       "      <td>070-7797-7474</td>\n",
       "      <td>서울 중랑구 동일로 547 (면목동)</td>\n",
       "      <td>S-OIL</td>\n",
       "      <td>세차장</td>\n",
       "      <td></td>\n",
       "    </tr>\n",
       "    <tr>\n",
       "      <th>417</th>\n",
       "      <td>(주)태영 구도일주유소 한인</td>\n",
       "      <td>02-438-5151</td>\n",
       "      <td>서울 중랑구 망우로 170</td>\n",
       "      <td>S-OIL</td>\n",
       "      <td>세차장, 경정비</td>\n",
       "      <td></td>\n",
       "    </tr>\n",
       "    <tr>\n",
       "      <th>418</th>\n",
       "      <td>범아주유소</td>\n",
       "      <td>02-974-8356</td>\n",
       "      <td>서울 중랑구 동일로 881</td>\n",
       "      <td>S-OIL</td>\n",
       "      <td>세차장, 경정비</td>\n",
       "      <td></td>\n",
       "    </tr>\n",
       "    <tr>\n",
       "      <th>419</th>\n",
       "      <td>신내주유소</td>\n",
       "      <td>02-2207-0523</td>\n",
       "      <td>서울 중랑구 용마산로 705 (신내동)</td>\n",
       "      <td>SK에너지</td>\n",
       "      <td>세차장</td>\n",
       "      <td></td>\n",
       "    </tr>\n",
       "    <tr>\n",
       "      <th>420</th>\n",
       "      <td>용마로주유소</td>\n",
       "      <td>02-439-3037</td>\n",
       "      <td>서울 중랑구 용마산로 309 (면목동)</td>\n",
       "      <td>SK에너지</td>\n",
       "      <td>세차장</td>\n",
       "      <td></td>\n",
       "    </tr>\n",
       "    <tr>\n",
       "      <th>421</th>\n",
       "      <td>신일셀프주유소</td>\n",
       "      <td>02-436-3651</td>\n",
       "      <td>서울 중랑구 상봉로 58 (망우동)</td>\n",
       "      <td>SK에너지</td>\n",
       "      <td>세차장, 경정비, 24시영업</td>\n",
       "      <td></td>\n",
       "    </tr>\n",
       "  </tbody>\n",
       "</table>\n",
       "</div>"
      ],
      "text/plain": [
       "                    상호           전화번호                       주소        상표  \\\n",
       "402            장충드림주유소   02-2275-5150            서울 중구 동호로 296     S-OIL   \n",
       "403              약수주유소   02-2252-3345            서울 중구 다산로 173     SK에너지   \n",
       "404  HD현대오일뱅크㈜직영 장원주유소   02-2236-2759      서울 중구 동호로 203 (신당동)  HD현대오일뱅크   \n",
       "405    SK에너지(주) 퇴계로주유소   02-2273-5189     서울 중구 퇴계로 228 (필동2가)     SK에너지   \n",
       "406              장충주유소   02-2279-9965   서울 중구 장충단로 202 (장충동1가)     SK에너지   \n",
       "407             신당동주유소   02-2252-6688      서울 중구 다산로 242 (신당동)     SK에너지   \n",
       "408              필동주유소   02-2267-8025            서울 중구 퇴계로 196     GS칼텍스   \n",
       "409              서남주유소    02-752-9475             서울 중구 통일로 30     SK에너지   \n",
       "410              우림주유소    02-433-9990  서울 중랑구 용마산로 487 (망우제3동)     GS칼텍스   \n",
       "411     (주)자연에너지 대창주유소    02-434-1448     서울 중랑구 동일로 636 (면목동)  HD현대오일뱅크   \n",
       "412              대양주유소    02-437-5457    서울 중랑구 봉우재로 105 (상봉동)     GS칼텍스   \n",
       "413          면목SELF주유소    02-437-4072     서울 중랑구 동일로 627 (면목동)     SK에너지   \n",
       "414          구도일주유소 동천    02-495-0081     서울 중랑구 동일로 654 (면목동)     S-OIL   \n",
       "415              대원주유소    02-438-6111           서울 중랑구 동일로 600     GS칼텍스   \n",
       "416             오천만주유소  070-7797-7474     서울 중랑구 동일로 547 (면목동)     S-OIL   \n",
       "417    (주)태영 구도일주유소 한인    02-438-5151           서울 중랑구 망우로 170     S-OIL   \n",
       "418              범아주유소    02-974-8356           서울 중랑구 동일로 881     S-OIL   \n",
       "419              신내주유소   02-2207-0523    서울 중랑구 용마산로 705 (신내동)     SK에너지   \n",
       "420             용마로주유소    02-439-3037    서울 중랑구 용마산로 309 (면목동)     SK에너지   \n",
       "421            신일셀프주유소    02-436-3651      서울 중랑구 상봉로 58 (망우동)     SK에너지   \n",
       "\n",
       "                부가정보    \n",
       "402              세차장    \n",
       "403  세차장, 경정비, 24시영업    \n",
       "404                     \n",
       "405                     \n",
       "406       세차장, 24시영업    \n",
       "407       세차장, 24시영업    \n",
       "408            24시영업    \n",
       "409       세차장, 24시영업    \n",
       "410              세차장    \n",
       "411                     \n",
       "412              세차장    \n",
       "413         세차장, 경정비    \n",
       "414              세차장    \n",
       "415              세차장    \n",
       "416              세차장    \n",
       "417         세차장, 경정비    \n",
       "418         세차장, 경정비    \n",
       "419              세차장    \n",
       "420              세차장    \n",
       "421  세차장, 경정비, 24시영업    "
      ]
     },
     "execution_count": 113,
     "metadata": {},
     "output_type": "execute_result"
    }
   ],
   "source": [
    "seoul_oil_data = {'상호':total_name, \n",
    "            '전화번호':total_phn, \n",
    "            \"주소\":total_addr,\n",
    "            \"상표\":total_brand,\n",
    "            \"유종별 가격\":total_price,\n",
    "            \"부가정보\":total_service}\n",
    "\n",
    "seoul_oil_df = pd.DataFrame(seoul_oil_data)\n",
    "\n",
    "seoul_oil_df.sort_index(inplace=True)\n",
    "seoul_oil_df['부가정보'] = seoul_oil_df['부가정보'].apply(clean_list_to_string) # 문자열 형태로 표시\n",
    "\n",
    "# 유종별 가격 열 변환\n",
    "seoul_oil_df = pd.concat(\n",
    "    [seoul_oil_df.drop(columns=['유종별 가격']), seoul_oil_df['유종별 가격'].apply(pd.Series)], axis=1)\n",
    "\n",
    "seoul_oil_df.tail(20)"
   ]
  },
  {
   "cell_type": "code",
   "execution_count": 114,
   "metadata": {},
   "outputs": [
    {
     "data": {
      "text/html": [
       "<div>\n",
       "<style scoped>\n",
       "    .dataframe tbody tr th:only-of-type {\n",
       "        vertical-align: middle;\n",
       "    }\n",
       "\n",
       "    .dataframe tbody tr th {\n",
       "        vertical-align: top;\n",
       "    }\n",
       "\n",
       "    .dataframe thead th {\n",
       "        text-align: right;\n",
       "    }\n",
       "</style>\n",
       "<table border=\"1\" class=\"dataframe\">\n",
       "  <thead>\n",
       "    <tr style=\"text-align: right;\">\n",
       "      <th></th>\n",
       "      <th>상호</th>\n",
       "      <th>전화번호</th>\n",
       "      <th>주소</th>\n",
       "      <th>상표</th>\n",
       "      <th>부가정보</th>\n",
       "      <th></th>\n",
       "      <th>구</th>\n",
       "    </tr>\n",
       "  </thead>\n",
       "  <tbody>\n",
       "    <tr>\n",
       "      <th>0</th>\n",
       "      <td>지에스칼텍스㈜ 은마주유소</td>\n",
       "      <td>02-3452-1882</td>\n",
       "      <td>서울 강남구 영동대로 235</td>\n",
       "      <td>GS칼텍스</td>\n",
       "      <td>세차장, 경정비</td>\n",
       "      <td></td>\n",
       "      <td>강남구</td>\n",
       "    </tr>\n",
       "    <tr>\n",
       "      <th>1</th>\n",
       "      <td>HD현대오일뱅크㈜직영 강남셀프주유소</td>\n",
       "      <td>02-3462-0018</td>\n",
       "      <td>서울 강남구 도곡로 208</td>\n",
       "      <td>HD현대오일뱅크</td>\n",
       "      <td>세차장</td>\n",
       "      <td></td>\n",
       "      <td>강남구</td>\n",
       "    </tr>\n",
       "    <tr>\n",
       "      <th>2</th>\n",
       "      <td>(주)보성 세곡주유소</td>\n",
       "      <td>02-445-6870</td>\n",
       "      <td>서울 강남구 헌릉로 731 (세곡동)</td>\n",
       "      <td>SK에너지</td>\n",
       "      <td>세차장</td>\n",
       "      <td></td>\n",
       "      <td>강남구</td>\n",
       "    </tr>\n",
       "    <tr>\n",
       "      <th>3</th>\n",
       "      <td>방죽주유소</td>\n",
       "      <td>02-459-3434</td>\n",
       "      <td>서울 강남구 밤고개로 215 (율현동)</td>\n",
       "      <td>GS칼텍스</td>\n",
       "      <td>세차장</td>\n",
       "      <td></td>\n",
       "      <td>강남구</td>\n",
       "    </tr>\n",
       "    <tr>\n",
       "      <th>4</th>\n",
       "      <td>HD현대오일뱅크㈜직영 도곡셀프주유소</td>\n",
       "      <td>02-529-5101</td>\n",
       "      <td>서울 강남구 남부순환로 2718</td>\n",
       "      <td>HD현대오일뱅크</td>\n",
       "      <td>세차장, 경정비</td>\n",
       "      <td></td>\n",
       "      <td>강남구</td>\n",
       "    </tr>\n",
       "  </tbody>\n",
       "</table>\n",
       "</div>"
      ],
      "text/plain": [
       "                    상호          전화번호                     주소        상표  \\\n",
       "0        지에스칼텍스㈜ 은마주유소  02-3452-1882        서울 강남구 영동대로 235     GS칼텍스   \n",
       "1  HD현대오일뱅크㈜직영 강남셀프주유소  02-3462-0018         서울 강남구 도곡로 208  HD현대오일뱅크   \n",
       "2          (주)보성 세곡주유소   02-445-6870   서울 강남구 헌릉로 731 (세곡동)     SK에너지   \n",
       "3                방죽주유소   02-459-3434  서울 강남구 밤고개로 215 (율현동)     GS칼텍스   \n",
       "4  HD현대오일뱅크㈜직영 도곡셀프주유소   02-529-5101      서울 강남구 남부순환로 2718  HD현대오일뱅크   \n",
       "\n",
       "       부가정보      구  \n",
       "0  세차장, 경정비    강남구  \n",
       "1       세차장    강남구  \n",
       "2       세차장    강남구  \n",
       "3       세차장    강남구  \n",
       "4  세차장, 경정비    강남구  "
      ]
     },
     "execution_count": 114,
     "metadata": {},
     "output_type": "execute_result"
    }
   ],
   "source": [
    "seoul_oil_df[\"구\"] = [address.split()[1] for address in seoul_oil_df[\"주소\"]]\n",
    "seoul_oil_df.head()"
   ]
  },
  {
   "cell_type": "code",
   "execution_count": 115,
   "metadata": {},
   "outputs": [
    {
     "data": {
      "text/plain": [
       "(array(['강남구', '강동구', '강북구', '강서구', '관악구', '광진구', '구로구', '금천구', '노원구',\n",
       "        '도봉구', '동대문구', '동작구', '마포구', '서대문구', '서초구', '성동구', '성북구', '송파구',\n",
       "        '양천구', '영등포구', '용산구', '은평구', '종로구', '중구', '중랑구'], dtype=object),\n",
       " 25)"
      ]
     },
     "execution_count": 115,
     "metadata": {},
     "output_type": "execute_result"
    }
   ],
   "source": [
    "seoul_oil_df[\"구\"].unique(), len(seoul_oil_df[\"구\"].unique())"
   ]
  },
  {
   "cell_type": "code",
   "execution_count": 116,
   "metadata": {},
   "outputs": [],
   "source": [
    "seoul_oil_df.to_csv(\"../data/seoul_station_info.csv\", sep=\",\", encoding=\"utf-8\")"
   ]
  },
  {
   "cell_type": "code",
   "execution_count": 117,
   "metadata": {},
   "outputs": [],
   "source": [
    "driver.quit()"
   ]
  }
 ],
 "metadata": {
  "kernelspec": {
   "display_name": "eda_venv",
   "language": "python",
   "name": "python3"
  },
  "language_info": {
   "codemirror_mode": {
    "name": "ipython",
    "version": 3
   },
   "file_extension": ".py",
   "mimetype": "text/x-python",
   "name": "python",
   "nbconvert_exporter": "python",
   "pygments_lexer": "ipython3",
   "version": "3.12.7"
  }
 },
 "nbformat": 4,
 "nbformat_minor": 2
}
